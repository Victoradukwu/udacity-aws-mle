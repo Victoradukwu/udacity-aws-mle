{
 "cells": [
  {
   "cell_type": "markdown",
   "metadata": {},
   "source": [
    "## Data Download and Analysis"
   ]
  },
  {
   "cell_type": "code",
   "execution_count": 8,
   "metadata": {},
   "outputs": [],
   "source": [
    "import pandas as pd\n",
    "import matplotlib.pyplot as plt\n",
    "from autogluon.tabular import TabularDataset, TabularPredictor"
   ]
  },
  {
   "cell_type": "code",
   "execution_count": 23,
   "metadata": {},
   "outputs": [
    {
     "name": "stdout",
     "output_type": "stream",
     "text": [
      "Warning: Your Kaggle API key is readable by other users on this system! To fix this, you can run 'chmod 600 /Users/Victor/.kaggle/kaggle.json'\n",
      "Downloading bike-sharing-demand.zip to /Users/Victor/Projects/udacity-aws-mle/bike-sharing/notebooks\n",
      "100%|████████████████████████████████████████| 189k/189k [00:03<00:00, 48.7kB/s]\n",
      "100%|████████████████████████████████████████| 189k/189k [00:03<00:00, 48.7kB/s]\n"
     ]
    }
   ],
   "source": [
    "! kaggle competitions download -c bike-sharing-demand"
   ]
  },
  {
   "cell_type": "code",
   "execution_count": 24,
   "metadata": {},
   "outputs": [],
   "source": [
    "! mv bike-sharing-demand.zip ../datasets/bike-sharing-demand.zip"
   ]
  },
  {
   "cell_type": "code",
   "execution_count": 9,
   "metadata": {},
   "outputs": [],
   "source": [
    "train_data = pd.read_csv('../datasets/train.csv')"
   ]
  },
  {
   "cell_type": "code",
   "execution_count": 10,
   "metadata": {},
   "outputs": [
    {
     "name": "stdout",
     "output_type": "stream",
     "text": [
      "<class 'pandas.core.frame.DataFrame'>\n",
      "RangeIndex: 10886 entries, 0 to 10885\n",
      "Data columns (total 12 columns):\n",
      " #   Column      Non-Null Count  Dtype  \n",
      "---  ------      --------------  -----  \n",
      " 0   datetime    10886 non-null  object \n",
      " 1   season      10886 non-null  int64  \n",
      " 2   holiday     10886 non-null  int64  \n",
      " 3   workingday  10886 non-null  int64  \n",
      " 4   weather     10886 non-null  int64  \n",
      " 5   temp        10886 non-null  float64\n",
      " 6   atemp       10886 non-null  float64\n",
      " 7   humidity    10886 non-null  int64  \n",
      " 8   windspeed   10886 non-null  float64\n",
      " 9   casual      10886 non-null  int64  \n",
      " 10  registered  10886 non-null  int64  \n",
      " 11  count       10886 non-null  int64  \n",
      "dtypes: float64(3), int64(8), object(1)\n",
      "memory usage: 1020.7+ KB\n"
     ]
    }
   ],
   "source": [
    "# Basic information about the data\n",
    "\n",
    "train_data.info()"
   ]
  },
  {
   "cell_type": "code",
   "execution_count": 11,
   "metadata": {},
   "outputs": [
    {
     "data": {
      "text/html": [
       "<div>\n",
       "<style scoped>\n",
       "    .dataframe tbody tr th:only-of-type {\n",
       "        vertical-align: middle;\n",
       "    }\n",
       "\n",
       "    .dataframe tbody tr th {\n",
       "        vertical-align: top;\n",
       "    }\n",
       "\n",
       "    .dataframe thead th {\n",
       "        text-align: right;\n",
       "    }\n",
       "</style>\n",
       "<table border=\"1\" class=\"dataframe\">\n",
       "  <thead>\n",
       "    <tr style=\"text-align: right;\">\n",
       "      <th></th>\n",
       "      <th>datetime</th>\n",
       "      <th>season</th>\n",
       "      <th>holiday</th>\n",
       "      <th>workingday</th>\n",
       "      <th>weather</th>\n",
       "      <th>temp</th>\n",
       "      <th>atemp</th>\n",
       "      <th>humidity</th>\n",
       "      <th>windspeed</th>\n",
       "      <th>casual</th>\n",
       "      <th>registered</th>\n",
       "      <th>count</th>\n",
       "    </tr>\n",
       "  </thead>\n",
       "  <tbody>\n",
       "    <tr>\n",
       "      <th>4167</th>\n",
       "      <td>2011-10-05 16:00:00</td>\n",
       "      <td>4</td>\n",
       "      <td>0</td>\n",
       "      <td>1</td>\n",
       "      <td>1</td>\n",
       "      <td>26.24</td>\n",
       "      <td>31.060</td>\n",
       "      <td>47</td>\n",
       "      <td>22.0028</td>\n",
       "      <td>37</td>\n",
       "      <td>245</td>\n",
       "      <td>282</td>\n",
       "    </tr>\n",
       "    <tr>\n",
       "      <th>8163</th>\n",
       "      <td>2012-07-01 12:00:00</td>\n",
       "      <td>3</td>\n",
       "      <td>0</td>\n",
       "      <td>0</td>\n",
       "      <td>1</td>\n",
       "      <td>36.90</td>\n",
       "      <td>40.910</td>\n",
       "      <td>37</td>\n",
       "      <td>15.0013</td>\n",
       "      <td>114</td>\n",
       "      <td>319</td>\n",
       "      <td>433</td>\n",
       "    </tr>\n",
       "    <tr>\n",
       "      <th>3650</th>\n",
       "      <td>2011-09-03 00:00:00</td>\n",
       "      <td>3</td>\n",
       "      <td>0</td>\n",
       "      <td>0</td>\n",
       "      <td>2</td>\n",
       "      <td>26.24</td>\n",
       "      <td>30.305</td>\n",
       "      <td>73</td>\n",
       "      <td>7.0015</td>\n",
       "      <td>22</td>\n",
       "      <td>65</td>\n",
       "      <td>87</td>\n",
       "    </tr>\n",
       "    <tr>\n",
       "      <th>3460</th>\n",
       "      <td>2011-08-14 02:00:00</td>\n",
       "      <td>3</td>\n",
       "      <td>0</td>\n",
       "      <td>0</td>\n",
       "      <td>3</td>\n",
       "      <td>26.24</td>\n",
       "      <td>28.790</td>\n",
       "      <td>89</td>\n",
       "      <td>15.0013</td>\n",
       "      <td>13</td>\n",
       "      <td>49</td>\n",
       "      <td>62</td>\n",
       "    </tr>\n",
       "    <tr>\n",
       "      <th>4664</th>\n",
       "      <td>2011-11-07 10:00:00</td>\n",
       "      <td>4</td>\n",
       "      <td>0</td>\n",
       "      <td>1</td>\n",
       "      <td>1</td>\n",
       "      <td>14.76</td>\n",
       "      <td>17.425</td>\n",
       "      <td>93</td>\n",
       "      <td>8.9981</td>\n",
       "      <td>28</td>\n",
       "      <td>95</td>\n",
       "      <td>123</td>\n",
       "    </tr>\n",
       "  </tbody>\n",
       "</table>\n",
       "</div>"
      ],
      "text/plain": [
       "                 datetime  season  holiday  workingday  weather   temp  \\\n",
       "4167  2011-10-05 16:00:00       4        0           1        1  26.24   \n",
       "8163  2012-07-01 12:00:00       3        0           0        1  36.90   \n",
       "3650  2011-09-03 00:00:00       3        0           0        2  26.24   \n",
       "3460  2011-08-14 02:00:00       3        0           0        3  26.24   \n",
       "4664  2011-11-07 10:00:00       4        0           1        1  14.76   \n",
       "\n",
       "       atemp  humidity  windspeed  casual  registered  count  \n",
       "4167  31.060        47    22.0028      37         245    282  \n",
       "8163  40.910        37    15.0013     114         319    433  \n",
       "3650  30.305        73     7.0015      22          65     87  \n",
       "3460  28.790        89    15.0013      13          49     62  \n",
       "4664  17.425        93     8.9981      28          95    123  "
      ]
     },
     "execution_count": 11,
     "metadata": {},
     "output_type": "execute_result"
    }
   ],
   "source": [
    "train_data.sample(5)"
   ]
  },
  {
   "cell_type": "code",
   "execution_count": 12,
   "metadata": {},
   "outputs": [
    {
     "name": "stdout",
     "output_type": "stream",
     "text": [
      "<class 'pandas.core.frame.DataFrame'>\n",
      "RangeIndex: 6493 entries, 0 to 6492\n",
      "Data columns (total 9 columns):\n",
      " #   Column      Non-Null Count  Dtype  \n",
      "---  ------      --------------  -----  \n",
      " 0   datetime    6493 non-null   object \n",
      " 1   season      6493 non-null   int64  \n",
      " 2   holiday     6493 non-null   int64  \n",
      " 3   workingday  6493 non-null   int64  \n",
      " 4   weather     6493 non-null   int64  \n",
      " 5   temp        6493 non-null   float64\n",
      " 6   atemp       6493 non-null   float64\n",
      " 7   humidity    6493 non-null   int64  \n",
      " 8   windspeed   6493 non-null   float64\n",
      "dtypes: float64(3), int64(5), object(1)\n",
      "memory usage: 456.7+ KB\n"
     ]
    }
   ],
   "source": [
    "test_data = pd.read_csv('../datasets/test.csv')\n",
    "test_data.info()"
   ]
  },
  {
   "cell_type": "code",
   "execution_count": 13,
   "metadata": {},
   "outputs": [
    {
     "data": {
      "text/html": [
       "<div>\n",
       "<style scoped>\n",
       "    .dataframe tbody tr th:only-of-type {\n",
       "        vertical-align: middle;\n",
       "    }\n",
       "\n",
       "    .dataframe tbody tr th {\n",
       "        vertical-align: top;\n",
       "    }\n",
       "\n",
       "    .dataframe thead th {\n",
       "        text-align: right;\n",
       "    }\n",
       "</style>\n",
       "<table border=\"1\" class=\"dataframe\">\n",
       "  <thead>\n",
       "    <tr style=\"text-align: right;\">\n",
       "      <th></th>\n",
       "      <th>datetime</th>\n",
       "      <th>season</th>\n",
       "      <th>holiday</th>\n",
       "      <th>workingday</th>\n",
       "      <th>weather</th>\n",
       "      <th>temp</th>\n",
       "      <th>atemp</th>\n",
       "      <th>humidity</th>\n",
       "      <th>windspeed</th>\n",
       "    </tr>\n",
       "  </thead>\n",
       "  <tbody>\n",
       "    <tr>\n",
       "      <th>4061</th>\n",
       "      <td>2012-04-21 01:00:00</td>\n",
       "      <td>2</td>\n",
       "      <td>0</td>\n",
       "      <td>0</td>\n",
       "      <td>1</td>\n",
       "      <td>21.32</td>\n",
       "      <td>25.000</td>\n",
       "      <td>77</td>\n",
       "      <td>15.0013</td>\n",
       "    </tr>\n",
       "    <tr>\n",
       "      <th>1617</th>\n",
       "      <td>2011-07-22 09:00:00</td>\n",
       "      <td>3</td>\n",
       "      <td>0</td>\n",
       "      <td>1</td>\n",
       "      <td>1</td>\n",
       "      <td>35.26</td>\n",
       "      <td>44.695</td>\n",
       "      <td>63</td>\n",
       "      <td>6.0032</td>\n",
       "    </tr>\n",
       "    <tr>\n",
       "      <th>5101</th>\n",
       "      <td>2012-07-30 09:00:00</td>\n",
       "      <td>3</td>\n",
       "      <td>0</td>\n",
       "      <td>1</td>\n",
       "      <td>2</td>\n",
       "      <td>30.34</td>\n",
       "      <td>34.850</td>\n",
       "      <td>70</td>\n",
       "      <td>0.0000</td>\n",
       "    </tr>\n",
       "    <tr>\n",
       "      <th>4589</th>\n",
       "      <td>2012-06-20 01:00:00</td>\n",
       "      <td>2</td>\n",
       "      <td>0</td>\n",
       "      <td>1</td>\n",
       "      <td>1</td>\n",
       "      <td>27.88</td>\n",
       "      <td>31.820</td>\n",
       "      <td>79</td>\n",
       "      <td>12.9980</td>\n",
       "    </tr>\n",
       "    <tr>\n",
       "      <th>1921</th>\n",
       "      <td>2011-08-23 01:00:00</td>\n",
       "      <td>3</td>\n",
       "      <td>0</td>\n",
       "      <td>1</td>\n",
       "      <td>1</td>\n",
       "      <td>23.78</td>\n",
       "      <td>27.275</td>\n",
       "      <td>49</td>\n",
       "      <td>12.9980</td>\n",
       "    </tr>\n",
       "  </tbody>\n",
       "</table>\n",
       "</div>"
      ],
      "text/plain": [
       "                 datetime  season  holiday  workingday  weather   temp  \\\n",
       "4061  2012-04-21 01:00:00       2        0           0        1  21.32   \n",
       "1617  2011-07-22 09:00:00       3        0           1        1  35.26   \n",
       "5101  2012-07-30 09:00:00       3        0           1        2  30.34   \n",
       "4589  2012-06-20 01:00:00       2        0           1        1  27.88   \n",
       "1921  2011-08-23 01:00:00       3        0           1        1  23.78   \n",
       "\n",
       "       atemp  humidity  windspeed  \n",
       "4061  25.000        77    15.0013  \n",
       "1617  44.695        63     6.0032  \n",
       "5101  34.850        70     0.0000  \n",
       "4589  31.820        79    12.9980  \n",
       "1921  27.275        49    12.9980  "
      ]
     },
     "execution_count": 13,
     "metadata": {},
     "output_type": "execute_result"
    }
   ],
   "source": [
    "test_data.sample(5)"
   ]
  },
  {
   "cell_type": "code",
   "execution_count": 14,
   "metadata": {},
   "outputs": [
    {
     "data": {
      "text/html": [
       "<div>\n",
       "<style scoped>\n",
       "    .dataframe tbody tr th:only-of-type {\n",
       "        vertical-align: middle;\n",
       "    }\n",
       "\n",
       "    .dataframe tbody tr th {\n",
       "        vertical-align: top;\n",
       "    }\n",
       "\n",
       "    .dataframe thead th {\n",
       "        text-align: right;\n",
       "    }\n",
       "</style>\n",
       "<table border=\"1\" class=\"dataframe\">\n",
       "  <thead>\n",
       "    <tr style=\"text-align: right;\">\n",
       "      <th></th>\n",
       "      <th>season</th>\n",
       "      <th>holiday</th>\n",
       "      <th>workingday</th>\n",
       "      <th>weather</th>\n",
       "      <th>temp</th>\n",
       "      <th>atemp</th>\n",
       "      <th>humidity</th>\n",
       "      <th>windspeed</th>\n",
       "      <th>casual</th>\n",
       "      <th>registered</th>\n",
       "      <th>count</th>\n",
       "    </tr>\n",
       "  </thead>\n",
       "  <tbody>\n",
       "    <tr>\n",
       "      <th>season</th>\n",
       "      <td>1.000000</td>\n",
       "      <td>0.029368</td>\n",
       "      <td>-0.008126</td>\n",
       "      <td>0.008879</td>\n",
       "      <td>0.258689</td>\n",
       "      <td>0.264744</td>\n",
       "      <td>0.190610</td>\n",
       "      <td>-0.147121</td>\n",
       "      <td>0.096758</td>\n",
       "      <td>0.164011</td>\n",
       "      <td>0.163439</td>\n",
       "    </tr>\n",
       "    <tr>\n",
       "      <th>holiday</th>\n",
       "      <td>0.029368</td>\n",
       "      <td>1.000000</td>\n",
       "      <td>-0.250491</td>\n",
       "      <td>-0.007074</td>\n",
       "      <td>0.000295</td>\n",
       "      <td>-0.005215</td>\n",
       "      <td>0.001929</td>\n",
       "      <td>0.008409</td>\n",
       "      <td>0.043799</td>\n",
       "      <td>-0.020956</td>\n",
       "      <td>-0.005393</td>\n",
       "    </tr>\n",
       "    <tr>\n",
       "      <th>workingday</th>\n",
       "      <td>-0.008126</td>\n",
       "      <td>-0.250491</td>\n",
       "      <td>1.000000</td>\n",
       "      <td>0.033772</td>\n",
       "      <td>0.029966</td>\n",
       "      <td>0.024660</td>\n",
       "      <td>-0.010880</td>\n",
       "      <td>0.013373</td>\n",
       "      <td>-0.319111</td>\n",
       "      <td>0.119460</td>\n",
       "      <td>0.011594</td>\n",
       "    </tr>\n",
       "    <tr>\n",
       "      <th>weather</th>\n",
       "      <td>0.008879</td>\n",
       "      <td>-0.007074</td>\n",
       "      <td>0.033772</td>\n",
       "      <td>1.000000</td>\n",
       "      <td>-0.055035</td>\n",
       "      <td>-0.055376</td>\n",
       "      <td>0.406244</td>\n",
       "      <td>0.007261</td>\n",
       "      <td>-0.135918</td>\n",
       "      <td>-0.109340</td>\n",
       "      <td>-0.128655</td>\n",
       "    </tr>\n",
       "    <tr>\n",
       "      <th>temp</th>\n",
       "      <td>0.258689</td>\n",
       "      <td>0.000295</td>\n",
       "      <td>0.029966</td>\n",
       "      <td>-0.055035</td>\n",
       "      <td>1.000000</td>\n",
       "      <td>0.984948</td>\n",
       "      <td>-0.064949</td>\n",
       "      <td>-0.017852</td>\n",
       "      <td>0.467097</td>\n",
       "      <td>0.318571</td>\n",
       "      <td>0.394454</td>\n",
       "    </tr>\n",
       "    <tr>\n",
       "      <th>atemp</th>\n",
       "      <td>0.264744</td>\n",
       "      <td>-0.005215</td>\n",
       "      <td>0.024660</td>\n",
       "      <td>-0.055376</td>\n",
       "      <td>0.984948</td>\n",
       "      <td>1.000000</td>\n",
       "      <td>-0.043536</td>\n",
       "      <td>-0.057473</td>\n",
       "      <td>0.462067</td>\n",
       "      <td>0.314635</td>\n",
       "      <td>0.389784</td>\n",
       "    </tr>\n",
       "    <tr>\n",
       "      <th>humidity</th>\n",
       "      <td>0.190610</td>\n",
       "      <td>0.001929</td>\n",
       "      <td>-0.010880</td>\n",
       "      <td>0.406244</td>\n",
       "      <td>-0.064949</td>\n",
       "      <td>-0.043536</td>\n",
       "      <td>1.000000</td>\n",
       "      <td>-0.318607</td>\n",
       "      <td>-0.348187</td>\n",
       "      <td>-0.265458</td>\n",
       "      <td>-0.317371</td>\n",
       "    </tr>\n",
       "    <tr>\n",
       "      <th>windspeed</th>\n",
       "      <td>-0.147121</td>\n",
       "      <td>0.008409</td>\n",
       "      <td>0.013373</td>\n",
       "      <td>0.007261</td>\n",
       "      <td>-0.017852</td>\n",
       "      <td>-0.057473</td>\n",
       "      <td>-0.318607</td>\n",
       "      <td>1.000000</td>\n",
       "      <td>0.092276</td>\n",
       "      <td>0.091052</td>\n",
       "      <td>0.101369</td>\n",
       "    </tr>\n",
       "    <tr>\n",
       "      <th>casual</th>\n",
       "      <td>0.096758</td>\n",
       "      <td>0.043799</td>\n",
       "      <td>-0.319111</td>\n",
       "      <td>-0.135918</td>\n",
       "      <td>0.467097</td>\n",
       "      <td>0.462067</td>\n",
       "      <td>-0.348187</td>\n",
       "      <td>0.092276</td>\n",
       "      <td>1.000000</td>\n",
       "      <td>0.497250</td>\n",
       "      <td>0.690414</td>\n",
       "    </tr>\n",
       "    <tr>\n",
       "      <th>registered</th>\n",
       "      <td>0.164011</td>\n",
       "      <td>-0.020956</td>\n",
       "      <td>0.119460</td>\n",
       "      <td>-0.109340</td>\n",
       "      <td>0.318571</td>\n",
       "      <td>0.314635</td>\n",
       "      <td>-0.265458</td>\n",
       "      <td>0.091052</td>\n",
       "      <td>0.497250</td>\n",
       "      <td>1.000000</td>\n",
       "      <td>0.970948</td>\n",
       "    </tr>\n",
       "    <tr>\n",
       "      <th>count</th>\n",
       "      <td>0.163439</td>\n",
       "      <td>-0.005393</td>\n",
       "      <td>0.011594</td>\n",
       "      <td>-0.128655</td>\n",
       "      <td>0.394454</td>\n",
       "      <td>0.389784</td>\n",
       "      <td>-0.317371</td>\n",
       "      <td>0.101369</td>\n",
       "      <td>0.690414</td>\n",
       "      <td>0.970948</td>\n",
       "      <td>1.000000</td>\n",
       "    </tr>\n",
       "  </tbody>\n",
       "</table>\n",
       "</div>"
      ],
      "text/plain": [
       "              season   holiday  workingday   weather      temp     atemp  \\\n",
       "season      1.000000  0.029368   -0.008126  0.008879  0.258689  0.264744   \n",
       "holiday     0.029368  1.000000   -0.250491 -0.007074  0.000295 -0.005215   \n",
       "workingday -0.008126 -0.250491    1.000000  0.033772  0.029966  0.024660   \n",
       "weather     0.008879 -0.007074    0.033772  1.000000 -0.055035 -0.055376   \n",
       "temp        0.258689  0.000295    0.029966 -0.055035  1.000000  0.984948   \n",
       "atemp       0.264744 -0.005215    0.024660 -0.055376  0.984948  1.000000   \n",
       "humidity    0.190610  0.001929   -0.010880  0.406244 -0.064949 -0.043536   \n",
       "windspeed  -0.147121  0.008409    0.013373  0.007261 -0.017852 -0.057473   \n",
       "casual      0.096758  0.043799   -0.319111 -0.135918  0.467097  0.462067   \n",
       "registered  0.164011 -0.020956    0.119460 -0.109340  0.318571  0.314635   \n",
       "count       0.163439 -0.005393    0.011594 -0.128655  0.394454  0.389784   \n",
       "\n",
       "            humidity  windspeed    casual  registered     count  \n",
       "season      0.190610  -0.147121  0.096758    0.164011  0.163439  \n",
       "holiday     0.001929   0.008409  0.043799   -0.020956 -0.005393  \n",
       "workingday -0.010880   0.013373 -0.319111    0.119460  0.011594  \n",
       "weather     0.406244   0.007261 -0.135918   -0.109340 -0.128655  \n",
       "temp       -0.064949  -0.017852  0.467097    0.318571  0.394454  \n",
       "atemp      -0.043536  -0.057473  0.462067    0.314635  0.389784  \n",
       "humidity    1.000000  -0.318607 -0.348187   -0.265458 -0.317371  \n",
       "windspeed  -0.318607   1.000000  0.092276    0.091052  0.101369  \n",
       "casual     -0.348187   0.092276  1.000000    0.497250  0.690414  \n",
       "registered -0.265458   0.091052  0.497250    1.000000  0.970948  \n",
       "count      -0.317371   0.101369  0.690414    0.970948  1.000000  "
      ]
     },
     "execution_count": 14,
     "metadata": {},
     "output_type": "execute_result"
    }
   ],
   "source": [
    "train_data.corr()"
   ]
  },
  {
   "cell_type": "raw",
   "metadata": {},
   "source": []
  },
  {
   "cell_type": "markdown",
   "metadata": {},
   "source": [
    "## Histogram"
   ]
  },
  {
   "cell_type": "code",
   "execution_count": 49,
   "metadata": {},
   "outputs": [
    {
     "data": {
      "text/plain": [
       "Text(0, 0.5, 'Season')"
      ]
     },
     "execution_count": 49,
     "metadata": {},
     "output_type": "execute_result"
    },
    {
     "data": {
      "image/png": "[encoded data removed]",
      "text/plain": [
       "<Figure size 1008x504 with 6 Axes>"
      ]
     },
     "metadata": {
      "needs_background": "light"
     },
     "output_type": "display_data"
    }
   ],
   "source": [
    "f, ax_arr = plt.subplots(3, 2, figsize=(14,7), tight_layout=True)\n",
    "ax_arr[0,0].hist(train_data['count'], bins=20, color='green')\n",
    "ax_arr[0,0].set_title('Count Histogram')\n",
    "ax_arr[0,0].set_xlabel('Bins')\n",
    "ax_arr[0,0].set_ylabel('Counts')\n",
    "\n",
    "ax_arr[0,1].hist(train_data['windspeed'], bins=20, color='c')\n",
    "ax_arr[0,1].set_title('Windspeed Histogram')\n",
    "ax_arr[0,1].set_xlabel('Bins')\n",
    "ax_arr[0,1].set_ylabel('Windspeed')\n",
    "\n",
    "ax_arr[1,0].hist(train_data['weather'], bins=20, color='red')\n",
    "ax_arr[1,0].set_title('Weather Histogram')\n",
    "ax_arr[1,0].set_xlabel('Bins')\n",
    "ax_arr[1,0].set_ylabel('Weather')\n",
    "\n",
    "ax_arr[1,1].hist(train_data.humidity, bins=20, color='indigo')\n",
    "ax_arr[1,1].set_title('Humidity Histogram')\n",
    "ax_arr[1,1].set_xlabel('Bins')\n",
    "ax_arr[1,1].set_ylabel('Humidity')\n",
    "\n",
    "ax_arr[2,0].hist(train_data.temp, bins=20, color='orange')\n",
    "ax_arr[2,0].set_title('Temperature Histogram')\n",
    "ax_arr[2,0].set_xlabel('Bins')\n",
    "ax_arr[2,0].set_ylabel('Temperature')\n",
    "\n",
    "ax_arr[2,1].hist(train_data.season, bins=20, color='blue')\n",
    "ax_arr[2,1].set_title('Season Histogram')\n",
    "ax_arr[2,1].set_xlabel('Bins')\n",
    "ax_arr[2,1].set_ylabel('Season')\n",
    "\n"
   ]
  },
  {
   "cell_type": "markdown",
   "metadata": {},
   "source": [
    "## Creating Reproducible Script"
   ]
  },
  {
   "cell_type": "code",
   "execution_count": 17,
   "metadata": {},
   "outputs": [],
   "source": [
    "def train_and_predict(surfix, train_data, test_data, eval_metric=None,  time_limit=None,hyperparameters=None, hyperparameter_tune_kwargs=None, presets='medium_quality_faster_train'):\n",
    "    save_path = f'../models/models{surfix}'\n",
    "\n",
    "\n",
    "    predictor = TabularPredictor(\n",
    "        label='count', \n",
    "        eval_metric=eval_metric, \n",
    "        path=save_path,\n",
    "        learner_kwargs={'ignored_columns': ['registered', 'casual']}\n",
    "    ).fit(\n",
    "        train_data,\n",
    "        presets=presets,\n",
    "        hyperparameters=hyperparameters,\n",
    "        time_limit=time_limit,\n",
    "        hyperparameter_tune_kwargs=hyperparameter_tune_kwargs\n",
    "    )\n",
    "    \n",
    "    y_pred = predictor.predict(test_data)\n",
    "    submission = pd.read_csv('../datasets/sample_submission.csv')\n",
    "    submission['count'] = y_pred\n",
    "    submission['count'] = submission['count'].astype(int)\n",
    "    submission.loc[submission['count'] < 0,'count'] = 0\n",
    "    \n",
    "    submission.to_csv(f'../datasets/my_submission{surfix}.csv', index=False)\n",
    "    print(predictor.fit_summary())\n",
    "    "
   ]
  },
  {
   "cell_type": "markdown",
   "metadata": {},
   "source": [
    "## Training, Prediction and Kaggle Submission"
   ]
  },
  {
   "cell_type": "markdown",
   "metadata": {},
   "source": [
    "### Base Model: Raw Data and default parameters for TabularPredictor"
   ]
  },
  {
   "cell_type": "code",
   "execution_count": 18,
   "metadata": {},
   "outputs": [
    {
     "name": "stderr",
     "output_type": "stream",
     "text": [
      "Warning: path already exists! This predictor may overwrite an existing predictor! path=\"../models/models1\"\n",
      "Presets specified: ['medium_quality_faster_train']\n",
      "Beginning AutoGluon training ...\n",
      "AutoGluon will save models to \"../models/models1/\"\n",
      "AutoGluon Version:  0.2.0\n",
      "Train Data Rows:    10886\n",
      "Train Data Columns: 11\n",
      "Preprocessing data ...\n",
      "AutoGluon infers your prediction problem is: 'regression' (because dtype of label-column == int and many unique label-values observed).\n",
      "\tLabel info (max, min, mean, stddev): (977, 1, 191.57413, 181.14445)\n",
      "\tIf 'regression' is not the correct problem_type, please manually specify the problem_type argument in fit() (You may specify problem_type as one of: ['binary', 'multiclass', 'regression'])\n",
      "Using Feature Generators to preprocess the data ...\n",
      "Dropping user-specified ignored columns: ['registered', 'casual']\n",
      "Fitting AutoMLPipelineFeatureGenerator...\n",
      "\tAvailable Memory:                    6689.66 MB\n",
      "\tTrain Data (Original)  Memory Usage: 1.52 MB (0.0% of available memory)\n",
      "\tInferring data type of each feature based on column values. Set feature_metadata_in to manually specify special dtypes of the features.\n",
      "\tStage 1 Generators:\n",
      "\t\tFitting AsTypeFeatureGenerator...\n",
      "\tStage 2 Generators:\n",
      "\t\tFitting FillNaFeatureGenerator...\n",
      "\tStage 3 Generators:\n",
      "\t\tFitting IdentityFeatureGenerator...\n",
      "\t\tFitting DatetimeFeatureGenerator...\n",
      "\tStage 4 Generators:\n",
      "\t\tFitting DropUniqueFeatureGenerator...\n",
      "\tTypes of features in original data (raw dtype, special dtypes):\n",
      "\t\t('float', [])                      : 3 | ['temp', 'atemp', 'windspeed']\n",
      "\t\t('int', [])                        : 5 | ['season', 'holiday', 'workingday', 'weather', 'humidity']\n",
      "\t\t('object', ['datetime_as_object']) : 1 | ['datetime']\n",
      "\tTypes of features in processed data (raw dtype, special dtypes):\n",
      "\t\t('float', [])                : 3 | ['temp', 'atemp', 'windspeed']\n",
      "\t\t('int', [])                  : 5 | ['season', 'holiday', 'workingday', 'weather', 'humidity']\n",
      "\t\t('int', ['datetime_as_int']) : 1 | ['datetime']\n",
      "\t1.2s = Fit runtime\n",
      "\t9 features in original data used to generate 9 features in processed data.\n",
      "\tTrain Data (Processed) Memory Usage: 0.78 MB (0.0% of available memory)\n",
      "Data preprocessing and feature engineering runtime = 1.31s ...\n",
      "AutoGluon will gauge predictive performance using evaluation metric: 'root_mean_squared_error'\n",
      "\tTo change this, specify the eval_metric argument of fit()\n",
      "Automatically generating train/validation split with holdout_frac=0.1, Train Rows: 9797, Val Rows: 1089\n",
      "Fitting model: KNeighborsUnif ...\n",
      "\t-164.054\t = Validation root_mean_squared_error score\n",
      "\t0.02s\t = Training runtime\n",
      "\t0.11s\t = Validation runtime\n",
      "Fitting model: KNeighborsDist ...\n",
      "\t-172.5902\t = Validation root_mean_squared_error score\n",
      "\t0.02s\t = Training runtime\n",
      "\t0.13s\t = Validation runtime\n",
      "Fitting model: LightGBMXT ...\n",
      "/Users/Victor/Projects/udacity-aws-mle/venv/lib/python3.7/site-packages/lightgbm/engine.py:239: UserWarning: 'verbose_eval' argument is deprecated and will be removed in a future release of LightGBM. Pass 'log_evaluation()' callback via 'callbacks' argument instead.\n",
      "  _log_warning(\"'verbose_eval' argument is deprecated and will be removed in a future release of LightGBM. \"\n"
     ]
    },
    {
     "name": "stdout",
     "output_type": "stream",
     "text": [
      "[1000]\ttrain_set's rmse: 123.922\tvalid_set's rmse: 137.161\n",
      "[2000]\ttrain_set's rmse: 117.532\tvalid_set's rmse: 136.607\n"
     ]
    },
    {
     "name": "stderr",
     "output_type": "stream",
     "text": [
      "\t-136.5463\t = Validation root_mean_squared_error score\n",
      "\t3.5s\t = Training runtime\n",
      "\t0.14s\t = Validation runtime\n",
      "Fitting model: LightGBM ...\n",
      "/Users/Victor/Projects/udacity-aws-mle/venv/lib/python3.7/site-packages/lightgbm/engine.py:239: UserWarning: 'verbose_eval' argument is deprecated and will be removed in a future release of LightGBM. Pass 'log_evaluation()' callback via 'callbacks' argument instead.\n",
      "  _log_warning(\"'verbose_eval' argument is deprecated and will be removed in a future release of LightGBM. \"\n",
      "\t-135.2684\t = Validation root_mean_squared_error score\n",
      "\t0.85s\t = Training runtime\n",
      "\t0.02s\t = Validation runtime\n",
      "Fitting model: RandomForestMSE ...\n",
      "\t-124.7069\t = Validation root_mean_squared_error score\n",
      "\t3.38s\t = Training runtime\n",
      "\t0.11s\t = Validation runtime\n",
      "Fitting model: CatBoost ...\n",
      "\t-136.7586\t = Validation root_mean_squared_error score\n",
      "\t1.67s\t = Training runtime\n",
      "\t0.0s\t = Validation runtime\n",
      "Fitting model: ExtraTreesMSE ...\n",
      "\t-133.3969\t = Validation root_mean_squared_error score\n",
      "\t1.78s\t = Training runtime\n",
      "\t0.1s\t = Validation runtime\n",
      "Fitting model: NeuralNetFastAI ...\n",
      "/Users/Victor/Projects/udacity-aws-mle/venv/lib/python3.7/site-packages/torch/overrides.py:1351: DeprecationWarning: Defining your `__torch_function__ as a plain method is deprecated and will be an error in PyTorch 1.11, please define it as a classmethod.\n",
      "  DeprecationWarning)\n",
      "\t-139.7587\t = Validation root_mean_squared_error score\n",
      "\t10.75s\t = Training runtime\n",
      "\t0.03s\t = Validation runtime\n",
      "Fitting model: XGBoost ...\n",
      "\t-105.5797\t = Validation root_mean_squared_error score\n",
      "\t73.07s\t = Training runtime\n",
      "\t0.13s\t = Validation runtime\n",
      "Fitting model: NeuralNetMXNet ...\n",
      "\t-142.6554\t = Validation root_mean_squared_error score\n",
      "\t14.38s\t = Training runtime\n",
      "\t0.12s\t = Validation runtime\n",
      "Fitting model: LightGBMLarge ...\n",
      "/Users/Victor/Projects/udacity-aws-mle/venv/lib/python3.7/site-packages/lightgbm/engine.py:239: UserWarning: 'verbose_eval' argument is deprecated and will be removed in a future release of LightGBM. Pass 'log_evaluation()' callback via 'callbacks' argument instead.\n",
      "  _log_warning(\"'verbose_eval' argument is deprecated and will be removed in a future release of LightGBM. \"\n",
      "\t-133.5046\t = Validation root_mean_squared_error score\n",
      "\t1.38s\t = Training runtime\n",
      "\t0.02s\t = Validation runtime\n",
      "Fitting model: WeightedEnsemble_L2 ...\n",
      "\t-104.8138\t = Validation root_mean_squared_error score\n",
      "\t0.51s\t = Training runtime\n",
      "\t0.0s\t = Validation runtime\n",
      "AutoGluon training complete, total runtime = 122.57s ...\n",
      "TabularPredictor saved. To load, use: predictor = TabularPredictor.load(\"../models/models1/\")\n"
     ]
    },
    {
     "name": "stdout",
     "output_type": "stream",
     "text": [
      "*** Summary of fit() ***\n",
      "Estimated performance of each model:\n",
      "                  model   score_val  pred_time_val   fit_time  pred_time_val_marginal  fit_time_marginal  stack_level  can_infer  fit_order\n",
      "0   WeightedEnsemble_L2 -104.813807       0.249267  87.957639                0.000535           0.507759            2       True         12\n",
      "1               XGBoost -105.579718       0.132996  73.071156                0.132996          73.071156            1       True          9\n",
      "2       RandomForestMSE -124.706873       0.106873   3.383629                0.106873           3.383629            1       True          5\n",
      "3         ExtraTreesMSE -133.396935       0.103532   1.782609                0.103532           1.782609            1       True          7\n",
      "4         LightGBMLarge -133.504618       0.020501   1.384261                0.020501           1.384261            1       True         11\n",
      "5              LightGBM -135.268429       0.024177   0.850256                0.024177           0.850256            1       True          4\n",
      "6            LightGBMXT -136.546276       0.138812   3.499183                0.138812           3.499183            1       True          3\n",
      "7              CatBoost -136.758603       0.003442   1.673932                0.003442           1.673932            1       True          6\n",
      "8       NeuralNetFastAI -139.758747       0.027411  10.753307                0.027411          10.753307            1       True          8\n",
      "9        NeuralNetMXNet -142.655365       0.115736  14.378724                0.115736          14.378724            1       True         10\n",
      "10       KNeighborsUnif -164.053963       0.106193   0.017642                0.106193           0.017642            1       True          1\n",
      "11       KNeighborsDist -172.590162       0.131705   0.017410                0.131705           0.017410            1       True          2\n",
      "Number of models trained: 12\n",
      "Types of models trained:\n",
      "{'XTModel', 'NNFastAiTabularModel', 'CatBoostModel', 'RFModel', 'LGBModel', 'KNNModel', 'XGBoostModel', 'WeightedEnsembleModel', 'TabularNeuralNetModel'}\n",
      "Bagging used: False \n",
      "Multi-layer stack-ensembling used: False \n",
      "Feature Metadata (Processed):\n",
      "(raw dtype, special dtypes):\n",
      "('float', [])                : 3 | ['temp', 'atemp', 'windspeed']\n",
      "('int', [])                  : 5 | ['season', 'holiday', 'workingday', 'weather', 'humidity']\n",
      "('int', ['datetime_as_int']) : 1 | ['datetime']\n",
      "Plot summary of models saved to file: ../models/models1/SummaryOfModels.html\n",
      "*** End of fit() summary ***\n",
      "{'model_types': {'KNeighborsUnif': 'KNNModel', 'KNeighborsDist': 'KNNModel', 'LightGBMXT': 'LGBModel', 'LightGBM': 'LGBModel', 'RandomForestMSE': 'RFModel', 'CatBoost': 'CatBoostModel', 'ExtraTreesMSE': 'XTModel', 'NeuralNetFastAI': 'NNFastAiTabularModel', 'XGBoost': 'XGBoostModel', 'NeuralNetMXNet': 'TabularNeuralNetModel', 'LightGBMLarge': 'LGBModel', 'WeightedEnsemble_L2': 'WeightedEnsembleModel'}, 'model_performance': {'KNeighborsUnif': -164.05396313064392, 'KNeighborsDist': -172.59016199539982, 'LightGBMXT': -136.54627627761536, 'LightGBM': -135.26842867301636, 'RandomForestMSE': -124.70687320548996, 'CatBoost': -136.7586027316804, 'ExtraTreesMSE': -133.396935136948, 'NeuralNetFastAI': -139.75874665443095, 'XGBoost': -105.57971819482923, 'NeuralNetMXNet': -142.65536526440144, 'LightGBMLarge': -133.50461794059115, 'WeightedEnsemble_L2': -104.81380747119277}, 'model_best': 'WeightedEnsemble_L2', 'model_paths': {'KNeighborsUnif': '../models/models1/models/KNeighborsUnif/', 'KNeighborsDist': '../models/models1/models/KNeighborsDist/', 'LightGBMXT': '../models/models1/models/LightGBMXT/', 'LightGBM': '../models/models1/models/LightGBM/', 'RandomForestMSE': '../models/models1/models/RandomForestMSE/', 'CatBoost': '../models/models1/models/CatBoost/', 'ExtraTreesMSE': '../models/models1/models/ExtraTreesMSE/', 'NeuralNetFastAI': '../models/models1/models/NeuralNetFastAI/', 'XGBoost': '../models/models1/models/XGBoost/', 'NeuralNetMXNet': '../models/models1/models/NeuralNetMXNet/', 'LightGBMLarge': '../models/models1/models/LightGBMLarge/', 'WeightedEnsemble_L2': '../models/models1/models/WeightedEnsemble_L2/'}, 'model_fit_times': {'KNeighborsUnif': 0.01764202117919922, 'KNeighborsDist': 0.0174100399017334, 'LightGBMXT': 3.49918270111084, 'LightGBM': 0.8502557277679443, 'RandomForestMSE': 3.383629083633423, 'CatBoost': 1.6739320755004883, 'ExtraTreesMSE': 1.782608985900879, 'NeuralNetFastAI': 10.753306865692139, 'XGBoost': 73.07115626335144, 'NeuralNetMXNet': 14.378724098205566, 'LightGBMLarge': 1.384261131286621, 'WeightedEnsemble_L2': 0.5077590942382812}, 'model_pred_times': {'KNeighborsUnif': 0.10619282722473145, 'KNeighborsDist': 0.13170504570007324, 'LightGBMXT': 0.13881230354309082, 'LightGBM': 0.02417731285095215, 'RandomForestMSE': 0.1068730354309082, 'CatBoost': 0.0034418106079101562, 'ExtraTreesMSE': 0.10353207588195801, 'NeuralNetFastAI': 0.02741074562072754, 'XGBoost': 0.1329958438873291, 'NeuralNetMXNet': 0.11573600769042969, 'LightGBMLarge': 0.020500898361206055, 'WeightedEnsemble_L2': 0.0005350112915039062}, 'num_bag_folds': 0, 'max_stack_level': 2, 'model_hyperparams': {'KNeighborsUnif': {'weights': 'uniform', 'n_jobs': -1}, 'KNeighborsDist': {'weights': 'distance', 'n_jobs': -1}, 'LightGBMXT': {'num_boost_round': 10000, 'num_threads': -1, 'learning_rate': 0.05, 'objective': 'regression', 'verbose': -1, 'boosting_type': 'gbdt', 'two_round': True, 'extra_trees': True}, 'LightGBM': {'num_boost_round': 10000, 'num_threads': -1, 'learning_rate': 0.05, 'objective': 'regression', 'verbose': -1, 'boosting_type': 'gbdt', 'two_round': True}, 'RandomForestMSE': {'n_estimators': 300, 'n_jobs': -1, 'random_state': 0, 'bootstrap': True, 'criterion': 'mse'}, 'CatBoost': {'iterations': 10000, 'learning_rate': 0.05, 'random_seed': 0, 'allow_writing_files': False, 'eval_metric': 'RMSE'}, 'ExtraTreesMSE': {'n_estimators': 300, 'n_jobs': -1, 'random_state': 0, 'bootstrap': True, 'criterion': 'mse'}, 'NeuralNetFastAI': {'layers': None, 'emb_drop': 0.1, 'ps': 0.1, 'bs': 256, 'lr': 0.01, 'epochs': 30, 'early.stopping.min_delta': 0.0001, 'early.stopping.patience': 20, 'smoothing': 0.0}, 'XGBoost': {'n_estimators': 10000, 'learning_rate': 0.1, 'n_jobs': 4, 'proc.max_category_levels': 100, 'objective': 'reg:squarederror', 'booster': 'gbtree'}, 'NeuralNetMXNet': {'num_epochs': 500, 'epochs_wo_improve': 20, 'seed_value': None, 'proc.embed_min_categories': 4, 'proc.impute_strategy': 'median', 'proc.max_category_levels': 100, 'proc.skew_threshold': 0.99, 'network_type': 'widedeep', 'layers': None, 'numeric_embed_dim': None, 'activation': 'relu', 'max_layer_width': 2056, 'embedding_size_factor': 1.0, 'embed_exponent': 0.56, 'max_embedding_dim': 100, 'y_range': None, 'y_range_extend': 0.05, 'use_batchnorm': True, 'dropout_prob': 0.1, 'batch_size': 512, 'loss_function': None, 'optimizer': 'adam', 'learning_rate': 0.0003, 'weight_decay': 1e-06, 'clip_gradient': 100.0, 'momentum': 0.9, 'lr_scheduler': None, 'base_lr': 3e-05, 'target_lr': 1.0, 'lr_decay': 0.1, 'warmup_epochs': 10, 'use_ngram_features': False}, 'LightGBMLarge': {'num_boost_round': 10000, 'num_threads': -1, 'learning_rate': 0.03, 'objective': 'regression', 'verbose': -1, 'boosting_type': 'gbdt', 'two_round': True, 'num_leaves': 128, 'feature_fraction': 0.9, 'min_data_in_leaf': 5, 'seed_value': 0}, 'WeightedEnsemble_L2': {'use_orig_features': False, 'max_base_models': 25, 'max_base_models_per_type': 5, 'save_bag_folds': True}}, 'leaderboard':                   model   score_val  pred_time_val   fit_time  \\\n",
      "0   WeightedEnsemble_L2 -104.813807       0.249267  87.957639   \n",
      "1               XGBoost -105.579718       0.132996  73.071156   \n",
      "2       RandomForestMSE -124.706873       0.106873   3.383629   \n",
      "3         ExtraTreesMSE -133.396935       0.103532   1.782609   \n",
      "4         LightGBMLarge -133.504618       0.020501   1.384261   \n",
      "5              LightGBM -135.268429       0.024177   0.850256   \n",
      "6            LightGBMXT -136.546276       0.138812   3.499183   \n",
      "7              CatBoost -136.758603       0.003442   1.673932   \n",
      "8       NeuralNetFastAI -139.758747       0.027411  10.753307   \n",
      "9        NeuralNetMXNet -142.655365       0.115736  14.378724   \n",
      "10       KNeighborsUnif -164.053963       0.106193   0.017642   \n",
      "11       KNeighborsDist -172.590162       0.131705   0.017410   \n",
      "\n",
      "    pred_time_val_marginal  fit_time_marginal  stack_level  can_infer  \\\n",
      "0                 0.000535           0.507759            2       True   \n",
      "1                 0.132996          73.071156            1       True   \n",
      "2                 0.106873           3.383629            1       True   \n",
      "3                 0.103532           1.782609            1       True   \n",
      "4                 0.020501           1.384261            1       True   \n",
      "5                 0.024177           0.850256            1       True   \n",
      "6                 0.138812           3.499183            1       True   \n",
      "7                 0.003442           1.673932            1       True   \n",
      "8                 0.027411          10.753307            1       True   \n",
      "9                 0.115736          14.378724            1       True   \n",
      "10                0.106193           0.017642            1       True   \n",
      "11                0.131705           0.017410            1       True   \n",
      "\n",
      "    fit_order  \n",
      "0          12  \n",
      "1           9  \n",
      "2           5  \n",
      "3           7  \n",
      "4          11  \n",
      "5           4  \n",
      "6           3  \n",
      "7           6  \n",
      "8           8  \n",
      "9          10  \n",
      "10          1  \n",
      "11          2  }\n"
     ]
    }
   ],
   "source": [
    "train_and_predict(1, train_data, test_data)"
   ]
  },
  {
   "cell_type": "code",
   "execution_count": 45,
   "metadata": {},
   "outputs": [
    {
     "name": "stdout",
     "output_type": "stream",
     "text": [
      "Warning: Your Kaggle API key is readable by other users on this system! To fix this, you can run 'chmod 600 /Users/Victor/.kaggle/kaggle.json'\n",
      "100%|████████████████████████████████████████| 149k/149k [00:06<00:00, 25.1kB/s]\n",
      "Successfully submitted to Bike Sharing Demand"
     ]
    }
   ],
   "source": [
    "!kaggle competitions submit -c bike-sharing-demand -f ../datasets/my_submission1.csv -m \"First submission with default parameters for TabularPredictor and no feature engineering\"\n"
   ]
  },
  {
   "cell_type": "code",
   "execution_count": null,
   "metadata": {},
   "outputs": [],
   "source": []
  },
  {
   "cell_type": "markdown",
   "metadata": {},
   "source": [
    "### Feature Engineering Model: Processed Data with default parameters for TabularPredictor"
   ]
  },
  {
   "cell_type": "code",
   "execution_count": 19,
   "metadata": {},
   "outputs": [],
   "source": [
    "# Break down the datetime column into the constituent values\n",
    "\n",
    "def break_datetime_object(df):\n",
    "\n",
    "    df['datetime'] = pd.to_datetime(df.datetime, format='%Y-%m-%d %H:%M:%S')\n",
    "    date_object = df['datetime']\n",
    "    df['year'] = date_object.dt.year\n",
    "    df['month'] = date_object.dt.month\n",
    "    df['day'] = date_object.dt.day\n",
    "    df['hour'] = date_object.dt.hour\n",
    "    df.drop('datetime', inplace=True, axis=1)"
   ]
  },
  {
   "cell_type": "code",
   "execution_count": 20,
   "metadata": {},
   "outputs": [],
   "source": [
    "train_data = pd.get_dummies(train_data, columns= ['season'])\n",
    "train_data['weather'] = train_data['weather'].astype('category')\n",
    "train_data['holiday'] = train_data['holiday'].astype('category')\n",
    "train_data['workingday'] = train_data['workingday'].astype('category')\n",
    "break_datetime_object(train_data)\n"
   ]
  },
  {
   "cell_type": "code",
   "execution_count": 21,
   "metadata": {},
   "outputs": [
    {
     "name": "stdout",
     "output_type": "stream",
     "text": [
      "<class 'pandas.core.frame.DataFrame'>\n",
      "RangeIndex: 10886 entries, 0 to 10885\n",
      "Data columns (total 18 columns):\n",
      " #   Column      Non-Null Count  Dtype   \n",
      "---  ------      --------------  -----   \n",
      " 0   holiday     10886 non-null  category\n",
      " 1   workingday  10886 non-null  category\n",
      " 2   weather     10886 non-null  category\n",
      " 3   temp        10886 non-null  float64 \n",
      " 4   atemp       10886 non-null  float64 \n",
      " 5   humidity    10886 non-null  int64   \n",
      " 6   windspeed   10886 non-null  float64 \n",
      " 7   casual      10886 non-null  int64   \n",
      " 8   registered  10886 non-null  int64   \n",
      " 9   count       10886 non-null  int64   \n",
      " 10  season_1    10886 non-null  uint8   \n",
      " 11  season_2    10886 non-null  uint8   \n",
      " 12  season_3    10886 non-null  uint8   \n",
      " 13  season_4    10886 non-null  uint8   \n",
      " 14  year        10886 non-null  int64   \n",
      " 15  month       10886 non-null  int64   \n",
      " 16  day         10886 non-null  int64   \n",
      " 17  hour        10886 non-null  int64   \n",
      "dtypes: category(3), float64(3), int64(8), uint8(4)\n",
      "memory usage: 1010.5 KB\n"
     ]
    }
   ],
   "source": [
    "train_data.info()"
   ]
  },
  {
   "cell_type": "code",
   "execution_count": 22,
   "metadata": {},
   "outputs": [
    {
     "data": {
      "text/html": [
       "<div>\n",
       "<style scoped>\n",
       "    .dataframe tbody tr th:only-of-type {\n",
       "        vertical-align: middle;\n",
       "    }\n",
       "\n",
       "    .dataframe tbody tr th {\n",
       "        vertical-align: top;\n",
       "    }\n",
       "\n",
       "    .dataframe thead th {\n",
       "        text-align: right;\n",
       "    }\n",
       "</style>\n",
       "<table border=\"1\" class=\"dataframe\">\n",
       "  <thead>\n",
       "    <tr style=\"text-align: right;\">\n",
       "      <th></th>\n",
       "      <th>holiday</th>\n",
       "      <th>workingday</th>\n",
       "      <th>weather</th>\n",
       "      <th>temp</th>\n",
       "      <th>atemp</th>\n",
       "      <th>humidity</th>\n",
       "      <th>windspeed</th>\n",
       "      <th>casual</th>\n",
       "      <th>registered</th>\n",
       "      <th>count</th>\n",
       "      <th>season_1</th>\n",
       "      <th>season_2</th>\n",
       "      <th>season_3</th>\n",
       "      <th>season_4</th>\n",
       "      <th>year</th>\n",
       "      <th>month</th>\n",
       "      <th>day</th>\n",
       "      <th>hour</th>\n",
       "    </tr>\n",
       "  </thead>\n",
       "  <tbody>\n",
       "    <tr>\n",
       "      <th>6638</th>\n",
       "      <td>0</td>\n",
       "      <td>1</td>\n",
       "      <td>1</td>\n",
       "      <td>23.78</td>\n",
       "      <td>27.275</td>\n",
       "      <td>56</td>\n",
       "      <td>7.0015</td>\n",
       "      <td>44</td>\n",
       "      <td>200</td>\n",
       "      <td>244</td>\n",
       "      <td>1</td>\n",
       "      <td>0</td>\n",
       "      <td>0</td>\n",
       "      <td>0</td>\n",
       "      <td>2012</td>\n",
       "      <td>3</td>\n",
       "      <td>13</td>\n",
       "      <td>21</td>\n",
       "    </tr>\n",
       "    <tr>\n",
       "      <th>7975</th>\n",
       "      <td>0</td>\n",
       "      <td>1</td>\n",
       "      <td>2</td>\n",
       "      <td>27.06</td>\n",
       "      <td>29.545</td>\n",
       "      <td>89</td>\n",
       "      <td>19.0012</td>\n",
       "      <td>30</td>\n",
       "      <td>209</td>\n",
       "      <td>239</td>\n",
       "      <td>0</td>\n",
       "      <td>1</td>\n",
       "      <td>0</td>\n",
       "      <td>0</td>\n",
       "      <td>2012</td>\n",
       "      <td>6</td>\n",
       "      <td>12</td>\n",
       "      <td>16</td>\n",
       "    </tr>\n",
       "    <tr>\n",
       "      <th>5915</th>\n",
       "      <td>0</td>\n",
       "      <td>1</td>\n",
       "      <td>1</td>\n",
       "      <td>18.86</td>\n",
       "      <td>22.725</td>\n",
       "      <td>55</td>\n",
       "      <td>19.0012</td>\n",
       "      <td>18</td>\n",
       "      <td>211</td>\n",
       "      <td>229</td>\n",
       "      <td>1</td>\n",
       "      <td>0</td>\n",
       "      <td>0</td>\n",
       "      <td>0</td>\n",
       "      <td>2012</td>\n",
       "      <td>2</td>\n",
       "      <td>2</td>\n",
       "      <td>16</td>\n",
       "    </tr>\n",
       "    <tr>\n",
       "      <th>8050</th>\n",
       "      <td>0</td>\n",
       "      <td>1</td>\n",
       "      <td>1</td>\n",
       "      <td>28.70</td>\n",
       "      <td>31.820</td>\n",
       "      <td>42</td>\n",
       "      <td>11.0014</td>\n",
       "      <td>98</td>\n",
       "      <td>369</td>\n",
       "      <td>467</td>\n",
       "      <td>0</td>\n",
       "      <td>1</td>\n",
       "      <td>0</td>\n",
       "      <td>0</td>\n",
       "      <td>2012</td>\n",
       "      <td>6</td>\n",
       "      <td>15</td>\n",
       "      <td>19</td>\n",
       "    </tr>\n",
       "    <tr>\n",
       "      <th>5894</th>\n",
       "      <td>0</td>\n",
       "      <td>1</td>\n",
       "      <td>1</td>\n",
       "      <td>22.14</td>\n",
       "      <td>25.760</td>\n",
       "      <td>52</td>\n",
       "      <td>19.0012</td>\n",
       "      <td>20</td>\n",
       "      <td>315</td>\n",
       "      <td>335</td>\n",
       "      <td>1</td>\n",
       "      <td>0</td>\n",
       "      <td>0</td>\n",
       "      <td>0</td>\n",
       "      <td>2012</td>\n",
       "      <td>2</td>\n",
       "      <td>1</td>\n",
       "      <td>19</td>\n",
       "    </tr>\n",
       "  </tbody>\n",
       "</table>\n",
       "</div>"
      ],
      "text/plain": [
       "     holiday workingday weather   temp   atemp  humidity  windspeed  casual  \\\n",
       "6638       0          1       1  23.78  27.275        56     7.0015      44   \n",
       "7975       0          1       2  27.06  29.545        89    19.0012      30   \n",
       "5915       0          1       1  18.86  22.725        55    19.0012      18   \n",
       "8050       0          1       1  28.70  31.820        42    11.0014      98   \n",
       "5894       0          1       1  22.14  25.760        52    19.0012      20   \n",
       "\n",
       "      registered  count  season_1  season_2  season_3  season_4  year  month  \\\n",
       "6638         200    244         1         0         0         0  2012      3   \n",
       "7975         209    239         0         1         0         0  2012      6   \n",
       "5915         211    229         1         0         0         0  2012      2   \n",
       "8050         369    467         0         1         0         0  2012      6   \n",
       "5894         315    335         1         0         0         0  2012      2   \n",
       "\n",
       "      day  hour  \n",
       "6638   13    21  \n",
       "7975   12    16  \n",
       "5915    2    16  \n",
       "8050   15    19  \n",
       "5894    1    19  "
      ]
     },
     "execution_count": 22,
     "metadata": {},
     "output_type": "execute_result"
    }
   ],
   "source": [
    "train_data.sample(5)"
   ]
  },
  {
   "cell_type": "code",
   "execution_count": null,
   "metadata": {},
   "outputs": [],
   "source": []
  },
  {
   "cell_type": "code",
   "execution_count": 23,
   "metadata": {},
   "outputs": [],
   "source": [
    "test_data = pd.get_dummies(test_data, columns= ['season'])\n",
    "test_data['weather'] = test_data['weather'].astype('category')\n",
    "test_data['holiday'] = test_data['holiday'].astype('category')\n",
    "test_data['workingday'] = test_data['workingday'].astype('category')\n",
    "break_datetime_object(test_data)\n"
   ]
  },
  {
   "cell_type": "code",
   "execution_count": 24,
   "metadata": {},
   "outputs": [
    {
     "name": "stdout",
     "output_type": "stream",
     "text": [
      "<class 'pandas.core.frame.DataFrame'>\n",
      "RangeIndex: 6493 entries, 0 to 6492\n",
      "Data columns (total 15 columns):\n",
      " #   Column      Non-Null Count  Dtype   \n",
      "---  ------      --------------  -----   \n",
      " 0   holiday     6493 non-null   category\n",
      " 1   workingday  6493 non-null   category\n",
      " 2   weather     6493 non-null   category\n",
      " 3   temp        6493 non-null   float64 \n",
      " 4   atemp       6493 non-null   float64 \n",
      " 5   humidity    6493 non-null   int64   \n",
      " 6   windspeed   6493 non-null   float64 \n",
      " 7   season_1    6493 non-null   uint8   \n",
      " 8   season_2    6493 non-null   uint8   \n",
      " 9   season_3    6493 non-null   uint8   \n",
      " 10  season_4    6493 non-null   uint8   \n",
      " 11  year        6493 non-null   int64   \n",
      " 12  month       6493 non-null   int64   \n",
      " 13  day         6493 non-null   int64   \n",
      " 14  hour        6493 non-null   int64   \n",
      "dtypes: category(3), float64(3), int64(5), uint8(4)\n",
      "memory usage: 450.8 KB\n"
     ]
    }
   ],
   "source": [
    "test_data.info()"
   ]
  },
  {
   "cell_type": "code",
   "execution_count": 25,
   "metadata": {},
   "outputs": [
    {
     "data": {
      "text/html": [
       "<div>\n",
       "<style scoped>\n",
       "    .dataframe tbody tr th:only-of-type {\n",
       "        vertical-align: middle;\n",
       "    }\n",
       "\n",
       "    .dataframe tbody tr th {\n",
       "        vertical-align: top;\n",
       "    }\n",
       "\n",
       "    .dataframe thead th {\n",
       "        text-align: right;\n",
       "    }\n",
       "</style>\n",
       "<table border=\"1\" class=\"dataframe\">\n",
       "  <thead>\n",
       "    <tr style=\"text-align: right;\">\n",
       "      <th></th>\n",
       "      <th>holiday</th>\n",
       "      <th>workingday</th>\n",
       "      <th>weather</th>\n",
       "      <th>temp</th>\n",
       "      <th>atemp</th>\n",
       "      <th>humidity</th>\n",
       "      <th>windspeed</th>\n",
       "      <th>season_1</th>\n",
       "      <th>season_2</th>\n",
       "      <th>season_3</th>\n",
       "      <th>season_4</th>\n",
       "      <th>year</th>\n",
       "      <th>month</th>\n",
       "      <th>day</th>\n",
       "      <th>hour</th>\n",
       "    </tr>\n",
       "  </thead>\n",
       "  <tbody>\n",
       "    <tr>\n",
       "      <th>3188</th>\n",
       "      <td>0</td>\n",
       "      <td>1</td>\n",
       "      <td>2</td>\n",
       "      <td>14.76</td>\n",
       "      <td>17.425</td>\n",
       "      <td>53</td>\n",
       "      <td>8.9981</td>\n",
       "      <td>1</td>\n",
       "      <td>0</td>\n",
       "      <td>0</td>\n",
       "      <td>0</td>\n",
       "      <td>2011</td>\n",
       "      <td>12</td>\n",
       "      <td>30</td>\n",
       "      <td>13</td>\n",
       "    </tr>\n",
       "    <tr>\n",
       "      <th>1370</th>\n",
       "      <td>0</td>\n",
       "      <td>1</td>\n",
       "      <td>1</td>\n",
       "      <td>29.52</td>\n",
       "      <td>34.850</td>\n",
       "      <td>74</td>\n",
       "      <td>15.0013</td>\n",
       "      <td>0</td>\n",
       "      <td>0</td>\n",
       "      <td>1</td>\n",
       "      <td>0</td>\n",
       "      <td>2011</td>\n",
       "      <td>6</td>\n",
       "      <td>23</td>\n",
       "      <td>2</td>\n",
       "    </tr>\n",
       "    <tr>\n",
       "      <th>5454</th>\n",
       "      <td>0</td>\n",
       "      <td>1</td>\n",
       "      <td>1</td>\n",
       "      <td>21.32</td>\n",
       "      <td>25.000</td>\n",
       "      <td>72</td>\n",
       "      <td>0.0000</td>\n",
       "      <td>0</td>\n",
       "      <td>0</td>\n",
       "      <td>1</td>\n",
       "      <td>0</td>\n",
       "      <td>2012</td>\n",
       "      <td>9</td>\n",
       "      <td>21</td>\n",
       "      <td>2</td>\n",
       "    </tr>\n",
       "    <tr>\n",
       "      <th>919</th>\n",
       "      <td>0</td>\n",
       "      <td>1</td>\n",
       "      <td>2</td>\n",
       "      <td>23.78</td>\n",
       "      <td>27.275</td>\n",
       "      <td>88</td>\n",
       "      <td>19.0012</td>\n",
       "      <td>0</td>\n",
       "      <td>1</td>\n",
       "      <td>0</td>\n",
       "      <td>0</td>\n",
       "      <td>2011</td>\n",
       "      <td>4</td>\n",
       "      <td>27</td>\n",
       "      <td>7</td>\n",
       "    </tr>\n",
       "    <tr>\n",
       "      <th>4384</th>\n",
       "      <td>0</td>\n",
       "      <td>1</td>\n",
       "      <td>2</td>\n",
       "      <td>27.06</td>\n",
       "      <td>31.060</td>\n",
       "      <td>69</td>\n",
       "      <td>6.0032</td>\n",
       "      <td>0</td>\n",
       "      <td>1</td>\n",
       "      <td>0</td>\n",
       "      <td>0</td>\n",
       "      <td>2012</td>\n",
       "      <td>5</td>\n",
       "      <td>23</td>\n",
       "      <td>12</td>\n",
       "    </tr>\n",
       "  </tbody>\n",
       "</table>\n",
       "</div>"
      ],
      "text/plain": [
       "     holiday workingday weather   temp   atemp  humidity  windspeed  season_1  \\\n",
       "3188       0          1       2  14.76  17.425        53     8.9981         1   \n",
       "1370       0          1       1  29.52  34.850        74    15.0013         0   \n",
       "5454       0          1       1  21.32  25.000        72     0.0000         0   \n",
       "919        0          1       2  23.78  27.275        88    19.0012         0   \n",
       "4384       0          1       2  27.06  31.060        69     6.0032         0   \n",
       "\n",
       "      season_2  season_3  season_4  year  month  day  hour  \n",
       "3188         0         0         0  2011     12   30    13  \n",
       "1370         0         1         0  2011      6   23     2  \n",
       "5454         0         1         0  2012      9   21     2  \n",
       "919          1         0         0  2011      4   27     7  \n",
       "4384         1         0         0  2012      5   23    12  "
      ]
     },
     "execution_count": 25,
     "metadata": {},
     "output_type": "execute_result"
    }
   ],
   "source": [
    "test_data.sample(5)"
   ]
  },
  {
   "cell_type": "code",
   "execution_count": 26,
   "metadata": {},
   "outputs": [
    {
     "name": "stderr",
     "output_type": "stream",
     "text": [
      "Warning: path already exists! This predictor may overwrite an existing predictor! path=\"../models/models2\"\n",
      "Presets specified: ['medium_quality_faster_train']\n",
      "Beginning AutoGluon training ...\n",
      "AutoGluon will save models to \"../models/models2/\"\n",
      "AutoGluon Version:  0.2.0\n",
      "Train Data Rows:    10886\n",
      "Train Data Columns: 17\n",
      "Preprocessing data ...\n",
      "AutoGluon infers your prediction problem is: 'regression' (because dtype of label-column == int and many unique label-values observed).\n",
      "\tLabel info (max, min, mean, stddev): (977, 1, 191.57413, 181.14445)\n",
      "\tIf 'regression' is not the correct problem_type, please manually specify the problem_type argument in fit() (You may specify problem_type as one of: ['binary', 'multiclass', 'regression'])\n",
      "Using Feature Generators to preprocess the data ...\n",
      "Dropping user-specified ignored columns: ['registered', 'casual']\n",
      "Fitting AutoMLPipelineFeatureGenerator...\n",
      "\tAvailable Memory:                    6781.63 MB\n",
      "\tTrain Data (Original)  Memory Usage: 0.77 MB (0.0% of available memory)\n",
      "\tInferring data type of each feature based on column values. Set feature_metadata_in to manually specify special dtypes of the features.\n",
      "\tStage 1 Generators:\n",
      "\t\tFitting AsTypeFeatureGenerator...\n",
      "\tStage 2 Generators:\n",
      "\t\tFitting FillNaFeatureGenerator...\n",
      "\tStage 3 Generators:\n",
      "\t\tFitting IdentityFeatureGenerator...\n",
      "\t\tFitting CategoryFeatureGenerator...\n",
      "\t\t\tFitting CategoryMemoryMinimizeFeatureGenerator...\n",
      "/Users/Victor/Projects/udacity-aws-mle/venv/lib/python3.7/site-packages/pandas/core/arrays/categorical.py:2631: FutureWarning: The `inplace` parameter in pandas.Categorical.rename_categories is deprecated and will be removed in a future version. Removing unused categories will always return a new Categorical object.\n",
      "  res = method(*args, **kwargs)\n",
      "\tStage 4 Generators:\n",
      "\t\tFitting DropUniqueFeatureGenerator...\n",
      "\tTypes of features in original data (raw dtype, special dtypes):\n",
      "\t\t('category', []) : 3 | ['holiday', 'workingday', 'weather']\n",
      "\t\t('float', [])    : 3 | ['temp', 'atemp', 'windspeed']\n",
      "\t\t('int', [])      : 9 | ['humidity', 'season_1', 'season_2', 'season_3', 'season_4', ...]\n",
      "\tTypes of features in processed data (raw dtype, special dtypes):\n",
      "\t\t('category', []) : 3 | ['holiday', 'workingday', 'weather']\n",
      "\t\t('float', [])    : 3 | ['temp', 'atemp', 'windspeed']\n",
      "\t\t('int', [])      : 9 | ['humidity', 'season_1', 'season_2', 'season_3', 'season_4', ...]\n",
      "\t0.1s = Fit runtime\n",
      "\t15 features in original data used to generate 15 features in processed data.\n",
      "\tTrain Data (Processed) Memory Usage: 0.77 MB (0.0% of available memory)\n",
      "Data preprocessing and feature engineering runtime = 0.26s ...\n",
      "AutoGluon will gauge predictive performance using evaluation metric: 'root_mean_squared_error'\n",
      "\tTo change this, specify the eval_metric argument of fit()\n",
      "Automatically generating train/validation split with holdout_frac=0.1, Train Rows: 9797, Val Rows: 1089\n",
      "Fitting model: KNeighborsUnif ...\n",
      "\t-128.049\t = Validation root_mean_squared_error score\n",
      "\t0.01s\t = Training runtime\n",
      "\t0.11s\t = Validation runtime\n",
      "Fitting model: KNeighborsDist ...\n",
      "\t-124.5874\t = Validation root_mean_squared_error score\n",
      "\t0.01s\t = Training runtime\n",
      "\t0.11s\t = Validation runtime\n",
      "Fitting model: LightGBMXT ...\n",
      "/Users/Victor/Projects/udacity-aws-mle/venv/lib/python3.7/site-packages/lightgbm/engine.py:239: UserWarning: 'verbose_eval' argument is deprecated and will be removed in a future release of LightGBM. Pass 'log_evaluation()' callback via 'callbacks' argument instead.\n",
      "  _log_warning(\"'verbose_eval' argument is deprecated and will be removed in a future release of LightGBM. \"\n"
     ]
    },
    {
     "name": "stdout",
     "output_type": "stream",
     "text": [
      "[1000]\ttrain_set's rmse: 47.7332\tvalid_set's rmse: 62.1932\n",
      "[2000]\ttrain_set's rmse: 40.3446\tvalid_set's rmse: 59.0552\n",
      "[3000]\ttrain_set's rmse: 35.8668\tvalid_set's rmse: 57.4352\n",
      "[4000]\ttrain_set's rmse: 32.7903\tvalid_set's rmse: 56.4875\n",
      "[5000]\ttrain_set's rmse: 30.4164\tvalid_set's rmse: 56.0651\n",
      "[6000]\ttrain_set's rmse: 28.4661\tvalid_set's rmse: 55.6407\n",
      "[7000]\ttrain_set's rmse: 26.7824\tvalid_set's rmse: 55.3263\n",
      "[8000]\ttrain_set's rmse: 25.3321\tvalid_set's rmse: 55.1135\n",
      "[9000]\ttrain_set's rmse: 24.0981\tvalid_set's rmse: 54.9965\n",
      "[10000]\ttrain_set's rmse: 23.0101\tvalid_set's rmse: 54.7883\n"
     ]
    },
    {
     "name": "stderr",
     "output_type": "stream",
     "text": [
      "\t-54.7883\t = Validation root_mean_squared_error score\n",
      "\t11.09s\t = Training runtime\n",
      "\t1.01s\t = Validation runtime\n",
      "Fitting model: LightGBM ...\n",
      "/Users/Victor/Projects/udacity-aws-mle/venv/lib/python3.7/site-packages/lightgbm/engine.py:239: UserWarning: 'verbose_eval' argument is deprecated and will be removed in a future release of LightGBM. Pass 'log_evaluation()' callback via 'callbacks' argument instead.\n",
      "  _log_warning(\"'verbose_eval' argument is deprecated and will be removed in a future release of LightGBM. \"\n"
     ]
    },
    {
     "name": "stdout",
     "output_type": "stream",
     "text": [
      "[1000]\ttrain_set's rmse: 22.2907\tvalid_set's rmse: 39.3173\n"
     ]
    },
    {
     "name": "stderr",
     "output_type": "stream",
     "text": [
      "\t-39.1817\t = Validation root_mean_squared_error score\n",
      "\t1.07s\t = Training runtime\n",
      "\t0.03s\t = Validation runtime\n",
      "Fitting model: RandomForestMSE ...\n",
      "\t-42.0811\t = Validation root_mean_squared_error score\n",
      "\t4.46s\t = Training runtime\n",
      "\t0.11s\t = Validation runtime\n",
      "Fitting model: CatBoost ...\n",
      "\t-40.5916\t = Validation root_mean_squared_error score\n",
      "\t9.57s\t = Training runtime\n",
      "\t0.01s\t = Validation runtime\n",
      "Fitting model: ExtraTreesMSE ...\n",
      "\t-42.4414\t = Validation root_mean_squared_error score\n",
      "\t2.13s\t = Training runtime\n",
      "\t0.11s\t = Validation runtime\n",
      "Fitting model: NeuralNetFastAI ...\n",
      "/Users/Victor/Projects/udacity-aws-mle/venv/lib/python3.7/site-packages/torch/overrides.py:1351: DeprecationWarning: Defining your `__torch_function__ as a plain method is deprecated and will be an error in PyTorch 1.11, please define it as a classmethod.\n",
      "  DeprecationWarning)\n",
      "\t-48.4742\t = Validation root_mean_squared_error score\n",
      "\t12.72s\t = Training runtime\n",
      "\t0.04s\t = Validation runtime\n",
      "Fitting model: XGBoost ...\n",
      "\t-42.8412\t = Validation root_mean_squared_error score\n",
      "\t3.41s\t = Training runtime\n",
      "\t0.02s\t = Validation runtime\n",
      "Fitting model: NeuralNetMXNet ...\n",
      "\t-41.4373\t = Validation root_mean_squared_error score\n",
      "\t76.88s\t = Training runtime\n",
      "\t0.17s\t = Validation runtime\n",
      "Fitting model: LightGBMLarge ...\n",
      "/Users/Victor/Projects/udacity-aws-mle/venv/lib/python3.7/site-packages/lightgbm/engine.py:239: UserWarning: 'verbose_eval' argument is deprecated and will be removed in a future release of LightGBM. Pass 'log_evaluation()' callback via 'callbacks' argument instead.\n",
      "  _log_warning(\"'verbose_eval' argument is deprecated and will be removed in a future release of LightGBM. \"\n",
      "\t-38.0214\t = Validation root_mean_squared_error score\n",
      "\t1.79s\t = Training runtime\n",
      "\t0.03s\t = Validation runtime\n",
      "Fitting model: WeightedEnsemble_L2 ...\n",
      "\t-36.6783\t = Validation root_mean_squared_error score\n",
      "\t0.67s\t = Training runtime\n",
      "\t0.0s\t = Validation runtime\n",
      "AutoGluon training complete, total runtime = 132.83s ...\n",
      "TabularPredictor saved. To load, use: predictor = TabularPredictor.load(\"../models/models2/\")\n",
      "/Users/Victor/Projects/udacity-aws-mle/venv/lib/python3.7/site-packages/pandas/core/arrays/categorical.py:2631: FutureWarning: The `inplace` parameter in pandas.Categorical.set_categories is deprecated and will be removed in a future version. Removing unused categories will always return a new Categorical object.\n",
      "  res = method(*args, **kwargs)\n",
      "/Users/Victor/Projects/udacity-aws-mle/venv/lib/python3.7/site-packages/pandas/core/arrays/categorical.py:2631: FutureWarning: The `inplace` parameter in pandas.Categorical.rename_categories is deprecated and will be removed in a future version. Removing unused categories will always return a new Categorical object.\n",
      "  res = method(*args, **kwargs)\n"
     ]
    },
    {
     "name": "stdout",
     "output_type": "stream",
     "text": [
      "*** Summary of fit() ***\n",
      "Estimated performance of each model:\n",
      "                  model   score_val  pred_time_val    fit_time  pred_time_val_marginal  fit_time_marginal  stack_level  can_infer  fit_order\n",
      "0   WeightedEnsemble_L2  -36.678342       1.354004  105.534609                0.000730           0.665091            2       True         12\n",
      "1         LightGBMLarge  -38.021399       0.031524    1.794342                0.031524           1.794342            1       True         11\n",
      "2              LightGBM  -39.181738       0.027914    1.072238                0.027914           1.072238            1       True          4\n",
      "3              CatBoost  -40.591640       0.009284    9.567765                0.009284           9.567765            1       True          6\n",
      "4        NeuralNetMXNet  -41.437275       0.165353   76.884212                0.165353          76.884212            1       True         10\n",
      "5       RandomForestMSE  -42.081072       0.107649    4.464206                0.107649           4.464206            1       True          5\n",
      "6         ExtraTreesMSE  -42.441394       0.112398    2.133581                0.112398           2.133581            1       True          7\n",
      "7               XGBoost  -42.841239       0.016043    3.410100                0.016043           3.410100            1       True          9\n",
      "8       NeuralNetFastAI  -48.474155       0.038742   12.724864                0.038742          12.724864            1       True          8\n",
      "9            LightGBMXT  -54.788328       1.011550   11.086755                1.011550          11.086755            1       True          3\n",
      "10       KNeighborsDist -124.587440       0.113301    0.014301                0.113301           0.014301            1       True          2\n",
      "11       KNeighborsUnif -128.049010       0.111130    0.013640                0.111130           0.013640            1       True          1\n",
      "Number of models trained: 12\n",
      "Types of models trained:\n",
      "{'XTModel', 'NNFastAiTabularModel', 'CatBoostModel', 'RFModel', 'LGBModel', 'KNNModel', 'XGBoostModel', 'WeightedEnsembleModel', 'TabularNeuralNetModel'}\n",
      "Bagging used: False \n",
      "Multi-layer stack-ensembling used: False \n",
      "Feature Metadata (Processed):\n",
      "(raw dtype, special dtypes):\n",
      "('category', []) : 3 | ['holiday', 'workingday', 'weather']\n",
      "('float', [])    : 3 | ['temp', 'atemp', 'windspeed']\n",
      "('int', [])      : 9 | ['humidity', 'season_1', 'season_2', 'season_3', 'season_4', ...]\n",
      "Plot summary of models saved to file: ../models/models2/SummaryOfModels.html\n",
      "*** End of fit() summary ***\n",
      "{'model_types': {'KNeighborsUnif': 'KNNModel', 'KNeighborsDist': 'KNNModel', 'LightGBMXT': 'LGBModel', 'LightGBM': 'LGBModel', 'RandomForestMSE': 'RFModel', 'CatBoost': 'CatBoostModel', 'ExtraTreesMSE': 'XTModel', 'NeuralNetFastAI': 'NNFastAiTabularModel', 'XGBoost': 'XGBoostModel', 'NeuralNetMXNet': 'TabularNeuralNetModel', 'LightGBMLarge': 'LGBModel', 'WeightedEnsemble_L2': 'WeightedEnsembleModel'}, 'model_performance': {'KNeighborsUnif': -128.04900953623607, 'KNeighborsDist': -124.58744001823634, 'LightGBMXT': -54.788327711928105, 'LightGBM': -39.18173839283053, 'RandomForestMSE': -42.081072281087565, 'CatBoost': -40.59163955220477, 'ExtraTreesMSE': -42.44139387255312, 'NeuralNetFastAI': -48.47415534046425, 'XGBoost': -42.84123864573259, 'NeuralNetMXNet': -41.43727462518579, 'LightGBMLarge': -38.02139930073682, 'WeightedEnsemble_L2': -36.678341888714925}, 'model_best': 'WeightedEnsemble_L2', 'model_paths': {'KNeighborsUnif': '../models/models2/models/KNeighborsUnif/', 'KNeighborsDist': '../models/models2/models/KNeighborsDist/', 'LightGBMXT': '../models/models2/models/LightGBMXT/', 'LightGBM': '../models/models2/models/LightGBM/', 'RandomForestMSE': '../models/models2/models/RandomForestMSE/', 'CatBoost': '../models/models2/models/CatBoost/', 'ExtraTreesMSE': '../models/models2/models/ExtraTreesMSE/', 'NeuralNetFastAI': '../models/models2/models/NeuralNetFastAI/', 'XGBoost': '../models/models2/models/XGBoost/', 'NeuralNetMXNet': '../models/models2/models/NeuralNetMXNet/', 'LightGBMLarge': '../models/models2/models/LightGBMLarge/', 'WeightedEnsemble_L2': '../models/models2/models/WeightedEnsemble_L2/'}, 'model_fit_times': {'KNeighborsUnif': 0.013640403747558594, 'KNeighborsDist': 0.014300823211669922, 'LightGBMXT': 11.08675503730774, 'LightGBM': 1.0722379684448242, 'RandomForestMSE': 4.464205980300903, 'CatBoost': 9.5677649974823, 'ExtraTreesMSE': 2.1335806846618652, 'NeuralNetFastAI': 12.72486400604248, 'XGBoost': 3.410099983215332, 'NeuralNetMXNet': 76.88421201705933, 'LightGBMLarge': 1.794342041015625, 'WeightedEnsemble_L2': 0.6650912761688232}, 'model_pred_times': {'KNeighborsUnif': 0.1111297607421875, 'KNeighborsDist': 0.11330103874206543, 'LightGBMXT': 1.011549949645996, 'LightGBM': 0.027914047241210938, 'RandomForestMSE': 0.10764908790588379, 'CatBoost': 0.009284019470214844, 'ExtraTreesMSE': 0.11239814758300781, 'NeuralNetFastAI': 0.0387420654296875, 'XGBoost': 0.01604294776916504, 'NeuralNetMXNet': 0.16535282135009766, 'LightGBMLarge': 0.031523942947387695, 'WeightedEnsemble_L2': 0.0007297992706298828}, 'num_bag_folds': 0, 'max_stack_level': 2, 'model_hyperparams': {'KNeighborsUnif': {'weights': 'uniform', 'n_jobs': -1}, 'KNeighborsDist': {'weights': 'distance', 'n_jobs': -1}, 'LightGBMXT': {'num_boost_round': 10000, 'num_threads': -1, 'learning_rate': 0.05, 'objective': 'regression', 'verbose': -1, 'boosting_type': 'gbdt', 'two_round': True, 'extra_trees': True}, 'LightGBM': {'num_boost_round': 10000, 'num_threads': -1, 'learning_rate': 0.05, 'objective': 'regression', 'verbose': -1, 'boosting_type': 'gbdt', 'two_round': True}, 'RandomForestMSE': {'n_estimators': 300, 'n_jobs': -1, 'random_state': 0, 'bootstrap': True, 'criterion': 'mse'}, 'CatBoost': {'iterations': 10000, 'learning_rate': 0.05, 'random_seed': 0, 'allow_writing_files': False, 'eval_metric': 'RMSE'}, 'ExtraTreesMSE': {'n_estimators': 300, 'n_jobs': -1, 'random_state': 0, 'bootstrap': True, 'criterion': 'mse'}, 'NeuralNetFastAI': {'layers': None, 'emb_drop': 0.1, 'ps': 0.1, 'bs': 256, 'lr': 0.01, 'epochs': 30, 'early.stopping.min_delta': 0.0001, 'early.stopping.patience': 20, 'smoothing': 0.0}, 'XGBoost': {'n_estimators': 10000, 'learning_rate': 0.1, 'n_jobs': 4, 'proc.max_category_levels': 100, 'objective': 'reg:squarederror', 'booster': 'gbtree'}, 'NeuralNetMXNet': {'num_epochs': 500, 'epochs_wo_improve': 20, 'seed_value': None, 'proc.embed_min_categories': 4, 'proc.impute_strategy': 'median', 'proc.max_category_levels': 100, 'proc.skew_threshold': 0.99, 'network_type': 'widedeep', 'layers': None, 'numeric_embed_dim': None, 'activation': 'relu', 'max_layer_width': 2056, 'embedding_size_factor': 1.0, 'embed_exponent': 0.56, 'max_embedding_dim': 100, 'y_range': None, 'y_range_extend': 0.05, 'use_batchnorm': True, 'dropout_prob': 0.1, 'batch_size': 512, 'loss_function': None, 'optimizer': 'adam', 'learning_rate': 0.0003, 'weight_decay': 1e-06, 'clip_gradient': 100.0, 'momentum': 0.9, 'lr_scheduler': None, 'base_lr': 3e-05, 'target_lr': 1.0, 'lr_decay': 0.1, 'warmup_epochs': 10, 'use_ngram_features': False}, 'LightGBMLarge': {'num_boost_round': 10000, 'num_threads': -1, 'learning_rate': 0.03, 'objective': 'regression', 'verbose': -1, 'boosting_type': 'gbdt', 'two_round': True, 'num_leaves': 128, 'feature_fraction': 0.9, 'min_data_in_leaf': 5, 'seed_value': 0}, 'WeightedEnsemble_L2': {'use_orig_features': False, 'max_base_models': 25, 'max_base_models_per_type': 5, 'save_bag_folds': True}}, 'leaderboard':                   model   score_val  pred_time_val    fit_time  \\\n",
      "0   WeightedEnsemble_L2  -36.678342       1.354004  105.534609   \n",
      "1         LightGBMLarge  -38.021399       0.031524    1.794342   \n",
      "2              LightGBM  -39.181738       0.027914    1.072238   \n",
      "3              CatBoost  -40.591640       0.009284    9.567765   \n",
      "4        NeuralNetMXNet  -41.437275       0.165353   76.884212   \n",
      "5       RandomForestMSE  -42.081072       0.107649    4.464206   \n",
      "6         ExtraTreesMSE  -42.441394       0.112398    2.133581   \n",
      "7               XGBoost  -42.841239       0.016043    3.410100   \n",
      "8       NeuralNetFastAI  -48.474155       0.038742   12.724864   \n",
      "9            LightGBMXT  -54.788328       1.011550   11.086755   \n",
      "10       KNeighborsDist -124.587440       0.113301    0.014301   \n",
      "11       KNeighborsUnif -128.049010       0.111130    0.013640   \n",
      "\n",
      "    pred_time_val_marginal  fit_time_marginal  stack_level  can_infer  \\\n",
      "0                 0.000730           0.665091            2       True   \n",
      "1                 0.031524           1.794342            1       True   \n",
      "2                 0.027914           1.072238            1       True   \n",
      "3                 0.009284           9.567765            1       True   \n",
      "4                 0.165353          76.884212            1       True   \n",
      "5                 0.107649           4.464206            1       True   \n",
      "6                 0.112398           2.133581            1       True   \n",
      "7                 0.016043           3.410100            1       True   \n",
      "8                 0.038742          12.724864            1       True   \n",
      "9                 1.011550          11.086755            1       True   \n",
      "10                0.113301           0.014301            1       True   \n",
      "11                0.111130           0.013640            1       True   \n",
      "\n",
      "    fit_order  \n",
      "0          12  \n",
      "1          11  \n",
      "2           4  \n",
      "3           6  \n",
      "4          10  \n",
      "5           5  \n",
      "6           7  \n",
      "7           9  \n",
      "8           8  \n",
      "9           3  \n",
      "10          2  \n",
      "11          1  }\n"
     ]
    }
   ],
   "source": [
    "train_and_predict(2, train_data, test_data)\n"
   ]
  },
  {
   "cell_type": "code",
   "execution_count": 74,
   "metadata": {},
   "outputs": [
    {
     "name": "stdout",
     "output_type": "stream",
     "text": [
      "Warning: Your Kaggle API key is readable by other users on this system! To fix this, you can run 'chmod 600 /Users/Victor/.kaggle/kaggle.json'\n",
      "100%|████████████████████████████████████████| 149k/149k [00:09<00:00, 16.0kB/s]\n",
      "Successfully submitted to Bike Sharing Demand"
     ]
    }
   ],
   "source": [
    "!kaggle competitions submit -c bike-sharing-demand -f ../datasets/my_submission2.csv -m \"Second submission with default parameters for TabularPredictor and data after feature engineering\"\n"
   ]
  },
  {
   "cell_type": "markdown",
   "metadata": {},
   "source": [
    "### HPO Model: Processed Data with Optimized hyperparameters(presets=best_quality)"
   ]
  },
  {
   "cell_type": "code",
   "execution_count": 27,
   "metadata": {},
   "outputs": [
    {
     "name": "stderr",
     "output_type": "stream",
     "text": [
      "Warning: path already exists! This predictor may overwrite an existing predictor! path=\"../models/models3\"\n",
      "Presets specified: ['best_quality']\n",
      "Beginning AutoGluon training ...\n",
      "AutoGluon will save models to \"../models/models3/\"\n",
      "AutoGluon Version:  0.2.0\n",
      "Train Data Rows:    10886\n",
      "Train Data Columns: 17\n",
      "Preprocessing data ...\n",
      "AutoGluon infers your prediction problem is: 'regression' (because dtype of label-column == int and many unique label-values observed).\n",
      "\tLabel info (max, min, mean, stddev): (977, 1, 191.57413, 181.14445)\n",
      "\tIf 'regression' is not the correct problem_type, please manually specify the problem_type argument in fit() (You may specify problem_type as one of: ['binary', 'multiclass', 'regression'])\n",
      "Using Feature Generators to preprocess the data ...\n",
      "Dropping user-specified ignored columns: ['registered', 'casual']\n",
      "Fitting AutoMLPipelineFeatureGenerator...\n",
      "\tAvailable Memory:                    6561.67 MB\n",
      "\tTrain Data (Original)  Memory Usage: 0.77 MB (0.0% of available memory)\n",
      "\tInferring data type of each feature based on column values. Set feature_metadata_in to manually specify special dtypes of the features.\n",
      "\tStage 1 Generators:\n",
      "\t\tFitting AsTypeFeatureGenerator...\n",
      "\tStage 2 Generators:\n",
      "\t\tFitting FillNaFeatureGenerator...\n",
      "\tStage 3 Generators:\n",
      "\t\tFitting IdentityFeatureGenerator...\n",
      "\t\tFitting CategoryFeatureGenerator...\n",
      "\t\t\tFitting CategoryMemoryMinimizeFeatureGenerator...\n",
      "/Users/Victor/Projects/udacity-aws-mle/venv/lib/python3.7/site-packages/pandas/core/arrays/categorical.py:2631: FutureWarning: The `inplace` parameter in pandas.Categorical.rename_categories is deprecated and will be removed in a future version. Removing unused categories will always return a new Categorical object.\n",
      "  res = method(*args, **kwargs)\n",
      "\tStage 4 Generators:\n",
      "\t\tFitting DropUniqueFeatureGenerator...\n",
      "\tTypes of features in original data (raw dtype, special dtypes):\n",
      "\t\t('category', []) : 3 | ['holiday', 'workingday', 'weather']\n",
      "\t\t('float', [])    : 3 | ['temp', 'atemp', 'windspeed']\n",
      "\t\t('int', [])      : 9 | ['humidity', 'season_1', 'season_2', 'season_3', 'season_4', ...]\n",
      "\tTypes of features in processed data (raw dtype, special dtypes):\n",
      "\t\t('category', []) : 3 | ['holiday', 'workingday', 'weather']\n",
      "\t\t('float', [])    : 3 | ['temp', 'atemp', 'windspeed']\n",
      "\t\t('int', [])      : 9 | ['humidity', 'season_1', 'season_2', 'season_3', 'season_4', ...]\n",
      "\t0.1s = Fit runtime\n",
      "\t15 features in original data used to generate 15 features in processed data.\n",
      "\tTrain Data (Processed) Memory Usage: 0.77 MB (0.0% of available memory)\n",
      "Data preprocessing and feature engineering runtime = 0.26s ...\n",
      "AutoGluon will gauge predictive performance using evaluation metric: 'root_mean_squared_error'\n",
      "\tTo change this, specify the eval_metric argument of fit()\n",
      "Fitting model: KNeighborsUnif_BAG_L1 ...\n",
      "\t-122.9277\t = Validation root_mean_squared_error score\n",
      "\t0.03s\t = Training runtime\n",
      "\t0.22s\t = Validation runtime\n",
      "Fitting model: KNeighborsDist_BAG_L1 ...\n",
      "\t-118.2871\t = Validation root_mean_squared_error score\n",
      "\t0.01s\t = Training runtime\n",
      "\t0.21s\t = Validation runtime\n",
      "Fitting model: LightGBMXT_BAG_L1 ...\n",
      "/Users/Victor/Projects/udacity-aws-mle/venv/lib/python3.7/site-packages/lightgbm/engine.py:239: UserWarning: 'verbose_eval' argument is deprecated and will be removed in a future release of LightGBM. Pass 'log_evaluation()' callback via 'callbacks' argument instead.\n",
      "  _log_warning(\"'verbose_eval' argument is deprecated and will be removed in a future release of LightGBM. \"\n"
     ]
    },
    {
     "name": "stdout",
     "output_type": "stream",
     "text": [
      "[1000]\ttrain_set's rmse: 48.1954\tvalid_set's rmse: 57.9908\n",
      "[2000]\ttrain_set's rmse: 40.4021\tvalid_set's rmse: 54.4702\n",
      "[3000]\ttrain_set's rmse: 35.8037\tvalid_set's rmse: 52.9411\n",
      "[4000]\ttrain_set's rmse: 32.6792\tvalid_set's rmse: 52.1784\n",
      "[5000]\ttrain_set's rmse: 30.2221\tvalid_set's rmse: 51.6532\n",
      "[6000]\ttrain_set's rmse: 28.199\tvalid_set's rmse: 51.3033\n",
      "[7000]\ttrain_set's rmse: 26.5414\tvalid_set's rmse: 51.1129\n",
      "[8000]\ttrain_set's rmse: 25.074\tvalid_set's rmse: 50.979\n",
      "[9000]\ttrain_set's rmse: 23.8072\tvalid_set's rmse: 50.8289\n",
      "[10000]\ttrain_set's rmse: 22.6736\tvalid_set's rmse: 50.8032\n"
     ]
    },
    {
     "name": "stderr",
     "output_type": "stream",
     "text": [
      "/Users/Victor/Projects/udacity-aws-mle/venv/lib/python3.7/site-packages/lightgbm/engine.py:239: UserWarning: 'verbose_eval' argument is deprecated and will be removed in a future release of LightGBM. Pass 'log_evaluation()' callback via 'callbacks' argument instead.\n",
      "  _log_warning(\"'verbose_eval' argument is deprecated and will be removed in a future release of LightGBM. \"\n"
     ]
    },
    {
     "name": "stdout",
     "output_type": "stream",
     "text": [
      "[1000]\ttrain_set's rmse: 48.1436\tvalid_set's rmse: 61.473\n",
      "[2000]\ttrain_set's rmse: 40.4271\tvalid_set's rmse: 57.3556\n",
      "[3000]\ttrain_set's rmse: 35.9949\tvalid_set's rmse: 55.4735\n",
      "[4000]\ttrain_set's rmse: 32.8254\tvalid_set's rmse: 54.4806\n",
      "[5000]\ttrain_set's rmse: 30.434\tvalid_set's rmse: 53.7715\n",
      "[6000]\ttrain_set's rmse: 28.3628\tvalid_set's rmse: 53.2076\n",
      "[7000]\ttrain_set's rmse: 26.6412\tvalid_set's rmse: 52.8581\n",
      "[8000]\ttrain_set's rmse: 25.1485\tvalid_set's rmse: 52.6195\n",
      "[9000]\ttrain_set's rmse: 23.8616\tvalid_set's rmse: 52.4302\n",
      "[10000]\ttrain_set's rmse: 22.7056\tvalid_set's rmse: 52.2292\n"
     ]
    },
    {
     "name": "stderr",
     "output_type": "stream",
     "text": [
      "/Users/Victor/Projects/udacity-aws-mle/venv/lib/python3.7/site-packages/lightgbm/engine.py:239: UserWarning: 'verbose_eval' argument is deprecated and will be removed in a future release of LightGBM. Pass 'log_evaluation()' callback via 'callbacks' argument instead.\n",
      "  _log_warning(\"'verbose_eval' argument is deprecated and will be removed in a future release of LightGBM. \"\n"
     ]
    },
    {
     "name": "stdout",
     "output_type": "stream",
     "text": [
      "[1000]\ttrain_set's rmse: 48.193\tvalid_set's rmse: 57.474\n",
      "[2000]\ttrain_set's rmse: 40.6361\tvalid_set's rmse: 54.7616\n",
      "[3000]\ttrain_set's rmse: 36.2193\tvalid_set's rmse: 53.3092\n",
      "[4000]\ttrain_set's rmse: 33.0831\tvalid_set's rmse: 52.5924\n",
      "[5000]\ttrain_set's rmse: 30.6427\tvalid_set's rmse: 52.1562\n",
      "[6000]\ttrain_set's rmse: 28.5952\tvalid_set's rmse: 51.7816\n",
      "[7000]\ttrain_set's rmse: 26.9124\tvalid_set's rmse: 51.555\n",
      "[8000]\ttrain_set's rmse: 25.4491\tvalid_set's rmse: 51.3421\n",
      "[9000]\ttrain_set's rmse: 24.1649\tvalid_set's rmse: 51.1592\n",
      "[10000]\ttrain_set's rmse: 23.0114\tvalid_set's rmse: 51.0063\n"
     ]
    },
    {
     "name": "stderr",
     "output_type": "stream",
     "text": [
      "/Users/Victor/Projects/udacity-aws-mle/venv/lib/python3.7/site-packages/lightgbm/engine.py:239: UserWarning: 'verbose_eval' argument is deprecated and will be removed in a future release of LightGBM. Pass 'log_evaluation()' callback via 'callbacks' argument instead.\n",
      "  _log_warning(\"'verbose_eval' argument is deprecated and will be removed in a future release of LightGBM. \"\n"
     ]
    },
    {
     "name": "stdout",
     "output_type": "stream",
     "text": [
      "[1000]\ttrain_set's rmse: 47.8605\tvalid_set's rmse: 64.7407\n",
      "[2000]\ttrain_set's rmse: 40.2377\tvalid_set's rmse: 60.748\n",
      "[3000]\ttrain_set's rmse: 35.7502\tvalid_set's rmse: 58.8977\n",
      "[4000]\ttrain_set's rmse: 32.5663\tvalid_set's rmse: 57.7178\n",
      "[5000]\ttrain_set's rmse: 30.1003\tvalid_set's rmse: 56.8274\n",
      "[6000]\ttrain_set's rmse: 28.0998\tvalid_set's rmse: 56.1893\n",
      "[7000]\ttrain_set's rmse: 26.4232\tvalid_set's rmse: 55.7298\n",
      "[8000]\ttrain_set's rmse: 24.9856\tvalid_set's rmse: 55.3879\n",
      "[9000]\ttrain_set's rmse: 23.7104\tvalid_set's rmse: 55.0552\n",
      "[10000]\ttrain_set's rmse: 22.5666\tvalid_set's rmse: 54.8282\n"
     ]
    },
    {
     "name": "stderr",
     "output_type": "stream",
     "text": [
      "/Users/Victor/Projects/udacity-aws-mle/venv/lib/python3.7/site-packages/lightgbm/engine.py:239: UserWarning: 'verbose_eval' argument is deprecated and will be removed in a future release of LightGBM. Pass 'log_evaluation()' callback via 'callbacks' argument instead.\n",
      "  _log_warning(\"'verbose_eval' argument is deprecated and will be removed in a future release of LightGBM. \"\n"
     ]
    },
    {
     "name": "stdout",
     "output_type": "stream",
     "text": [
      "[1000]\ttrain_set's rmse: 48.5558\tvalid_set's rmse: 57.0543\n",
      "[2000]\ttrain_set's rmse: 40.8365\tvalid_set's rmse: 54.0067\n",
      "[3000]\ttrain_set's rmse: 36.3626\tvalid_set's rmse: 52.6112\n",
      "[4000]\ttrain_set's rmse: 33.1602\tvalid_set's rmse: 51.851\n",
      "[5000]\ttrain_set's rmse: 30.6336\tvalid_set's rmse: 51.4033\n",
      "[6000]\ttrain_set's rmse: 28.6373\tvalid_set's rmse: 51.0776\n",
      "[7000]\ttrain_set's rmse: 26.9409\tvalid_set's rmse: 50.9025\n",
      "[8000]\ttrain_set's rmse: 25.4751\tvalid_set's rmse: 50.674\n",
      "[9000]\ttrain_set's rmse: 24.2053\tvalid_set's rmse: 50.5551\n",
      "[10000]\ttrain_set's rmse: 23.0488\tvalid_set's rmse: 50.5043\n"
     ]
    },
    {
     "name": "stderr",
     "output_type": "stream",
     "text": [
      "/Users/Victor/Projects/udacity-aws-mle/venv/lib/python3.7/site-packages/lightgbm/engine.py:239: UserWarning: 'verbose_eval' argument is deprecated and will be removed in a future release of LightGBM. Pass 'log_evaluation()' callback via 'callbacks' argument instead.\n",
      "  _log_warning(\"'verbose_eval' argument is deprecated and will be removed in a future release of LightGBM. \"\n"
     ]
    },
    {
     "name": "stdout",
     "output_type": "stream",
     "text": [
      "[1000]\ttrain_set's rmse: 47.9649\tvalid_set's rmse: 61.841\n",
      "[2000]\ttrain_set's rmse: 40.2397\tvalid_set's rmse: 59.3572\n",
      "[3000]\ttrain_set's rmse: 35.791\tvalid_set's rmse: 58.0041\n",
      "[4000]\ttrain_set's rmse: 32.5899\tvalid_set's rmse: 57.1881\n",
      "[5000]\ttrain_set's rmse: 30.1435\tvalid_set's rmse: 56.7479\n",
      "[6000]\ttrain_set's rmse: 28.1151\tvalid_set's rmse: 56.395\n",
      "[7000]\ttrain_set's rmse: 26.4172\tvalid_set's rmse: 56.1519\n",
      "[8000]\ttrain_set's rmse: 24.9455\tvalid_set's rmse: 55.9609\n",
      "[9000]\ttrain_set's rmse: 23.6847\tvalid_set's rmse: 55.8349\n",
      "[10000]\ttrain_set's rmse: 22.5657\tvalid_set's rmse: 55.7897\n"
     ]
    },
    {
     "name": "stderr",
     "output_type": "stream",
     "text": [
      "/Users/Victor/Projects/udacity-aws-mle/venv/lib/python3.7/site-packages/lightgbm/engine.py:239: UserWarning: 'verbose_eval' argument is deprecated and will be removed in a future release of LightGBM. Pass 'log_evaluation()' callback via 'callbacks' argument instead.\n",
      "  _log_warning(\"'verbose_eval' argument is deprecated and will be removed in a future release of LightGBM. \"\n"
     ]
    },
    {
     "name": "stdout",
     "output_type": "stream",
     "text": [
      "[1000]\ttrain_set's rmse: 48.3406\tvalid_set's rmse: 58.9292\n",
      "[2000]\ttrain_set's rmse: 40.6874\tvalid_set's rmse: 54.8144\n",
      "[3000]\ttrain_set's rmse: 36.2192\tvalid_set's rmse: 53.1583\n",
      "[4000]\ttrain_set's rmse: 33.0517\tvalid_set's rmse: 52.3571\n",
      "[5000]\ttrain_set's rmse: 30.5117\tvalid_set's rmse: 51.9071\n",
      "[6000]\ttrain_set's rmse: 28.4218\tvalid_set's rmse: 51.5728\n",
      "[7000]\ttrain_set's rmse: 26.6532\tvalid_set's rmse: 51.3266\n",
      "[8000]\ttrain_set's rmse: 25.1279\tvalid_set's rmse: 51.1786\n",
      "[9000]\ttrain_set's rmse: 23.8093\tvalid_set's rmse: 51.0843\n",
      "[10000]\ttrain_set's rmse: 22.6824\tvalid_set's rmse: 50.9741\n"
     ]
    },
    {
     "name": "stderr",
     "output_type": "stream",
     "text": [
      "/Users/Victor/Projects/udacity-aws-mle/venv/lib/python3.7/site-packages/lightgbm/engine.py:239: UserWarning: 'verbose_eval' argument is deprecated and will be removed in a future release of LightGBM. Pass 'log_evaluation()' callback via 'callbacks' argument instead.\n",
      "  _log_warning(\"'verbose_eval' argument is deprecated and will be removed in a future release of LightGBM. \"\n"
     ]
    },
    {
     "name": "stdout",
     "output_type": "stream",
     "text": [
      "[1000]\ttrain_set's rmse: 48.3605\tvalid_set's rmse: 61.5858\n",
      "[2000]\ttrain_set's rmse: 40.6366\tvalid_set's rmse: 58.2912\n",
      "[3000]\ttrain_set's rmse: 36.0964\tvalid_set's rmse: 56.5768\n",
      "[4000]\ttrain_set's rmse: 32.9721\tvalid_set's rmse: 55.7472\n",
      "[5000]\ttrain_set's rmse: 30.5573\tvalid_set's rmse: 55.0373\n",
      "[6000]\ttrain_set's rmse: 28.5551\tvalid_set's rmse: 54.6718\n",
      "[7000]\ttrain_set's rmse: 26.8534\tvalid_set's rmse: 54.2796\n",
      "[8000]\ttrain_set's rmse: 25.3793\tvalid_set's rmse: 53.9768\n",
      "[9000]\ttrain_set's rmse: 24.0561\tvalid_set's rmse: 53.6595\n",
      "[10000]\ttrain_set's rmse: 22.9144\tvalid_set's rmse: 53.4791\n"
     ]
    },
    {
     "name": "stderr",
     "output_type": "stream",
     "text": [
      "/Users/Victor/Projects/udacity-aws-mle/venv/lib/python3.7/site-packages/lightgbm/engine.py:239: UserWarning: 'verbose_eval' argument is deprecated and will be removed in a future release of LightGBM. Pass 'log_evaluation()' callback via 'callbacks' argument instead.\n",
      "  _log_warning(\"'verbose_eval' argument is deprecated and will be removed in a future release of LightGBM. \"\n"
     ]
    },
    {
     "name": "stdout",
     "output_type": "stream",
     "text": [
      "[1000]\ttrain_set's rmse: 47.8815\tvalid_set's rmse: 59.1776\n",
      "[2000]\ttrain_set's rmse: 40.203\tvalid_set's rmse: 56.8416\n",
      "[3000]\ttrain_set's rmse: 35.8553\tvalid_set's rmse: 55.7599\n",
      "[4000]\ttrain_set's rmse: 32.7631\tvalid_set's rmse: 55.0644\n",
      "[5000]\ttrain_set's rmse: 30.3524\tvalid_set's rmse: 54.5597\n",
      "[6000]\ttrain_set's rmse: 28.344\tvalid_set's rmse: 54.0874\n",
      "[7000]\ttrain_set's rmse: 26.6689\tvalid_set's rmse: 53.9042\n",
      "[8000]\ttrain_set's rmse: 25.2245\tvalid_set's rmse: 53.7325\n",
      "[9000]\ttrain_set's rmse: 23.9575\tvalid_set's rmse: 53.5523\n",
      "[10000]\ttrain_set's rmse: 22.8301\tvalid_set's rmse: 53.4263\n"
     ]
    },
    {
     "name": "stderr",
     "output_type": "stream",
     "text": [
      "/Users/Victor/Projects/udacity-aws-mle/venv/lib/python3.7/site-packages/lightgbm/engine.py:239: UserWarning: 'verbose_eval' argument is deprecated and will be removed in a future release of LightGBM. Pass 'log_evaluation()' callback via 'callbacks' argument instead.\n",
      "  _log_warning(\"'verbose_eval' argument is deprecated and will be removed in a future release of LightGBM. \"\n"
     ]
    },
    {
     "name": "stdout",
     "output_type": "stream",
     "text": [
      "[1000]\ttrain_set's rmse: 48.4057\tvalid_set's rmse: 55.5398\n",
      "[2000]\ttrain_set's rmse: 40.7455\tvalid_set's rmse: 52.6368\n",
      "[3000]\ttrain_set's rmse: 36.3582\tvalid_set's rmse: 51.2867\n",
      "[4000]\ttrain_set's rmse: 33.2689\tvalid_set's rmse: 50.4623\n",
      "[5000]\ttrain_set's rmse: 30.8317\tvalid_set's rmse: 49.7656\n",
      "[6000]\ttrain_set's rmse: 28.8441\tvalid_set's rmse: 49.2772\n",
      "[7000]\ttrain_set's rmse: 27.1259\tvalid_set's rmse: 48.9791\n",
      "[8000]\ttrain_set's rmse: 25.6688\tvalid_set's rmse: 48.8017\n",
      "[9000]\ttrain_set's rmse: 24.4016\tvalid_set's rmse: 48.68\n",
      "[10000]\ttrain_set's rmse: 23.2798\tvalid_set's rmse: 48.5704\n"
     ]
    },
    {
     "name": "stderr",
     "output_type": "stream",
     "text": [
      "\t-52.193\t = Validation root_mean_squared_error score\n",
      "\t140.01s\t = Training runtime\n",
      "\t14.0s\t = Validation runtime\n",
      "Fitting model: LightGBM_BAG_L1 ...\n",
      "/Users/Victor/Projects/udacity-aws-mle/venv/lib/python3.7/site-packages/lightgbm/engine.py:239: UserWarning: 'verbose_eval' argument is deprecated and will be removed in a future release of LightGBM. Pass 'log_evaluation()' callback via 'callbacks' argument instead.\n",
      "  _log_warning(\"'verbose_eval' argument is deprecated and will be removed in a future release of LightGBM. \"\n"
     ]
    },
    {
     "name": "stdout",
     "output_type": "stream",
     "text": [
      "[1000]\ttrain_set's rmse: 22.1998\tvalid_set's rmse: 37.0494\n"
     ]
    },
    {
     "name": "stderr",
     "output_type": "stream",
     "text": [
      "/Users/Victor/Projects/udacity-aws-mle/venv/lib/python3.7/site-packages/lightgbm/engine.py:239: UserWarning: 'verbose_eval' argument is deprecated and will be removed in a future release of LightGBM. Pass 'log_evaluation()' callback via 'callbacks' argument instead.\n",
      "  _log_warning(\"'verbose_eval' argument is deprecated and will be removed in a future release of LightGBM. \"\n"
     ]
    },
    {
     "name": "stdout",
     "output_type": "stream",
     "text": [
      "[1000]\ttrain_set's rmse: 22.5049\tvalid_set's rmse: 38.3108\n",
      "[2000]\ttrain_set's rmse: 16.4645\tvalid_set's rmse: 37.0111\n",
      "[3000]\ttrain_set's rmse: 13.0316\tvalid_set's rmse: 36.558\n"
     ]
    },
    {
     "name": "stderr",
     "output_type": "stream",
     "text": [
      "/Users/Victor/Projects/udacity-aws-mle/venv/lib/python3.7/site-packages/lightgbm/engine.py:239: UserWarning: 'verbose_eval' argument is deprecated and will be removed in a future release of LightGBM. Pass 'log_evaluation()' callback via 'callbacks' argument instead.\n",
      "  _log_warning(\"'verbose_eval' argument is deprecated and will be removed in a future release of LightGBM. \"\n"
     ]
    },
    {
     "name": "stdout",
     "output_type": "stream",
     "text": [
      "[1000]\ttrain_set's rmse: 22.3569\tvalid_set's rmse: 33.8751\n"
     ]
    },
    {
     "name": "stderr",
     "output_type": "stream",
     "text": [
      "/Users/Victor/Projects/udacity-aws-mle/venv/lib/python3.7/site-packages/lightgbm/engine.py:239: UserWarning: 'verbose_eval' argument is deprecated and will be removed in a future release of LightGBM. Pass 'log_evaluation()' callback via 'callbacks' argument instead.\n",
      "  _log_warning(\"'verbose_eval' argument is deprecated and will be removed in a future release of LightGBM. \"\n"
     ]
    },
    {
     "name": "stdout",
     "output_type": "stream",
     "text": [
      "[1000]\ttrain_set's rmse: 22.0048\tvalid_set's rmse: 39.1162\n",
      "[2000]\ttrain_set's rmse: 16.2252\tvalid_set's rmse: 38.3878\n",
      "[3000]\ttrain_set's rmse: 12.9201\tvalid_set's rmse: 38.3094\n"
     ]
    },
    {
     "name": "stderr",
     "output_type": "stream",
     "text": [
      "/Users/Victor/Projects/udacity-aws-mle/venv/lib/python3.7/site-packages/lightgbm/engine.py:239: UserWarning: 'verbose_eval' argument is deprecated and will be removed in a future release of LightGBM. Pass 'log_evaluation()' callback via 'callbacks' argument instead.\n",
      "  _log_warning(\"'verbose_eval' argument is deprecated and will be removed in a future release of LightGBM. \"\n"
     ]
    },
    {
     "name": "stdout",
     "output_type": "stream",
     "text": [
      "[1000]\ttrain_set's rmse: 22.135\tvalid_set's rmse: 38.6026\n"
     ]
    },
    {
     "name": "stderr",
     "output_type": "stream",
     "text": [
      "/Users/Victor/Projects/udacity-aws-mle/venv/lib/python3.7/site-packages/lightgbm/engine.py:239: UserWarning: 'verbose_eval' argument is deprecated and will be removed in a future release of LightGBM. Pass 'log_evaluation()' callback via 'callbacks' argument instead.\n",
      "  _log_warning(\"'verbose_eval' argument is deprecated and will be removed in a future release of LightGBM. \"\n"
     ]
    },
    {
     "name": "stdout",
     "output_type": "stream",
     "text": [
      "[1000]\ttrain_set's rmse: 22.0223\tvalid_set's rmse: 40.3018\n",
      "[2000]\ttrain_set's rmse: 16.0743\tvalid_set's rmse: 40.2616\n"
     ]
    },
    {
     "name": "stderr",
     "output_type": "stream",
     "text": [
      "/Users/Victor/Projects/udacity-aws-mle/venv/lib/python3.7/site-packages/lightgbm/engine.py:239: UserWarning: 'verbose_eval' argument is deprecated and will be removed in a future release of LightGBM. Pass 'log_evaluation()' callback via 'callbacks' argument instead.\n",
      "  _log_warning(\"'verbose_eval' argument is deprecated and will be removed in a future release of LightGBM. \"\n"
     ]
    },
    {
     "name": "stdout",
     "output_type": "stream",
     "text": [
      "[1000]\ttrain_set's rmse: 22.1114\tvalid_set's rmse: 36.2958\n",
      "[2000]\ttrain_set's rmse: 16.2356\tvalid_set's rmse: 36.0759\n"
     ]
    },
    {
     "name": "stderr",
     "output_type": "stream",
     "text": [
      "/Users/Victor/Projects/udacity-aws-mle/venv/lib/python3.7/site-packages/lightgbm/engine.py:239: UserWarning: 'verbose_eval' argument is deprecated and will be removed in a future release of LightGBM. Pass 'log_evaluation()' callback via 'callbacks' argument instead.\n",
      "  _log_warning(\"'verbose_eval' argument is deprecated and will be removed in a future release of LightGBM. \"\n"
     ]
    },
    {
     "name": "stdout",
     "output_type": "stream",
     "text": [
      "[1000]\ttrain_set's rmse: 22.094\tvalid_set's rmse: 37.1067\n",
      "[2000]\ttrain_set's rmse: 16.3575\tvalid_set's rmse: 36.5207\n"
     ]
    },
    {
     "name": "stderr",
     "output_type": "stream",
     "text": [
      "/Users/Victor/Projects/udacity-aws-mle/venv/lib/python3.7/site-packages/lightgbm/engine.py:239: UserWarning: 'verbose_eval' argument is deprecated and will be removed in a future release of LightGBM. Pass 'log_evaluation()' callback via 'callbacks' argument instead.\n",
      "  _log_warning(\"'verbose_eval' argument is deprecated and will be removed in a future release of LightGBM. \"\n"
     ]
    },
    {
     "name": "stdout",
     "output_type": "stream",
     "text": [
      "[1000]\ttrain_set's rmse: 22.4174\tvalid_set's rmse: 41.732\n",
      "[2000]\ttrain_set's rmse: 16.4102\tvalid_set's rmse: 41.1961\n"
     ]
    },
    {
     "name": "stderr",
     "output_type": "stream",
     "text": [
      "/Users/Victor/Projects/udacity-aws-mle/venv/lib/python3.7/site-packages/lightgbm/engine.py:239: UserWarning: 'verbose_eval' argument is deprecated and will be removed in a future release of LightGBM. Pass 'log_evaluation()' callback via 'callbacks' argument instead.\n",
      "  _log_warning(\"'verbose_eval' argument is deprecated and will be removed in a future release of LightGBM. \"\n"
     ]
    },
    {
     "name": "stdout",
     "output_type": "stream",
     "text": [
      "[1000]\ttrain_set's rmse: 22.4353\tvalid_set's rmse: 37.0984\n",
      "[2000]\ttrain_set's rmse: 16.6081\tvalid_set's rmse: 36.7285\n",
      "[3000]\ttrain_set's rmse: 13.0575\tvalid_set's rmse: 36.4675\n",
      "[4000]\ttrain_set's rmse: 10.7281\tvalid_set's rmse: 36.3871\n"
     ]
    },
    {
     "name": "stderr",
     "output_type": "stream",
     "text": [
      "\t-37.4085\t = Validation root_mean_squared_error score\n",
      "\t22.42s\t = Training runtime\n",
      "\t1.41s\t = Validation runtime\n",
      "Fitting model: RandomForestMSE_BAG_L1 ...\n",
      "\t-42.1447\t = Validation root_mean_squared_error score\n",
      "\t4.31s\t = Training runtime\n",
      "\t0.41s\t = Validation runtime\n",
      "Fitting model: CatBoost_BAG_L1 ...\n",
      "\t-37.7192\t = Validation root_mean_squared_error score\n",
      "\t179.58s\t = Training runtime\n",
      "\t0.12s\t = Validation runtime\n",
      "Fitting model: ExtraTreesMSE_BAG_L1 ...\n",
      "\t-41.5413\t = Validation root_mean_squared_error score\n",
      "\t2.27s\t = Training runtime\n",
      "\t0.43s\t = Validation runtime\n",
      "Fitting model: NeuralNetFastAI_BAG_L1 ...\n",
      "/Users/Victor/Projects/udacity-aws-mle/venv/lib/python3.7/site-packages/torch/overrides.py:1351: DeprecationWarning: Defining your `__torch_function__ as a plain method is deprecated and will be an error in PyTorch 1.11, please define it as a classmethod.\n",
      "  DeprecationWarning)\n",
      "/Users/Victor/Projects/udacity-aws-mle/venv/lib/python3.7/site-packages/torch/overrides.py:1351: DeprecationWarning: Defining your `__torch_function__ as a plain method is deprecated and will be an error in PyTorch 1.11, please define it as a classmethod.\n",
      "  DeprecationWarning)\n",
      "/Users/Victor/Projects/udacity-aws-mle/venv/lib/python3.7/site-packages/torch/overrides.py:1351: DeprecationWarning: Defining your `__torch_function__ as a plain method is deprecated and will be an error in PyTorch 1.11, please define it as a classmethod.\n",
      "  DeprecationWarning)\n",
      "/Users/Victor/Projects/udacity-aws-mle/venv/lib/python3.7/site-packages/torch/overrides.py:1351: DeprecationWarning: Defining your `__torch_function__ as a plain method is deprecated and will be an error in PyTorch 1.11, please define it as a classmethod.\n",
      "  DeprecationWarning)\n",
      "/Users/Victor/Projects/udacity-aws-mle/venv/lib/python3.7/site-packages/torch/overrides.py:1351: DeprecationWarning: Defining your `__torch_function__ as a plain method is deprecated and will be an error in PyTorch 1.11, please define it as a classmethod.\n",
      "  DeprecationWarning)\n",
      "/Users/Victor/Projects/udacity-aws-mle/venv/lib/python3.7/site-packages/torch/overrides.py:1351: DeprecationWarning: Defining your `__torch_function__ as a plain method is deprecated and will be an error in PyTorch 1.11, please define it as a classmethod.\n",
      "  DeprecationWarning)\n",
      "/Users/Victor/Projects/udacity-aws-mle/venv/lib/python3.7/site-packages/torch/overrides.py:1351: DeprecationWarning: Defining your `__torch_function__ as a plain method is deprecated and will be an error in PyTorch 1.11, please define it as a classmethod.\n",
      "  DeprecationWarning)\n",
      "/Users/Victor/Projects/udacity-aws-mle/venv/lib/python3.7/site-packages/torch/overrides.py:1351: DeprecationWarning: Defining your `__torch_function__ as a plain method is deprecated and will be an error in PyTorch 1.11, please define it as a classmethod.\n",
      "  DeprecationWarning)\n",
      "/Users/Victor/Projects/udacity-aws-mle/venv/lib/python3.7/site-packages/torch/overrides.py:1351: DeprecationWarning: Defining your `__torch_function__ as a plain method is deprecated and will be an error in PyTorch 1.11, please define it as a classmethod.\n",
      "  DeprecationWarning)\n",
      "/Users/Victor/Projects/udacity-aws-mle/venv/lib/python3.7/site-packages/torch/overrides.py:1351: DeprecationWarning: Defining your `__torch_function__ as a plain method is deprecated and will be an error in PyTorch 1.11, please define it as a classmethod.\n",
      "  DeprecationWarning)\n",
      "\t-46.5719\t = Validation root_mean_squared_error score\n",
      "\t120.6s\t = Training runtime\n",
      "\t0.4s\t = Validation runtime\n",
      "Fitting model: XGBoost_BAG_L1 ...\n",
      "\t-38.997\t = Validation root_mean_squared_error score\n",
      "\t57.46s\t = Training runtime\n",
      "\t0.23s\t = Validation runtime\n",
      "Fitting model: NeuralNetMXNet_BAG_L1 ...\n",
      "\t-39.3064\t = Validation root_mean_squared_error score\n",
      "\t1023.57s\t = Training runtime\n",
      "\t1.55s\t = Validation runtime\n",
      "Fitting model: LightGBMLarge_BAG_L1 ...\n",
      "/Users/Victor/Projects/udacity-aws-mle/venv/lib/python3.7/site-packages/lightgbm/engine.py:239: UserWarning: 'verbose_eval' argument is deprecated and will be removed in a future release of LightGBM. Pass 'log_evaluation()' callback via 'callbacks' argument instead.\n",
      "  _log_warning(\"'verbose_eval' argument is deprecated and will be removed in a future release of LightGBM. \"\n"
     ]
    },
    {
     "name": "stdout",
     "output_type": "stream",
     "text": [
      "[1000]\ttrain_set's rmse: 9.48415\tvalid_set's rmse: 35.5604\n"
     ]
    },
    {
     "name": "stderr",
     "output_type": "stream",
     "text": [
      "/Users/Victor/Projects/udacity-aws-mle/venv/lib/python3.7/site-packages/lightgbm/engine.py:239: UserWarning: 'verbose_eval' argument is deprecated and will be removed in a future release of LightGBM. Pass 'log_evaluation()' callback via 'callbacks' argument instead.\n",
      "  _log_warning(\"'verbose_eval' argument is deprecated and will be removed in a future release of LightGBM. \"\n"
     ]
    },
    {
     "name": "stdout",
     "output_type": "stream",
     "text": [
      "[1000]\ttrain_set's rmse: 9.41141\tvalid_set's rmse: 37.8318\n"
     ]
    },
    {
     "name": "stderr",
     "output_type": "stream",
     "text": [
      "/Users/Victor/Projects/udacity-aws-mle/venv/lib/python3.7/site-packages/lightgbm/engine.py:239: UserWarning: 'verbose_eval' argument is deprecated and will be removed in a future release of LightGBM. Pass 'log_evaluation()' callback via 'callbacks' argument instead.\n",
      "  _log_warning(\"'verbose_eval' argument is deprecated and will be removed in a future release of LightGBM. \"\n"
     ]
    },
    {
     "name": "stdout",
     "output_type": "stream",
     "text": [
      "[1000]\ttrain_set's rmse: 9.50615\tvalid_set's rmse: 33.6869\n"
     ]
    },
    {
     "name": "stderr",
     "output_type": "stream",
     "text": [
      "/Users/Victor/Projects/udacity-aws-mle/venv/lib/python3.7/site-packages/lightgbm/engine.py:239: UserWarning: 'verbose_eval' argument is deprecated and will be removed in a future release of LightGBM. Pass 'log_evaluation()' callback via 'callbacks' argument instead.\n",
      "  _log_warning(\"'verbose_eval' argument is deprecated and will be removed in a future release of LightGBM. \"\n"
     ]
    },
    {
     "name": "stdout",
     "output_type": "stream",
     "text": [
      "[1000]\ttrain_set's rmse: 9.60798\tvalid_set's rmse: 38.8329\n"
     ]
    },
    {
     "name": "stderr",
     "output_type": "stream",
     "text": [
      "/Users/Victor/Projects/udacity-aws-mle/venv/lib/python3.7/site-packages/lightgbm/engine.py:239: UserWarning: 'verbose_eval' argument is deprecated and will be removed in a future release of LightGBM. Pass 'log_evaluation()' callback via 'callbacks' argument instead.\n",
      "  _log_warning(\"'verbose_eval' argument is deprecated and will be removed in a future release of LightGBM. \"\n"
     ]
    },
    {
     "name": "stdout",
     "output_type": "stream",
     "text": [
      "[1000]\ttrain_set's rmse: 9.3128\tvalid_set's rmse: 37.0314\n"
     ]
    },
    {
     "name": "stderr",
     "output_type": "stream",
     "text": [
      "/Users/Victor/Projects/udacity-aws-mle/venv/lib/python3.7/site-packages/lightgbm/engine.py:239: UserWarning: 'verbose_eval' argument is deprecated and will be removed in a future release of LightGBM. Pass 'log_evaluation()' callback via 'callbacks' argument instead.\n",
      "  _log_warning(\"'verbose_eval' argument is deprecated and will be removed in a future release of LightGBM. \"\n",
      "/Users/Victor/Projects/udacity-aws-mle/venv/lib/python3.7/site-packages/lightgbm/engine.py:239: UserWarning: 'verbose_eval' argument is deprecated and will be removed in a future release of LightGBM. Pass 'log_evaluation()' callback via 'callbacks' argument instead.\n",
      "  _log_warning(\"'verbose_eval' argument is deprecated and will be removed in a future release of LightGBM. \"\n"
     ]
    },
    {
     "name": "stdout",
     "output_type": "stream",
     "text": [
      "[1000]\ttrain_set's rmse: 9.24531\tvalid_set's rmse: 34.5777\n"
     ]
    },
    {
     "name": "stderr",
     "output_type": "stream",
     "text": [
      "/Users/Victor/Projects/udacity-aws-mle/venv/lib/python3.7/site-packages/lightgbm/engine.py:239: UserWarning: 'verbose_eval' argument is deprecated and will be removed in a future release of LightGBM. Pass 'log_evaluation()' callback via 'callbacks' argument instead.\n",
      "  _log_warning(\"'verbose_eval' argument is deprecated and will be removed in a future release of LightGBM. \"\n"
     ]
    },
    {
     "name": "stdout",
     "output_type": "stream",
     "text": [
      "[1000]\ttrain_set's rmse: 9.22097\tvalid_set's rmse: 36.3426\n"
     ]
    },
    {
     "name": "stderr",
     "output_type": "stream",
     "text": [
      "/Users/Victor/Projects/udacity-aws-mle/venv/lib/python3.7/site-packages/lightgbm/engine.py:239: UserWarning: 'verbose_eval' argument is deprecated and will be removed in a future release of LightGBM. Pass 'log_evaluation()' callback via 'callbacks' argument instead.\n",
      "  _log_warning(\"'verbose_eval' argument is deprecated and will be removed in a future release of LightGBM. \"\n",
      "/Users/Victor/Projects/udacity-aws-mle/venv/lib/python3.7/site-packages/lightgbm/engine.py:239: UserWarning: 'verbose_eval' argument is deprecated and will be removed in a future release of LightGBM. Pass 'log_evaluation()' callback via 'callbacks' argument instead.\n",
      "  _log_warning(\"'verbose_eval' argument is deprecated and will be removed in a future release of LightGBM. \"\n",
      "\t-37.1855\t = Validation root_mean_squared_error score\n",
      "\t34.17s\t = Training runtime\n",
      "\t0.99s\t = Validation runtime\n",
      "Fitting model: WeightedEnsemble_L2 ...\n",
      "\t-35.3155\t = Validation root_mean_squared_error score\n",
      "\t1.03s\t = Training runtime\n",
      "\t0.0s\t = Validation runtime\n",
      "Fitting model: KNeighborsUnif_BAG_L2 ...\n",
      "\t-37.9369\t = Validation root_mean_squared_error score\n",
      "\t0.01s\t = Training runtime\n",
      "\t4.13s\t = Validation runtime\n",
      "Fitting model: KNeighborsDist_BAG_L2 ...\n",
      "\t-37.8906\t = Validation root_mean_squared_error score\n",
      "\t0.0s\t = Training runtime\n",
      "\t3.79s\t = Validation runtime\n",
      "Fitting model: LightGBMXT_BAG_L2 ...\n",
      "/Users/Victor/Projects/udacity-aws-mle/venv/lib/python3.7/site-packages/lightgbm/engine.py:239: UserWarning: 'verbose_eval' argument is deprecated and will be removed in a future release of LightGBM. Pass 'log_evaluation()' callback via 'callbacks' argument instead.\n",
      "  _log_warning(\"'verbose_eval' argument is deprecated and will be removed in a future release of LightGBM. \"\n",
      "/Users/Victor/Projects/udacity-aws-mle/venv/lib/python3.7/site-packages/lightgbm/engine.py:239: UserWarning: 'verbose_eval' argument is deprecated and will be removed in a future release of LightGBM. Pass 'log_evaluation()' callback via 'callbacks' argument instead.\n",
      "  _log_warning(\"'verbose_eval' argument is deprecated and will be removed in a future release of LightGBM. \"\n",
      "/Users/Victor/Projects/udacity-aws-mle/venv/lib/python3.7/site-packages/lightgbm/engine.py:239: UserWarning: 'verbose_eval' argument is deprecated and will be removed in a future release of LightGBM. Pass 'log_evaluation()' callback via 'callbacks' argument instead.\n",
      "  _log_warning(\"'verbose_eval' argument is deprecated and will be removed in a future release of LightGBM. \"\n",
      "/Users/Victor/Projects/udacity-aws-mle/venv/lib/python3.7/site-packages/lightgbm/engine.py:239: UserWarning: 'verbose_eval' argument is deprecated and will be removed in a future release of LightGBM. Pass 'log_evaluation()' callback via 'callbacks' argument instead.\n",
      "  _log_warning(\"'verbose_eval' argument is deprecated and will be removed in a future release of LightGBM. \"\n",
      "/Users/Victor/Projects/udacity-aws-mle/venv/lib/python3.7/site-packages/lightgbm/engine.py:239: UserWarning: 'verbose_eval' argument is deprecated and will be removed in a future release of LightGBM. Pass 'log_evaluation()' callback via 'callbacks' argument instead.\n",
      "  _log_warning(\"'verbose_eval' argument is deprecated and will be removed in a future release of LightGBM. \"\n",
      "/Users/Victor/Projects/udacity-aws-mle/venv/lib/python3.7/site-packages/lightgbm/engine.py:239: UserWarning: 'verbose_eval' argument is deprecated and will be removed in a future release of LightGBM. Pass 'log_evaluation()' callback via 'callbacks' argument instead.\n",
      "  _log_warning(\"'verbose_eval' argument is deprecated and will be removed in a future release of LightGBM. \"\n",
      "/Users/Victor/Projects/udacity-aws-mle/venv/lib/python3.7/site-packages/lightgbm/engine.py:239: UserWarning: 'verbose_eval' argument is deprecated and will be removed in a future release of LightGBM. Pass 'log_evaluation()' callback via 'callbacks' argument instead.\n",
      "  _log_warning(\"'verbose_eval' argument is deprecated and will be removed in a future release of LightGBM. \"\n",
      "/Users/Victor/Projects/udacity-aws-mle/venv/lib/python3.7/site-packages/lightgbm/engine.py:239: UserWarning: 'verbose_eval' argument is deprecated and will be removed in a future release of LightGBM. Pass 'log_evaluation()' callback via 'callbacks' argument instead.\n",
      "  _log_warning(\"'verbose_eval' argument is deprecated and will be removed in a future release of LightGBM. \"\n",
      "/Users/Victor/Projects/udacity-aws-mle/venv/lib/python3.7/site-packages/lightgbm/engine.py:239: UserWarning: 'verbose_eval' argument is deprecated and will be removed in a future release of LightGBM. Pass 'log_evaluation()' callback via 'callbacks' argument instead.\n",
      "  _log_warning(\"'verbose_eval' argument is deprecated and will be removed in a future release of LightGBM. \"\n",
      "/Users/Victor/Projects/udacity-aws-mle/venv/lib/python3.7/site-packages/lightgbm/engine.py:239: UserWarning: 'verbose_eval' argument is deprecated and will be removed in a future release of LightGBM. Pass 'log_evaluation()' callback via 'callbacks' argument instead.\n",
      "  _log_warning(\"'verbose_eval' argument is deprecated and will be removed in a future release of LightGBM. \"\n",
      "\t-36.4042\t = Validation root_mean_squared_error score\n",
      "\t6.11s\t = Training runtime\n",
      "\t0.16s\t = Validation runtime\n",
      "Fitting model: LightGBM_BAG_L2 ...\n",
      "/Users/Victor/Projects/udacity-aws-mle/venv/lib/python3.7/site-packages/lightgbm/engine.py:239: UserWarning: 'verbose_eval' argument is deprecated and will be removed in a future release of LightGBM. Pass 'log_evaluation()' callback via 'callbacks' argument instead.\n",
      "  _log_warning(\"'verbose_eval' argument is deprecated and will be removed in a future release of LightGBM. \"\n",
      "/Users/Victor/Projects/udacity-aws-mle/venv/lib/python3.7/site-packages/lightgbm/engine.py:239: UserWarning: 'verbose_eval' argument is deprecated and will be removed in a future release of LightGBM. Pass 'log_evaluation()' callback via 'callbacks' argument instead.\n",
      "  _log_warning(\"'verbose_eval' argument is deprecated and will be removed in a future release of LightGBM. \"\n",
      "/Users/Victor/Projects/udacity-aws-mle/venv/lib/python3.7/site-packages/lightgbm/engine.py:239: UserWarning: 'verbose_eval' argument is deprecated and will be removed in a future release of LightGBM. Pass 'log_evaluation()' callback via 'callbacks' argument instead.\n",
      "  _log_warning(\"'verbose_eval' argument is deprecated and will be removed in a future release of LightGBM. \"\n",
      "/Users/Victor/Projects/udacity-aws-mle/venv/lib/python3.7/site-packages/lightgbm/engine.py:239: UserWarning: 'verbose_eval' argument is deprecated and will be removed in a future release of LightGBM. Pass 'log_evaluation()' callback via 'callbacks' argument instead.\n",
      "  _log_warning(\"'verbose_eval' argument is deprecated and will be removed in a future release of LightGBM. \"\n",
      "/Users/Victor/Projects/udacity-aws-mle/venv/lib/python3.7/site-packages/lightgbm/engine.py:239: UserWarning: 'verbose_eval' argument is deprecated and will be removed in a future release of LightGBM. Pass 'log_evaluation()' callback via 'callbacks' argument instead.\n",
      "  _log_warning(\"'verbose_eval' argument is deprecated and will be removed in a future release of LightGBM. \"\n",
      "/Users/Victor/Projects/udacity-aws-mle/venv/lib/python3.7/site-packages/lightgbm/engine.py:239: UserWarning: 'verbose_eval' argument is deprecated and will be removed in a future release of LightGBM. Pass 'log_evaluation()' callback via 'callbacks' argument instead.\n",
      "  _log_warning(\"'verbose_eval' argument is deprecated and will be removed in a future release of LightGBM. \"\n",
      "/Users/Victor/Projects/udacity-aws-mle/venv/lib/python3.7/site-packages/lightgbm/engine.py:239: UserWarning: 'verbose_eval' argument is deprecated and will be removed in a future release of LightGBM. Pass 'log_evaluation()' callback via 'callbacks' argument instead.\n",
      "  _log_warning(\"'verbose_eval' argument is deprecated and will be removed in a future release of LightGBM. \"\n",
      "/Users/Victor/Projects/udacity-aws-mle/venv/lib/python3.7/site-packages/lightgbm/engine.py:239: UserWarning: 'verbose_eval' argument is deprecated and will be removed in a future release of LightGBM. Pass 'log_evaluation()' callback via 'callbacks' argument instead.\n",
      "  _log_warning(\"'verbose_eval' argument is deprecated and will be removed in a future release of LightGBM. \"\n"
     ]
    },
    {
     "name": "stderr",
     "output_type": "stream",
     "text": [
      "/Users/Victor/Projects/udacity-aws-mle/venv/lib/python3.7/site-packages/lightgbm/engine.py:239: UserWarning: 'verbose_eval' argument is deprecated and will be removed in a future release of LightGBM. Pass 'log_evaluation()' callback via 'callbacks' argument instead.\n",
      "  _log_warning(\"'verbose_eval' argument is deprecated and will be removed in a future release of LightGBM. \"\n",
      "/Users/Victor/Projects/udacity-aws-mle/venv/lib/python3.7/site-packages/lightgbm/engine.py:239: UserWarning: 'verbose_eval' argument is deprecated and will be removed in a future release of LightGBM. Pass 'log_evaluation()' callback via 'callbacks' argument instead.\n",
      "  _log_warning(\"'verbose_eval' argument is deprecated and will be removed in a future release of LightGBM. \"\n",
      "\t-36.0131\t = Validation root_mean_squared_error score\n",
      "\t5.11s\t = Training runtime\n",
      "\t0.1s\t = Validation runtime\n",
      "Fitting model: RandomForestMSE_BAG_L2 ...\n",
      "\t-36.3792\t = Validation root_mean_squared_error score\n",
      "\t14.39s\t = Training runtime\n",
      "\t0.47s\t = Validation runtime\n",
      "Fitting model: CatBoost_BAG_L2 ...\n",
      "\t-35.7904\t = Validation root_mean_squared_error score\n",
      "\t29.64s\t = Training runtime\n",
      "\t0.07s\t = Validation runtime\n",
      "Fitting model: ExtraTreesMSE_BAG_L2 ...\n",
      "\t-35.9193\t = Validation root_mean_squared_error score\n",
      "\t4.27s\t = Training runtime\n",
      "\t0.48s\t = Validation runtime\n",
      "Fitting model: NeuralNetFastAI_BAG_L2 ...\n",
      "/Users/Victor/Projects/udacity-aws-mle/venv/lib/python3.7/site-packages/torch/overrides.py:1351: DeprecationWarning: Defining your `__torch_function__ as a plain method is deprecated and will be an error in PyTorch 1.11, please define it as a classmethod.\n",
      "  DeprecationWarning)\n",
      "/Users/Victor/Projects/udacity-aws-mle/venv/lib/python3.7/site-packages/torch/overrides.py:1351: DeprecationWarning: Defining your `__torch_function__ as a plain method is deprecated and will be an error in PyTorch 1.11, please define it as a classmethod.\n",
      "  DeprecationWarning)\n",
      "/Users/Victor/Projects/udacity-aws-mle/venv/lib/python3.7/site-packages/torch/overrides.py:1351: DeprecationWarning: Defining your `__torch_function__ as a plain method is deprecated and will be an error in PyTorch 1.11, please define it as a classmethod.\n",
      "  DeprecationWarning)\n",
      "/Users/Victor/Projects/udacity-aws-mle/venv/lib/python3.7/site-packages/torch/overrides.py:1351: DeprecationWarning: Defining your `__torch_function__ as a plain method is deprecated and will be an error in PyTorch 1.11, please define it as a classmethod.\n",
      "  DeprecationWarning)\n",
      "/Users/Victor/Projects/udacity-aws-mle/venv/lib/python3.7/site-packages/torch/overrides.py:1351: DeprecationWarning: Defining your `__torch_function__ as a plain method is deprecated and will be an error in PyTorch 1.11, please define it as a classmethod.\n",
      "  DeprecationWarning)\n",
      "/Users/Victor/Projects/udacity-aws-mle/venv/lib/python3.7/site-packages/torch/overrides.py:1351: DeprecationWarning: Defining your `__torch_function__ as a plain method is deprecated and will be an error in PyTorch 1.11, please define it as a classmethod.\n",
      "  DeprecationWarning)\n",
      "/Users/Victor/Projects/udacity-aws-mle/venv/lib/python3.7/site-packages/torch/overrides.py:1351: DeprecationWarning: Defining your `__torch_function__ as a plain method is deprecated and will be an error in PyTorch 1.11, please define it as a classmethod.\n",
      "  DeprecationWarning)\n",
      "/Users/Victor/Projects/udacity-aws-mle/venv/lib/python3.7/site-packages/torch/overrides.py:1351: DeprecationWarning: Defining your `__torch_function__ as a plain method is deprecated and will be an error in PyTorch 1.11, please define it as a classmethod.\n",
      "  DeprecationWarning)\n",
      "/Users/Victor/Projects/udacity-aws-mle/venv/lib/python3.7/site-packages/torch/overrides.py:1351: DeprecationWarning: Defining your `__torch_function__ as a plain method is deprecated and will be an error in PyTorch 1.11, please define it as a classmethod.\n",
      "  DeprecationWarning)\n",
      "/Users/Victor/Projects/udacity-aws-mle/venv/lib/python3.7/site-packages/torch/overrides.py:1351: DeprecationWarning: Defining your `__torch_function__ as a plain method is deprecated and will be an error in PyTorch 1.11, please define it as a classmethod.\n",
      "  DeprecationWarning)\n",
      "\t-35.3548\t = Validation root_mean_squared_error score\n",
      "\t131.73s\t = Training runtime\n",
      "\t0.43s\t = Validation runtime\n",
      "Fitting model: XGBoost_BAG_L2 ...\n",
      "\t-36.1975\t = Validation root_mean_squared_error score\n",
      "\t44.59s\t = Training runtime\n",
      "\t0.16s\t = Validation runtime\n",
      "Fitting model: NeuralNetMXNet_BAG_L2 ...\n",
      "\t-36.4446\t = Validation root_mean_squared_error score\n",
      "\t349.22s\t = Training runtime\n",
      "\t1.73s\t = Validation runtime\n",
      "Fitting model: LightGBMLarge_BAG_L2 ...\n",
      "/Users/Victor/Projects/udacity-aws-mle/venv/lib/python3.7/site-packages/lightgbm/engine.py:239: UserWarning: 'verbose_eval' argument is deprecated and will be removed in a future release of LightGBM. Pass 'log_evaluation()' callback via 'callbacks' argument instead.\n",
      "  _log_warning(\"'verbose_eval' argument is deprecated and will be removed in a future release of LightGBM. \"\n",
      "/Users/Victor/Projects/udacity-aws-mle/venv/lib/python3.7/site-packages/lightgbm/engine.py:239: UserWarning: 'verbose_eval' argument is deprecated and will be removed in a future release of LightGBM. Pass 'log_evaluation()' callback via 'callbacks' argument instead.\n",
      "  _log_warning(\"'verbose_eval' argument is deprecated and will be removed in a future release of LightGBM. \"\n",
      "/Users/Victor/Projects/udacity-aws-mle/venv/lib/python3.7/site-packages/lightgbm/engine.py:239: UserWarning: 'verbose_eval' argument is deprecated and will be removed in a future release of LightGBM. Pass 'log_evaluation()' callback via 'callbacks' argument instead.\n",
      "  _log_warning(\"'verbose_eval' argument is deprecated and will be removed in a future release of LightGBM. \"\n",
      "/Users/Victor/Projects/udacity-aws-mle/venv/lib/python3.7/site-packages/lightgbm/engine.py:239: UserWarning: 'verbose_eval' argument is deprecated and will be removed in a future release of LightGBM. Pass 'log_evaluation()' callback via 'callbacks' argument instead.\n",
      "  _log_warning(\"'verbose_eval' argument is deprecated and will be removed in a future release of LightGBM. \"\n",
      "/Users/Victor/Projects/udacity-aws-mle/venv/lib/python3.7/site-packages/lightgbm/engine.py:239: UserWarning: 'verbose_eval' argument is deprecated and will be removed in a future release of LightGBM. Pass 'log_evaluation()' callback via 'callbacks' argument instead.\n",
      "  _log_warning(\"'verbose_eval' argument is deprecated and will be removed in a future release of LightGBM. \"\n",
      "/Users/Victor/Projects/udacity-aws-mle/venv/lib/python3.7/site-packages/lightgbm/engine.py:239: UserWarning: 'verbose_eval' argument is deprecated and will be removed in a future release of LightGBM. Pass 'log_evaluation()' callback via 'callbacks' argument instead.\n",
      "  _log_warning(\"'verbose_eval' argument is deprecated and will be removed in a future release of LightGBM. \"\n",
      "/Users/Victor/Projects/udacity-aws-mle/venv/lib/python3.7/site-packages/lightgbm/engine.py:239: UserWarning: 'verbose_eval' argument is deprecated and will be removed in a future release of LightGBM. Pass 'log_evaluation()' callback via 'callbacks' argument instead.\n",
      "  _log_warning(\"'verbose_eval' argument is deprecated and will be removed in a future release of LightGBM. \"\n",
      "/Users/Victor/Projects/udacity-aws-mle/venv/lib/python3.7/site-packages/lightgbm/engine.py:239: UserWarning: 'verbose_eval' argument is deprecated and will be removed in a future release of LightGBM. Pass 'log_evaluation()' callback via 'callbacks' argument instead.\n",
      "  _log_warning(\"'verbose_eval' argument is deprecated and will be removed in a future release of LightGBM. \"\n",
      "/Users/Victor/Projects/udacity-aws-mle/venv/lib/python3.7/site-packages/lightgbm/engine.py:239: UserWarning: 'verbose_eval' argument is deprecated and will be removed in a future release of LightGBM. Pass 'log_evaluation()' callback via 'callbacks' argument instead.\n",
      "  _log_warning(\"'verbose_eval' argument is deprecated and will be removed in a future release of LightGBM. \"\n",
      "/Users/Victor/Projects/udacity-aws-mle/venv/lib/python3.7/site-packages/lightgbm/engine.py:239: UserWarning: 'verbose_eval' argument is deprecated and will be removed in a future release of LightGBM. Pass 'log_evaluation()' callback via 'callbacks' argument instead.\n",
      "  _log_warning(\"'verbose_eval' argument is deprecated and will be removed in a future release of LightGBM. \"\n"
     ]
    },
    {
     "name": "stderr",
     "output_type": "stream",
     "text": [
      "\t-36.6541\t = Validation root_mean_squared_error score\n",
      "\t20.65s\t = Training runtime\n",
      "\t0.23s\t = Validation runtime\n",
      "Fitting model: WeightedEnsemble_L3 ...\n",
      "\t-35.2081\t = Validation root_mean_squared_error score\n",
      "\t1.14s\t = Training runtime\n",
      "\t0.0s\t = Validation runtime\n",
      "AutoGluon training complete, total runtime = 2257.76s ...\n",
      "TabularPredictor saved. To load, use: predictor = TabularPredictor.load(\"../models/models3/\")\n",
      "/Users/Victor/Projects/udacity-aws-mle/venv/lib/python3.7/site-packages/pandas/core/arrays/categorical.py:2631: FutureWarning: The `inplace` parameter in pandas.Categorical.set_categories is deprecated and will be removed in a future version. Removing unused categories will always return a new Categorical object.\n",
      "  res = method(*args, **kwargs)\n",
      "/Users/Victor/Projects/udacity-aws-mle/venv/lib/python3.7/site-packages/pandas/core/arrays/categorical.py:2631: FutureWarning: The `inplace` parameter in pandas.Categorical.rename_categories is deprecated and will be removed in a future version. Removing unused categories will always return a new Categorical object.\n",
      "  res = method(*args, **kwargs)\n"
     ]
    },
    {
     "name": "stdout",
     "output_type": "stream",
     "text": [
      "*** Summary of fit() ***\n",
      "Estimated performance of each model:\n",
      "                     model   score_val  pred_time_val     fit_time  pred_time_val_marginal  fit_time_marginal  stack_level  can_infer  fit_order\n",
      "0      WeightedEnsemble_L3  -35.208089      24.923623  1795.805622                0.001221           1.143099            3       True         24\n",
      "1      WeightedEnsemble_L2  -35.315470      18.084489  1400.771387                0.001151           1.028518            2       True         12\n",
      "2   NeuralNetFastAI_BAG_L2  -35.354812      20.417081  1716.157020                0.431176         131.732995            2       True         20\n",
      "3          CatBoost_BAG_L2  -35.790407      20.058092  1614.064430                0.072188          29.640405            2       True         18\n",
      "4     ExtraTreesMSE_BAG_L2  -35.919309      20.468889  1588.691701                0.482984           4.267676            2       True         19\n",
      "5          LightGBM_BAG_L2  -36.013076      20.085648  1589.538440                0.099743           5.114415            2       True         16\n",
      "6           XGBoost_BAG_L2  -36.197486      20.150677  1629.017983                0.164773          44.593958            2       True         21\n",
      "7   RandomForestMSE_BAG_L2  -36.379161      20.453127  1598.816274                0.467222          14.392249            2       True         17\n",
      "8        LightGBMXT_BAG_L2  -36.404151      20.144493  1590.538367                0.158589           6.114341            2       True         15\n",
      "9    NeuralNetMXNet_BAG_L2  -36.444586      21.719555  1933.644582                1.733650         349.220556            2       True         22\n",
      "10    LightGBMLarge_BAG_L2  -36.654078      20.216873  1605.074940                0.230968          20.650915            2       True         23\n",
      "11    LightGBMLarge_BAG_L1  -37.185519       0.994550    34.166841                0.994550          34.166841            1       True         11\n",
      "12         LightGBM_BAG_L1  -37.408451       1.414947    22.420660                1.414947          22.420660            1       True          4\n",
      "13         CatBoost_BAG_L1  -37.719158       0.118216   179.575300                0.118216         179.575300            1       True          6\n",
      "14   KNeighborsDist_BAG_L2  -37.890627      23.771282  1584.427488                3.785377           0.003463            2       True         14\n",
      "15   KNeighborsUnif_BAG_L2  -37.936866      24.110973  1584.432279                4.125068           0.008254            2       True         13\n",
      "16          XGBoost_BAG_L1  -38.997004       0.234740    57.457550                0.234740          57.457550            1       True          9\n",
      "17   NeuralNetMXNet_BAG_L1  -39.306417       1.552695  1023.567716                1.552695        1023.567716            1       True         10\n",
      "18    ExtraTreesMSE_BAG_L1  -41.541269       0.433246     2.272605                0.433246           2.272605            1       True          7\n",
      "19  RandomForestMSE_BAG_L1  -42.144674       0.406905     4.313553                0.406905           4.313553            1       True          5\n",
      "20  NeuralNetFastAI_BAG_L1  -46.571946       0.404939   120.596190                0.404939         120.596190            1       True          8\n",
      "21       LightGBMXT_BAG_L1  -52.192965      14.002930   140.012352               14.002930         140.012352            1       True          3\n",
      "22   KNeighborsDist_BAG_L1 -118.287112       0.207085     0.013014                0.207085           0.013014            1       True          2\n",
      "23   KNeighborsUnif_BAG_L1 -122.927707       0.215652     0.028244                0.215652           0.028244            1       True          1\n",
      "Number of models trained: 24\n",
      "Types of models trained:\n",
      "{'StackerEnsembleModel_LGB', 'StackerEnsembleModel_XT', 'StackerEnsembleModel_RF', 'StackerEnsembleModel_CatBoost', 'StackerEnsembleModel_NNFastAiTabular', 'StackerEnsembleModel_TabularNeuralNet', 'WeightedEnsembleModel', 'StackerEnsembleModel_XGBoost', 'StackerEnsembleModel_KNN'}\n",
      "Bagging used: True  (with 10 folds)\n",
      "Multi-layer stack-ensembling used: True  (with 3 levels)\n",
      "Feature Metadata (Processed):\n",
      "(raw dtype, special dtypes):\n",
      "('category', []) : 3 | ['holiday', 'workingday', 'weather']\n",
      "('float', [])    : 3 | ['temp', 'atemp', 'windspeed']\n",
      "('int', [])      : 9 | ['humidity', 'season_1', 'season_2', 'season_3', 'season_4', ...]\n",
      "Plot summary of models saved to file: ../models/models3/SummaryOfModels.html\n",
      "*** End of fit() summary ***\n",
      "{'model_types': {'KNeighborsUnif_BAG_L1': 'StackerEnsembleModel_KNN', 'KNeighborsDist_BAG_L1': 'StackerEnsembleModel_KNN', 'LightGBMXT_BAG_L1': 'StackerEnsembleModel_LGB', 'LightGBM_BAG_L1': 'StackerEnsembleModel_LGB', 'RandomForestMSE_BAG_L1': 'StackerEnsembleModel_RF', 'CatBoost_BAG_L1': 'StackerEnsembleModel_CatBoost', 'ExtraTreesMSE_BAG_L1': 'StackerEnsembleModel_XT', 'NeuralNetFastAI_BAG_L1': 'StackerEnsembleModel_NNFastAiTabular', 'XGBoost_BAG_L1': 'StackerEnsembleModel_XGBoost', 'NeuralNetMXNet_BAG_L1': 'StackerEnsembleModel_TabularNeuralNet', 'LightGBMLarge_BAG_L1': 'StackerEnsembleModel_LGB', 'WeightedEnsemble_L2': 'WeightedEnsembleModel', 'KNeighborsUnif_BAG_L2': 'StackerEnsembleModel_KNN', 'KNeighborsDist_BAG_L2': 'StackerEnsembleModel_KNN', 'LightGBMXT_BAG_L2': 'StackerEnsembleModel_LGB', 'LightGBM_BAG_L2': 'StackerEnsembleModel_LGB', 'RandomForestMSE_BAG_L2': 'StackerEnsembleModel_RF', 'CatBoost_BAG_L2': 'StackerEnsembleModel_CatBoost', 'ExtraTreesMSE_BAG_L2': 'StackerEnsembleModel_XT', 'NeuralNetFastAI_BAG_L2': 'StackerEnsembleModel_NNFastAiTabular', 'XGBoost_BAG_L2': 'StackerEnsembleModel_XGBoost', 'NeuralNetMXNet_BAG_L2': 'StackerEnsembleModel_TabularNeuralNet', 'LightGBMLarge_BAG_L2': 'StackerEnsembleModel_LGB', 'WeightedEnsemble_L3': 'WeightedEnsembleModel'}, 'model_performance': {'KNeighborsUnif_BAG_L1': -122.92770672740845, 'KNeighborsDist_BAG_L1': -118.2871121489958, 'LightGBMXT_BAG_L1': -52.19296521631089, 'LightGBM_BAG_L1': -37.40845090285911, 'RandomForestMSE_BAG_L1': -42.144674379862124, 'CatBoost_BAG_L1': -37.71915750592416, 'ExtraTreesMSE_BAG_L1': -41.54126873985164, 'NeuralNetFastAI_BAG_L1': -46.571945848436236, 'XGBoost_BAG_L1': -38.997004196750616, 'NeuralNetMXNet_BAG_L1': -39.30641668861854, 'LightGBMLarge_BAG_L1': -37.18551949956822, 'WeightedEnsemble_L2': -35.315470078848946, 'KNeighborsUnif_BAG_L2': -37.93686584108245, 'KNeighborsDist_BAG_L2': -37.890627055071896, 'LightGBMXT_BAG_L2': -36.40415071022279, 'LightGBM_BAG_L2': -36.01307571486937, 'RandomForestMSE_BAG_L2': -36.37916093057667, 'CatBoost_BAG_L2': -35.79040682022608, 'ExtraTreesMSE_BAG_L2': -35.9193093487116, 'NeuralNetFastAI_BAG_L2': -35.354811694197686, 'XGBoost_BAG_L2': -36.197485875447796, 'NeuralNetMXNet_BAG_L2': -36.444586101005896, 'LightGBMLarge_BAG_L2': -36.654078424101776, 'WeightedEnsemble_L3': -35.20808930484952}, 'model_best': 'WeightedEnsemble_L3', 'model_paths': {'KNeighborsUnif_BAG_L1': '../models/models3/models/KNeighborsUnif_BAG_L1/', 'KNeighborsDist_BAG_L1': '../models/models3/models/KNeighborsDist_BAG_L1/', 'LightGBMXT_BAG_L1': '../models/models3/models/LightGBMXT_BAG_L1/', 'LightGBM_BAG_L1': '../models/models3/models/LightGBM_BAG_L1/', 'RandomForestMSE_BAG_L1': '../models/models3/models/RandomForestMSE_BAG_L1/', 'CatBoost_BAG_L1': '../models/models3/models/CatBoost_BAG_L1/', 'ExtraTreesMSE_BAG_L1': '../models/models3/models/ExtraTreesMSE_BAG_L1/', 'NeuralNetFastAI_BAG_L1': '../models/models3/models/NeuralNetFastAI_BAG_L1/', 'XGBoost_BAG_L1': '../models/models3/models/XGBoost_BAG_L1/', 'NeuralNetMXNet_BAG_L1': '../models/models3/models/NeuralNetMXNet_BAG_L1/', 'LightGBMLarge_BAG_L1': '../models/models3/models/LightGBMLarge_BAG_L1/', 'WeightedEnsemble_L2': '../models/models3/models/WeightedEnsemble_L2/', 'KNeighborsUnif_BAG_L2': '../models/models3/models/KNeighborsUnif_BAG_L2/', 'KNeighborsDist_BAG_L2': '../models/models3/models/KNeighborsDist_BAG_L2/', 'LightGBMXT_BAG_L2': '../models/models3/models/LightGBMXT_BAG_L2/', 'LightGBM_BAG_L2': '../models/models3/models/LightGBM_BAG_L2/', 'RandomForestMSE_BAG_L2': '../models/models3/models/RandomForestMSE_BAG_L2/', 'CatBoost_BAG_L2': '../models/models3/models/CatBoost_BAG_L2/', 'ExtraTreesMSE_BAG_L2': '../models/models3/models/ExtraTreesMSE_BAG_L2/', 'NeuralNetFastAI_BAG_L2': '../models/models3/models/NeuralNetFastAI_BAG_L2/', 'XGBoost_BAG_L2': '../models/models3/models/XGBoost_BAG_L2/', 'NeuralNetMXNet_BAG_L2': '../models/models3/models/NeuralNetMXNet_BAG_L2/', 'LightGBMLarge_BAG_L2': '../models/models3/models/LightGBMLarge_BAG_L2/', 'WeightedEnsemble_L3': '../models/models3/models/WeightedEnsemble_L3/'}, 'model_fit_times': {'KNeighborsUnif_BAG_L1': 0.0282440185546875, 'KNeighborsDist_BAG_L1': 0.013014078140258789, 'LightGBMXT_BAG_L1': 140.01235175132751, 'LightGBM_BAG_L1': 22.420660495758057, 'RandomForestMSE_BAG_L1': 4.313553333282471, 'CatBoost_BAG_L1': 179.5753002166748, 'ExtraTreesMSE_BAG_L1': 2.2726049423217773, 'NeuralNetFastAI_BAG_L1': 120.59618973731995, 'XGBoost_BAG_L1': 57.457550048828125, 'NeuralNetMXNet_BAG_L1': 1023.567715883255, 'LightGBMLarge_BAG_L1': 34.16684055328369, 'WeightedEnsemble_L2': 1.0285181999206543, 'KNeighborsUnif_BAG_L2': 0.008254289627075195, 'KNeighborsDist_BAG_L2': 0.003463268280029297, 'LightGBMXT_BAG_L2': 6.114341497421265, 'LightGBM_BAG_L2': 5.114414930343628, 'RandomForestMSE_BAG_L2': 14.39224886894226, 'CatBoost_BAG_L2': 29.64040517807007, 'ExtraTreesMSE_BAG_L2': 4.267676115036011, 'NeuralNetFastAI_BAG_L2': 131.73299527168274, 'XGBoost_BAG_L2': 44.59395790100098, 'NeuralNetMXNet_BAG_L2': 349.22055649757385, 'LightGBMLarge_BAG_L2': 20.650914907455444, 'WeightedEnsemble_L3': 1.143099308013916}, 'model_pred_times': {'KNeighborsUnif_BAG_L1': 0.2156519889831543, 'KNeighborsDist_BAG_L1': 0.20708465576171875, 'LightGBMXT_BAG_L1': 14.0029296875, 'LightGBM_BAG_L1': 1.4149470329284668, 'RandomForestMSE_BAG_L1': 0.406904935836792, 'CatBoost_BAG_L1': 0.11821556091308594, 'ExtraTreesMSE_BAG_L1': 0.433246374130249, 'NeuralNetFastAI_BAG_L1': 0.4049389362335205, 'XGBoost_BAG_L1': 0.2347397804260254, 'NeuralNetMXNet_BAG_L1': 1.5526952743530273, 'LightGBMLarge_BAG_L1': 0.9945504665374756, 'WeightedEnsemble_L2': 0.0011508464813232422, 'KNeighborsUnif_BAG_L2': 4.125067949295044, 'KNeighborsDist_BAG_L2': 3.785377025604248, 'LightGBMXT_BAG_L2': 0.15858864784240723, 'LightGBM_BAG_L2': 0.09974312782287598, 'RandomForestMSE_BAG_L2': 0.4672219753265381, 'CatBoost_BAG_L2': 0.07218766212463379, 'ExtraTreesMSE_BAG_L2': 0.4829840660095215, 'NeuralNetFastAI_BAG_L2': 0.43117642402648926, 'XGBoost_BAG_L2': 0.16477274894714355, 'NeuralNetMXNet_BAG_L2': 1.7336504459381104, 'LightGBMLarge_BAG_L2': 0.23096799850463867, 'WeightedEnsemble_L3': 0.001220703125}, 'num_bag_folds': 10, 'max_stack_level': 3, 'model_hyperparams': {'KNeighborsUnif_BAG_L1': {'use_orig_features': True, 'max_base_models': 25, 'max_base_models_per_type': 5, 'save_bag_folds': True, 'use_child_oof': True}, 'KNeighborsDist_BAG_L1': {'use_orig_features': True, 'max_base_models': 25, 'max_base_models_per_type': 5, 'save_bag_folds': True, 'use_child_oof': True}, 'LightGBMXT_BAG_L1': {'use_orig_features': True, 'max_base_models': 25, 'max_base_models_per_type': 5, 'save_bag_folds': True}, 'LightGBM_BAG_L1': {'use_orig_features': True, 'max_base_models': 25, 'max_base_models_per_type': 5, 'save_bag_folds': True}, 'RandomForestMSE_BAG_L1': {'use_orig_features': True, 'max_base_models': 25, 'max_base_models_per_type': 5, 'save_bag_folds': True, 'use_child_oof': True}, 'CatBoost_BAG_L1': {'use_orig_features': True, 'max_base_models': 25, 'max_base_models_per_type': 5, 'save_bag_folds': True}, 'ExtraTreesMSE_BAG_L1': {'use_orig_features': True, 'max_base_models': 25, 'max_base_models_per_type': 5, 'save_bag_folds': True, 'use_child_oof': True}, 'NeuralNetFastAI_BAG_L1': {'use_orig_features': True, 'max_base_models': 25, 'max_base_models_per_type': 5, 'save_bag_folds': True}, 'XGBoost_BAG_L1': {'use_orig_features': True, 'max_base_models': 25, 'max_base_models_per_type': 5, 'save_bag_folds': True}, 'NeuralNetMXNet_BAG_L1': {'use_orig_features': True, 'max_base_models': 25, 'max_base_models_per_type': 5, 'save_bag_folds': True}, 'LightGBMLarge_BAG_L1': {'use_orig_features': True, 'max_base_models': 25, 'max_base_models_per_type': 5, 'save_bag_folds': True}, 'WeightedEnsemble_L2': {'use_orig_features': False, 'max_base_models': 25, 'max_base_models_per_type': 5, 'save_bag_folds': True}, 'KNeighborsUnif_BAG_L2': {'use_orig_features': True, 'max_base_models': 25, 'max_base_models_per_type': 5, 'save_bag_folds': True, 'use_child_oof': True}, 'KNeighborsDist_BAG_L2': {'use_orig_features': True, 'max_base_models': 25, 'max_base_models_per_type': 5, 'save_bag_folds': True, 'use_child_oof': True}, 'LightGBMXT_BAG_L2': {'use_orig_features': True, 'max_base_models': 25, 'max_base_models_per_type': 5, 'save_bag_folds': True}, 'LightGBM_BAG_L2': {'use_orig_features': True, 'max_base_models': 25, 'max_base_models_per_type': 5, 'save_bag_folds': True}, 'RandomForestMSE_BAG_L2': {'use_orig_features': True, 'max_base_models': 25, 'max_base_models_per_type': 5, 'save_bag_folds': True, 'use_child_oof': True}, 'CatBoost_BAG_L2': {'use_orig_features': True, 'max_base_models': 25, 'max_base_models_per_type': 5, 'save_bag_folds': True}, 'ExtraTreesMSE_BAG_L2': {'use_orig_features': True, 'max_base_models': 25, 'max_base_models_per_type': 5, 'save_bag_folds': True, 'use_child_oof': True}, 'NeuralNetFastAI_BAG_L2': {'use_orig_features': True, 'max_base_models': 25, 'max_base_models_per_type': 5, 'save_bag_folds': True}, 'XGBoost_BAG_L2': {'use_orig_features': True, 'max_base_models': 25, 'max_base_models_per_type': 5, 'save_bag_folds': True}, 'NeuralNetMXNet_BAG_L2': {'use_orig_features': True, 'max_base_models': 25, 'max_base_models_per_type': 5, 'save_bag_folds': True}, 'LightGBMLarge_BAG_L2': {'use_orig_features': True, 'max_base_models': 25, 'max_base_models_per_type': 5, 'save_bag_folds': True}, 'WeightedEnsemble_L3': {'use_orig_features': False, 'max_base_models': 25, 'max_base_models_per_type': 5, 'save_bag_folds': True}}, 'leaderboard':                      model   score_val  pred_time_val     fit_time  \\\n",
      "0      WeightedEnsemble_L3  -35.208089      24.923623  1795.805622   \n",
      "1      WeightedEnsemble_L2  -35.315470      18.084489  1400.771387   \n",
      "2   NeuralNetFastAI_BAG_L2  -35.354812      20.417081  1716.157020   \n",
      "3          CatBoost_BAG_L2  -35.790407      20.058092  1614.064430   \n",
      "4     ExtraTreesMSE_BAG_L2  -35.919309      20.468889  1588.691701   \n",
      "5          LightGBM_BAG_L2  -36.013076      20.085648  1589.538440   \n",
      "6           XGBoost_BAG_L2  -36.197486      20.150677  1629.017983   \n",
      "7   RandomForestMSE_BAG_L2  -36.379161      20.453127  1598.816274   \n",
      "8        LightGBMXT_BAG_L2  -36.404151      20.144493  1590.538367   \n",
      "9    NeuralNetMXNet_BAG_L2  -36.444586      21.719555  1933.644582   \n",
      "10    LightGBMLarge_BAG_L2  -36.654078      20.216873  1605.074940   \n",
      "11    LightGBMLarge_BAG_L1  -37.185519       0.994550    34.166841   \n",
      "12         LightGBM_BAG_L1  -37.408451       1.414947    22.420660   \n",
      "13         CatBoost_BAG_L1  -37.719158       0.118216   179.575300   \n",
      "14   KNeighborsDist_BAG_L2  -37.890627      23.771282  1584.427488   \n",
      "15   KNeighborsUnif_BAG_L2  -37.936866      24.110973  1584.432279   \n",
      "16          XGBoost_BAG_L1  -38.997004       0.234740    57.457550   \n",
      "17   NeuralNetMXNet_BAG_L1  -39.306417       1.552695  1023.567716   \n",
      "18    ExtraTreesMSE_BAG_L1  -41.541269       0.433246     2.272605   \n",
      "19  RandomForestMSE_BAG_L1  -42.144674       0.406905     4.313553   \n",
      "20  NeuralNetFastAI_BAG_L1  -46.571946       0.404939   120.596190   \n",
      "21       LightGBMXT_BAG_L1  -52.192965      14.002930   140.012352   \n",
      "22   KNeighborsDist_BAG_L1 -118.287112       0.207085     0.013014   \n",
      "23   KNeighborsUnif_BAG_L1 -122.927707       0.215652     0.028244   \n",
      "\n",
      "    pred_time_val_marginal  fit_time_marginal  stack_level  can_infer  \\\n",
      "0                 0.001221           1.143099            3       True   \n",
      "1                 0.001151           1.028518            2       True   \n",
      "2                 0.431176         131.732995            2       True   \n",
      "3                 0.072188          29.640405            2       True   \n",
      "4                 0.482984           4.267676            2       True   \n",
      "5                 0.099743           5.114415            2       True   \n",
      "6                 0.164773          44.593958            2       True   \n",
      "7                 0.467222          14.392249            2       True   \n",
      "8                 0.158589           6.114341            2       True   \n",
      "9                 1.733650         349.220556            2       True   \n",
      "10                0.230968          20.650915            2       True   \n",
      "11                0.994550          34.166841            1       True   \n",
      "12                1.414947          22.420660            1       True   \n",
      "13                0.118216         179.575300            1       True   \n",
      "14                3.785377           0.003463            2       True   \n",
      "15                4.125068           0.008254            2       True   \n",
      "16                0.234740          57.457550            1       True   \n",
      "17                1.552695        1023.567716            1       True   \n",
      "18                0.433246           2.272605            1       True   \n",
      "19                0.406905           4.313553            1       True   \n",
      "20                0.404939         120.596190            1       True   \n",
      "21               14.002930         140.012352            1       True   \n",
      "22                0.207085           0.013014            1       True   \n",
      "23                0.215652           0.028244            1       True   \n",
      "\n",
      "    fit_order  \n",
      "0          24  \n",
      "1          12  \n",
      "2          20  \n",
      "3          18  \n",
      "4          19  \n",
      "5          16  \n",
      "6          21  \n",
      "7          17  \n",
      "8          15  \n",
      "9          22  \n",
      "10         23  \n",
      "11         11  \n",
      "12          4  \n",
      "13          6  \n",
      "14         14  \n",
      "15         13  \n",
      "16          9  \n",
      "17         10  \n",
      "18          7  \n",
      "19          5  \n",
      "20          8  \n",
      "21          3  \n",
      "22          2  \n",
      "23          1  }\n"
     ]
    }
   ],
   "source": [
    "train_and_predict(3, train_data, test_data, presets='best_quality')"
   ]
  },
  {
   "cell_type": "code",
   "execution_count": 81,
   "metadata": {},
   "outputs": [
    {
     "name": "stdout",
     "output_type": "stream",
     "text": [
      "Warning: Your Kaggle API key is readable by other users on this system! To fix this, you can run 'chmod 600 /Users/Victor/.kaggle/kaggle.json'\n",
      "100%|████████████████████████████████████████| 149k/149k [00:04<00:00, 36.6kB/s]\n",
      "Successfully submitted to Bike Sharing Demand"
     ]
    }
   ],
   "source": [
    "!kaggle competitions submit -c bike-sharing-demand -f ../datasets/my_submission3.csv -m \"Third submission with optimized parameters for TabularPredictor(presets=best_quality) and data after feature engineering\"\n",
    "\n"
   ]
  },
  {
   "cell_type": "markdown",
   "metadata": {},
   "source": [
    "### HPO Model2: Processed Data with Optimized hyperparameters (presets=high_quality_fast_inference_only_refit)"
   ]
  },
  {
   "cell_type": "code",
   "execution_count": 28,
   "metadata": {},
   "outputs": [
    {
     "name": "stderr",
     "output_type": "stream",
     "text": [
      "Warning: path already exists! This predictor may overwrite an existing predictor! path=\"../models/models4\"\n",
      "Presets specified: ['high_quality_fast_inference_only_refit']\n",
      "Beginning AutoGluon training ...\n",
      "AutoGluon will save models to \"../models/models4/\"\n",
      "AutoGluon Version:  0.2.0\n",
      "Train Data Rows:    10886\n",
      "Train Data Columns: 17\n",
      "Preprocessing data ...\n",
      "AutoGluon infers your prediction problem is: 'regression' (because dtype of label-column == int and many unique label-values observed).\n",
      "\tLabel info (max, min, mean, stddev): (977, 1, 191.57413, 181.14445)\n",
      "\tIf 'regression' is not the correct problem_type, please manually specify the problem_type argument in fit() (You may specify problem_type as one of: ['binary', 'multiclass', 'regression'])\n",
      "Using Feature Generators to preprocess the data ...\n",
      "Dropping user-specified ignored columns: ['registered', 'casual']\n",
      "Fitting AutoMLPipelineFeatureGenerator...\n",
      "\tAvailable Memory:                    6313.2 MB\n",
      "\tTrain Data (Original)  Memory Usage: 0.77 MB (0.0% of available memory)\n",
      "\tInferring data type of each feature based on column values. Set feature_metadata_in to manually specify special dtypes of the features.\n",
      "\tStage 1 Generators:\n",
      "\t\tFitting AsTypeFeatureGenerator...\n",
      "\tStage 2 Generators:\n",
      "\t\tFitting FillNaFeatureGenerator...\n",
      "\tStage 3 Generators:\n",
      "\t\tFitting IdentityFeatureGenerator...\n",
      "\t\tFitting CategoryFeatureGenerator...\n",
      "\t\t\tFitting CategoryMemoryMinimizeFeatureGenerator...\n",
      "/Users/Victor/Projects/udacity-aws-mle/venv/lib/python3.7/site-packages/pandas/core/arrays/categorical.py:2631: FutureWarning: The `inplace` parameter in pandas.Categorical.rename_categories is deprecated and will be removed in a future version. Removing unused categories will always return a new Categorical object.\n",
      "  res = method(*args, **kwargs)\n",
      "\tStage 4 Generators:\n",
      "\t\tFitting DropUniqueFeatureGenerator...\n",
      "\tTypes of features in original data (raw dtype, special dtypes):\n",
      "\t\t('category', []) : 3 | ['holiday', 'workingday', 'weather']\n",
      "\t\t('float', [])    : 3 | ['temp', 'atemp', 'windspeed']\n",
      "\t\t('int', [])      : 9 | ['humidity', 'season_1', 'season_2', 'season_3', 'season_4', ...]\n",
      "\tTypes of features in processed data (raw dtype, special dtypes):\n",
      "\t\t('category', []) : 3 | ['holiday', 'workingday', 'weather']\n",
      "\t\t('float', [])    : 3 | ['temp', 'atemp', 'windspeed']\n",
      "\t\t('int', [])      : 9 | ['humidity', 'season_1', 'season_2', 'season_3', 'season_4', ...]\n",
      "\t0.2s = Fit runtime\n",
      "\t15 features in original data used to generate 15 features in processed data.\n",
      "\tTrain Data (Processed) Memory Usage: 0.77 MB (0.0% of available memory)\n",
      "Data preprocessing and feature engineering runtime = 0.26s ...\n",
      "AutoGluon will gauge predictive performance using evaluation metric: 'root_mean_squared_error'\n",
      "\tTo change this, specify the eval_metric argument of fit()\n",
      "Fitting model: KNeighborsUnif_BAG_L1 ...\n",
      "\t-122.9277\t = Validation root_mean_squared_error score\n",
      "\t0.02s\t = Training runtime\n",
      "\t0.21s\t = Validation runtime\n",
      "Fitting model: KNeighborsDist_BAG_L1 ...\n",
      "\t-118.2871\t = Validation root_mean_squared_error score\n",
      "\t0.01s\t = Training runtime\n",
      "\t0.22s\t = Validation runtime\n",
      "Fitting model: LightGBMXT_BAG_L1 ...\n",
      "/Users/Victor/Projects/udacity-aws-mle/venv/lib/python3.7/site-packages/lightgbm/engine.py:239: UserWarning: 'verbose_eval' argument is deprecated and will be removed in a future release of LightGBM. Pass 'log_evaluation()' callback via 'callbacks' argument instead.\n",
      "  _log_warning(\"'verbose_eval' argument is deprecated and will be removed in a future release of LightGBM. \"\n"
     ]
    },
    {
     "name": "stdout",
     "output_type": "stream",
     "text": [
      "[1000]\ttrain_set's rmse: 48.1954\tvalid_set's rmse: 57.9908\n",
      "[2000]\ttrain_set's rmse: 40.4021\tvalid_set's rmse: 54.4702\n",
      "[3000]\ttrain_set's rmse: 35.8037\tvalid_set's rmse: 52.9411\n",
      "[4000]\ttrain_set's rmse: 32.6792\tvalid_set's rmse: 52.1784\n",
      "[5000]\ttrain_set's rmse: 30.2221\tvalid_set's rmse: 51.6532\n",
      "[6000]\ttrain_set's rmse: 28.199\tvalid_set's rmse: 51.3033\n",
      "[7000]\ttrain_set's rmse: 26.5414\tvalid_set's rmse: 51.1129\n",
      "[8000]\ttrain_set's rmse: 25.074\tvalid_set's rmse: 50.979\n",
      "[9000]\ttrain_set's rmse: 23.8072\tvalid_set's rmse: 50.8289\n",
      "[10000]\ttrain_set's rmse: 22.6736\tvalid_set's rmse: 50.8032\n"
     ]
    },
    {
     "name": "stderr",
     "output_type": "stream",
     "text": [
      "/Users/Victor/Projects/udacity-aws-mle/venv/lib/python3.7/site-packages/lightgbm/engine.py:239: UserWarning: 'verbose_eval' argument is deprecated and will be removed in a future release of LightGBM. Pass 'log_evaluation()' callback via 'callbacks' argument instead.\n",
      "  _log_warning(\"'verbose_eval' argument is deprecated and will be removed in a future release of LightGBM. \"\n"
     ]
    },
    {
     "name": "stdout",
     "output_type": "stream",
     "text": [
      "[1000]\ttrain_set's rmse: 48.1436\tvalid_set's rmse: 61.473\n",
      "[2000]\ttrain_set's rmse: 40.4271\tvalid_set's rmse: 57.3556\n",
      "[3000]\ttrain_set's rmse: 35.9949\tvalid_set's rmse: 55.4735\n",
      "[4000]\ttrain_set's rmse: 32.8254\tvalid_set's rmse: 54.4806\n",
      "[5000]\ttrain_set's rmse: 30.434\tvalid_set's rmse: 53.7715\n",
      "[6000]\ttrain_set's rmse: 28.3628\tvalid_set's rmse: 53.2076\n",
      "[7000]\ttrain_set's rmse: 26.6412\tvalid_set's rmse: 52.8581\n",
      "[8000]\ttrain_set's rmse: 25.1485\tvalid_set's rmse: 52.6195\n",
      "[9000]\ttrain_set's rmse: 23.8616\tvalid_set's rmse: 52.4302\n",
      "[10000]\ttrain_set's rmse: 22.7056\tvalid_set's rmse: 52.2292\n"
     ]
    },
    {
     "name": "stderr",
     "output_type": "stream",
     "text": [
      "/Users/Victor/Projects/udacity-aws-mle/venv/lib/python3.7/site-packages/lightgbm/engine.py:239: UserWarning: 'verbose_eval' argument is deprecated and will be removed in a future release of LightGBM. Pass 'log_evaluation()' callback via 'callbacks' argument instead.\n",
      "  _log_warning(\"'verbose_eval' argument is deprecated and will be removed in a future release of LightGBM. \"\n"
     ]
    },
    {
     "name": "stdout",
     "output_type": "stream",
     "text": [
      "[1000]\ttrain_set's rmse: 48.193\tvalid_set's rmse: 57.474\n",
      "[2000]\ttrain_set's rmse: 40.6361\tvalid_set's rmse: 54.7616\n",
      "[3000]\ttrain_set's rmse: 36.2193\tvalid_set's rmse: 53.3092\n",
      "[4000]\ttrain_set's rmse: 33.0831\tvalid_set's rmse: 52.5924\n",
      "[5000]\ttrain_set's rmse: 30.6427\tvalid_set's rmse: 52.1562\n",
      "[6000]\ttrain_set's rmse: 28.5952\tvalid_set's rmse: 51.7816\n",
      "[7000]\ttrain_set's rmse: 26.9124\tvalid_set's rmse: 51.555\n",
      "[8000]\ttrain_set's rmse: 25.4491\tvalid_set's rmse: 51.3421\n",
      "[9000]\ttrain_set's rmse: 24.1649\tvalid_set's rmse: 51.1592\n",
      "[10000]\ttrain_set's rmse: 23.0114\tvalid_set's rmse: 51.0063\n"
     ]
    },
    {
     "name": "stderr",
     "output_type": "stream",
     "text": [
      "/Users/Victor/Projects/udacity-aws-mle/venv/lib/python3.7/site-packages/lightgbm/engine.py:239: UserWarning: 'verbose_eval' argument is deprecated and will be removed in a future release of LightGBM. Pass 'log_evaluation()' callback via 'callbacks' argument instead.\n",
      "  _log_warning(\"'verbose_eval' argument is deprecated and will be removed in a future release of LightGBM. \"\n"
     ]
    },
    {
     "name": "stdout",
     "output_type": "stream",
     "text": [
      "[1000]\ttrain_set's rmse: 47.8605\tvalid_set's rmse: 64.7407\n",
      "[2000]\ttrain_set's rmse: 40.2377\tvalid_set's rmse: 60.748\n",
      "[3000]\ttrain_set's rmse: 35.7502\tvalid_set's rmse: 58.8977\n",
      "[4000]\ttrain_set's rmse: 32.5663\tvalid_set's rmse: 57.7178\n",
      "[5000]\ttrain_set's rmse: 30.1003\tvalid_set's rmse: 56.8274\n",
      "[6000]\ttrain_set's rmse: 28.0998\tvalid_set's rmse: 56.1893\n",
      "[7000]\ttrain_set's rmse: 26.4232\tvalid_set's rmse: 55.7298\n",
      "[8000]\ttrain_set's rmse: 24.9856\tvalid_set's rmse: 55.3879\n",
      "[9000]\ttrain_set's rmse: 23.7104\tvalid_set's rmse: 55.0552\n",
      "[10000]\ttrain_set's rmse: 22.5666\tvalid_set's rmse: 54.8282\n"
     ]
    },
    {
     "name": "stderr",
     "output_type": "stream",
     "text": [
      "/Users/Victor/Projects/udacity-aws-mle/venv/lib/python3.7/site-packages/lightgbm/engine.py:239: UserWarning: 'verbose_eval' argument is deprecated and will be removed in a future release of LightGBM. Pass 'log_evaluation()' callback via 'callbacks' argument instead.\n",
      "  _log_warning(\"'verbose_eval' argument is deprecated and will be removed in a future release of LightGBM. \"\n"
     ]
    },
    {
     "name": "stdout",
     "output_type": "stream",
     "text": [
      "[1000]\ttrain_set's rmse: 48.5558\tvalid_set's rmse: 57.0543\n",
      "[2000]\ttrain_set's rmse: 40.8365\tvalid_set's rmse: 54.0067\n",
      "[3000]\ttrain_set's rmse: 36.3626\tvalid_set's rmse: 52.6112\n",
      "[4000]\ttrain_set's rmse: 33.1602\tvalid_set's rmse: 51.851\n",
      "[5000]\ttrain_set's rmse: 30.6336\tvalid_set's rmse: 51.4033\n",
      "[6000]\ttrain_set's rmse: 28.6373\tvalid_set's rmse: 51.0776\n",
      "[7000]\ttrain_set's rmse: 26.9409\tvalid_set's rmse: 50.9025\n",
      "[8000]\ttrain_set's rmse: 25.4751\tvalid_set's rmse: 50.674\n",
      "[9000]\ttrain_set's rmse: 24.2053\tvalid_set's rmse: 50.5551\n",
      "[10000]\ttrain_set's rmse: 23.0488\tvalid_set's rmse: 50.5043\n"
     ]
    },
    {
     "name": "stderr",
     "output_type": "stream",
     "text": [
      "/Users/Victor/Projects/udacity-aws-mle/venv/lib/python3.7/site-packages/lightgbm/engine.py:239: UserWarning: 'verbose_eval' argument is deprecated and will be removed in a future release of LightGBM. Pass 'log_evaluation()' callback via 'callbacks' argument instead.\n",
      "  _log_warning(\"'verbose_eval' argument is deprecated and will be removed in a future release of LightGBM. \"\n"
     ]
    },
    {
     "name": "stdout",
     "output_type": "stream",
     "text": [
      "[1000]\ttrain_set's rmse: 47.9649\tvalid_set's rmse: 61.841\n",
      "[2000]\ttrain_set's rmse: 40.2397\tvalid_set's rmse: 59.3572\n",
      "[3000]\ttrain_set's rmse: 35.791\tvalid_set's rmse: 58.0041\n",
      "[4000]\ttrain_set's rmse: 32.5899\tvalid_set's rmse: 57.1881\n",
      "[5000]\ttrain_set's rmse: 30.1435\tvalid_set's rmse: 56.7479\n",
      "[6000]\ttrain_set's rmse: 28.1151\tvalid_set's rmse: 56.395\n",
      "[7000]\ttrain_set's rmse: 26.4172\tvalid_set's rmse: 56.1519\n",
      "[8000]\ttrain_set's rmse: 24.9455\tvalid_set's rmse: 55.9609\n",
      "[9000]\ttrain_set's rmse: 23.6847\tvalid_set's rmse: 55.8349\n",
      "[10000]\ttrain_set's rmse: 22.5657\tvalid_set's rmse: 55.7897\n"
     ]
    },
    {
     "name": "stderr",
     "output_type": "stream",
     "text": [
      "/Users/Victor/Projects/udacity-aws-mle/venv/lib/python3.7/site-packages/lightgbm/engine.py:239: UserWarning: 'verbose_eval' argument is deprecated and will be removed in a future release of LightGBM. Pass 'log_evaluation()' callback via 'callbacks' argument instead.\n",
      "  _log_warning(\"'verbose_eval' argument is deprecated and will be removed in a future release of LightGBM. \"\n"
     ]
    },
    {
     "name": "stdout",
     "output_type": "stream",
     "text": [
      "[1000]\ttrain_set's rmse: 48.3406\tvalid_set's rmse: 58.9292\n",
      "[2000]\ttrain_set's rmse: 40.6874\tvalid_set's rmse: 54.8144\n",
      "[3000]\ttrain_set's rmse: 36.2192\tvalid_set's rmse: 53.1583\n",
      "[4000]\ttrain_set's rmse: 33.0517\tvalid_set's rmse: 52.3571\n",
      "[5000]\ttrain_set's rmse: 30.5117\tvalid_set's rmse: 51.9071\n",
      "[6000]\ttrain_set's rmse: 28.4218\tvalid_set's rmse: 51.5728\n",
      "[7000]\ttrain_set's rmse: 26.6532\tvalid_set's rmse: 51.3266\n",
      "[8000]\ttrain_set's rmse: 25.1279\tvalid_set's rmse: 51.1786\n",
      "[9000]\ttrain_set's rmse: 23.8093\tvalid_set's rmse: 51.0843\n",
      "[10000]\ttrain_set's rmse: 22.6824\tvalid_set's rmse: 50.9741\n"
     ]
    },
    {
     "name": "stderr",
     "output_type": "stream",
     "text": [
      "/Users/Victor/Projects/udacity-aws-mle/venv/lib/python3.7/site-packages/lightgbm/engine.py:239: UserWarning: 'verbose_eval' argument is deprecated and will be removed in a future release of LightGBM. Pass 'log_evaluation()' callback via 'callbacks' argument instead.\n",
      "  _log_warning(\"'verbose_eval' argument is deprecated and will be removed in a future release of LightGBM. \"\n"
     ]
    },
    {
     "name": "stdout",
     "output_type": "stream",
     "text": [
      "[1000]\ttrain_set's rmse: 48.3605\tvalid_set's rmse: 61.5858\n",
      "[2000]\ttrain_set's rmse: 40.6366\tvalid_set's rmse: 58.2912\n",
      "[3000]\ttrain_set's rmse: 36.0964\tvalid_set's rmse: 56.5768\n",
      "[4000]\ttrain_set's rmse: 32.9721\tvalid_set's rmse: 55.7472\n",
      "[5000]\ttrain_set's rmse: 30.5573\tvalid_set's rmse: 55.0373\n",
      "[6000]\ttrain_set's rmse: 28.5551\tvalid_set's rmse: 54.6718\n",
      "[7000]\ttrain_set's rmse: 26.8534\tvalid_set's rmse: 54.2796\n",
      "[8000]\ttrain_set's rmse: 25.3793\tvalid_set's rmse: 53.9768\n",
      "[9000]\ttrain_set's rmse: 24.0561\tvalid_set's rmse: 53.6595\n",
      "[10000]\ttrain_set's rmse: 22.9144\tvalid_set's rmse: 53.4791\n"
     ]
    },
    {
     "name": "stderr",
     "output_type": "stream",
     "text": [
      "/Users/Victor/Projects/udacity-aws-mle/venv/lib/python3.7/site-packages/lightgbm/engine.py:239: UserWarning: 'verbose_eval' argument is deprecated and will be removed in a future release of LightGBM. Pass 'log_evaluation()' callback via 'callbacks' argument instead.\n",
      "  _log_warning(\"'verbose_eval' argument is deprecated and will be removed in a future release of LightGBM. \"\n"
     ]
    },
    {
     "name": "stdout",
     "output_type": "stream",
     "text": [
      "[1000]\ttrain_set's rmse: 47.8815\tvalid_set's rmse: 59.1776\n",
      "[2000]\ttrain_set's rmse: 40.203\tvalid_set's rmse: 56.8416\n",
      "[3000]\ttrain_set's rmse: 35.8553\tvalid_set's rmse: 55.7599\n",
      "[4000]\ttrain_set's rmse: 32.7631\tvalid_set's rmse: 55.0644\n",
      "[5000]\ttrain_set's rmse: 30.3524\tvalid_set's rmse: 54.5597\n",
      "[6000]\ttrain_set's rmse: 28.344\tvalid_set's rmse: 54.0874\n",
      "[7000]\ttrain_set's rmse: 26.6689\tvalid_set's rmse: 53.9042\n",
      "[8000]\ttrain_set's rmse: 25.2245\tvalid_set's rmse: 53.7325\n",
      "[9000]\ttrain_set's rmse: 23.9575\tvalid_set's rmse: 53.5523\n",
      "[10000]\ttrain_set's rmse: 22.8301\tvalid_set's rmse: 53.4263\n"
     ]
    },
    {
     "name": "stderr",
     "output_type": "stream",
     "text": [
      "/Users/Victor/Projects/udacity-aws-mle/venv/lib/python3.7/site-packages/lightgbm/engine.py:239: UserWarning: 'verbose_eval' argument is deprecated and will be removed in a future release of LightGBM. Pass 'log_evaluation()' callback via 'callbacks' argument instead.\n",
      "  _log_warning(\"'verbose_eval' argument is deprecated and will be removed in a future release of LightGBM. \"\n"
     ]
    },
    {
     "name": "stdout",
     "output_type": "stream",
     "text": [
      "[1000]\ttrain_set's rmse: 48.4057\tvalid_set's rmse: 55.5398\n",
      "[2000]\ttrain_set's rmse: 40.7455\tvalid_set's rmse: 52.6368\n",
      "[3000]\ttrain_set's rmse: 36.3582\tvalid_set's rmse: 51.2867\n",
      "[4000]\ttrain_set's rmse: 33.2689\tvalid_set's rmse: 50.4623\n",
      "[5000]\ttrain_set's rmse: 30.8317\tvalid_set's rmse: 49.7656\n",
      "[6000]\ttrain_set's rmse: 28.8441\tvalid_set's rmse: 49.2772\n",
      "[7000]\ttrain_set's rmse: 27.1259\tvalid_set's rmse: 48.9791\n",
      "[8000]\ttrain_set's rmse: 25.6688\tvalid_set's rmse: 48.8017\n",
      "[9000]\ttrain_set's rmse: 24.4016\tvalid_set's rmse: 48.68\n",
      "[10000]\ttrain_set's rmse: 23.2798\tvalid_set's rmse: 48.5704\n"
     ]
    },
    {
     "name": "stderr",
     "output_type": "stream",
     "text": [
      "\t-52.193\t = Validation root_mean_squared_error score\n",
      "\t107.03s\t = Training runtime\n",
      "\t10.19s\t = Validation runtime\n",
      "Fitting model: LightGBM_BAG_L1 ...\n",
      "/Users/Victor/Projects/udacity-aws-mle/venv/lib/python3.7/site-packages/lightgbm/engine.py:239: UserWarning: 'verbose_eval' argument is deprecated and will be removed in a future release of LightGBM. Pass 'log_evaluation()' callback via 'callbacks' argument instead.\n",
      "  _log_warning(\"'verbose_eval' argument is deprecated and will be removed in a future release of LightGBM. \"\n"
     ]
    },
    {
     "name": "stdout",
     "output_type": "stream",
     "text": [
      "[1000]\ttrain_set's rmse: 22.1998\tvalid_set's rmse: 37.0494\n"
     ]
    },
    {
     "name": "stderr",
     "output_type": "stream",
     "text": [
      "/Users/Victor/Projects/udacity-aws-mle/venv/lib/python3.7/site-packages/lightgbm/engine.py:239: UserWarning: 'verbose_eval' argument is deprecated and will be removed in a future release of LightGBM. Pass 'log_evaluation()' callback via 'callbacks' argument instead.\n",
      "  _log_warning(\"'verbose_eval' argument is deprecated and will be removed in a future release of LightGBM. \"\n"
     ]
    },
    {
     "name": "stdout",
     "output_type": "stream",
     "text": [
      "[1000]\ttrain_set's rmse: 22.5049\tvalid_set's rmse: 38.3108\n",
      "[2000]\ttrain_set's rmse: 16.4645\tvalid_set's rmse: 37.0111\n",
      "[3000]\ttrain_set's rmse: 13.0316\tvalid_set's rmse: 36.558\n"
     ]
    },
    {
     "name": "stderr",
     "output_type": "stream",
     "text": [
      "/Users/Victor/Projects/udacity-aws-mle/venv/lib/python3.7/site-packages/lightgbm/engine.py:239: UserWarning: 'verbose_eval' argument is deprecated and will be removed in a future release of LightGBM. Pass 'log_evaluation()' callback via 'callbacks' argument instead.\n",
      "  _log_warning(\"'verbose_eval' argument is deprecated and will be removed in a future release of LightGBM. \"\n"
     ]
    },
    {
     "name": "stdout",
     "output_type": "stream",
     "text": [
      "[1000]\ttrain_set's rmse: 22.3569\tvalid_set's rmse: 33.8751\n"
     ]
    },
    {
     "name": "stderr",
     "output_type": "stream",
     "text": [
      "/Users/Victor/Projects/udacity-aws-mle/venv/lib/python3.7/site-packages/lightgbm/engine.py:239: UserWarning: 'verbose_eval' argument is deprecated and will be removed in a future release of LightGBM. Pass 'log_evaluation()' callback via 'callbacks' argument instead.\n",
      "  _log_warning(\"'verbose_eval' argument is deprecated and will be removed in a future release of LightGBM. \"\n"
     ]
    },
    {
     "name": "stdout",
     "output_type": "stream",
     "text": [
      "[1000]\ttrain_set's rmse: 22.0048\tvalid_set's rmse: 39.1162\n",
      "[2000]\ttrain_set's rmse: 16.2252\tvalid_set's rmse: 38.3878\n",
      "[3000]\ttrain_set's rmse: 12.9201\tvalid_set's rmse: 38.3094\n"
     ]
    },
    {
     "name": "stderr",
     "output_type": "stream",
     "text": [
      "/Users/Victor/Projects/udacity-aws-mle/venv/lib/python3.7/site-packages/lightgbm/engine.py:239: UserWarning: 'verbose_eval' argument is deprecated and will be removed in a future release of LightGBM. Pass 'log_evaluation()' callback via 'callbacks' argument instead.\n",
      "  _log_warning(\"'verbose_eval' argument is deprecated and will be removed in a future release of LightGBM. \"\n"
     ]
    },
    {
     "name": "stdout",
     "output_type": "stream",
     "text": [
      "[1000]\ttrain_set's rmse: 22.135\tvalid_set's rmse: 38.6026\n"
     ]
    },
    {
     "name": "stderr",
     "output_type": "stream",
     "text": [
      "/Users/Victor/Projects/udacity-aws-mle/venv/lib/python3.7/site-packages/lightgbm/engine.py:239: UserWarning: 'verbose_eval' argument is deprecated and will be removed in a future release of LightGBM. Pass 'log_evaluation()' callback via 'callbacks' argument instead.\n",
      "  _log_warning(\"'verbose_eval' argument is deprecated and will be removed in a future release of LightGBM. \"\n"
     ]
    },
    {
     "name": "stdout",
     "output_type": "stream",
     "text": [
      "[1000]\ttrain_set's rmse: 22.0223\tvalid_set's rmse: 40.3018\n",
      "[2000]\ttrain_set's rmse: 16.0743\tvalid_set's rmse: 40.2616\n"
     ]
    },
    {
     "name": "stderr",
     "output_type": "stream",
     "text": [
      "/Users/Victor/Projects/udacity-aws-mle/venv/lib/python3.7/site-packages/lightgbm/engine.py:239: UserWarning: 'verbose_eval' argument is deprecated and will be removed in a future release of LightGBM. Pass 'log_evaluation()' callback via 'callbacks' argument instead.\n",
      "  _log_warning(\"'verbose_eval' argument is deprecated and will be removed in a future release of LightGBM. \"\n"
     ]
    },
    {
     "name": "stdout",
     "output_type": "stream",
     "text": [
      "[1000]\ttrain_set's rmse: 22.1114\tvalid_set's rmse: 36.2958\n",
      "[2000]\ttrain_set's rmse: 16.2356\tvalid_set's rmse: 36.0759\n"
     ]
    },
    {
     "name": "stderr",
     "output_type": "stream",
     "text": [
      "/Users/Victor/Projects/udacity-aws-mle/venv/lib/python3.7/site-packages/lightgbm/engine.py:239: UserWarning: 'verbose_eval' argument is deprecated and will be removed in a future release of LightGBM. Pass 'log_evaluation()' callback via 'callbacks' argument instead.\n",
      "  _log_warning(\"'verbose_eval' argument is deprecated and will be removed in a future release of LightGBM. \"\n"
     ]
    },
    {
     "name": "stdout",
     "output_type": "stream",
     "text": [
      "[1000]\ttrain_set's rmse: 22.094\tvalid_set's rmse: 37.1067\n",
      "[2000]\ttrain_set's rmse: 16.3575\tvalid_set's rmse: 36.5207\n"
     ]
    },
    {
     "name": "stderr",
     "output_type": "stream",
     "text": [
      "/Users/Victor/Projects/udacity-aws-mle/venv/lib/python3.7/site-packages/lightgbm/engine.py:239: UserWarning: 'verbose_eval' argument is deprecated and will be removed in a future release of LightGBM. Pass 'log_evaluation()' callback via 'callbacks' argument instead.\n",
      "  _log_warning(\"'verbose_eval' argument is deprecated and will be removed in a future release of LightGBM. \"\n"
     ]
    },
    {
     "name": "stdout",
     "output_type": "stream",
     "text": [
      "[1000]\ttrain_set's rmse: 22.4174\tvalid_set's rmse: 41.732\n",
      "[2000]\ttrain_set's rmse: 16.4102\tvalid_set's rmse: 41.1961\n"
     ]
    },
    {
     "name": "stderr",
     "output_type": "stream",
     "text": [
      "/Users/Victor/Projects/udacity-aws-mle/venv/lib/python3.7/site-packages/lightgbm/engine.py:239: UserWarning: 'verbose_eval' argument is deprecated and will be removed in a future release of LightGBM. Pass 'log_evaluation()' callback via 'callbacks' argument instead.\n",
      "  _log_warning(\"'verbose_eval' argument is deprecated and will be removed in a future release of LightGBM. \"\n"
     ]
    },
    {
     "name": "stdout",
     "output_type": "stream",
     "text": [
      "[1000]\ttrain_set's rmse: 22.4353\tvalid_set's rmse: 37.0984\n",
      "[2000]\ttrain_set's rmse: 16.6081\tvalid_set's rmse: 36.7285\n",
      "[3000]\ttrain_set's rmse: 13.0575\tvalid_set's rmse: 36.4675\n",
      "[4000]\ttrain_set's rmse: 10.7281\tvalid_set's rmse: 36.3871\n"
     ]
    },
    {
     "name": "stderr",
     "output_type": "stream",
     "text": [
      "\t-37.4085\t = Validation root_mean_squared_error score\n",
      "\t22.93s\t = Training runtime\n",
      "\t1.5s\t = Validation runtime\n",
      "Fitting model: RandomForestMSE_BAG_L1 ...\n",
      "\t-42.1447\t = Validation root_mean_squared_error score\n",
      "\t4.22s\t = Training runtime\n",
      "\t0.44s\t = Validation runtime\n",
      "Fitting model: CatBoost_BAG_L1 ...\n",
      "\t-37.7192\t = Validation root_mean_squared_error score\n",
      "\t140.61s\t = Training runtime\n",
      "\t0.1s\t = Validation runtime\n",
      "Fitting model: ExtraTreesMSE_BAG_L1 ...\n",
      "\t-41.5413\t = Validation root_mean_squared_error score\n",
      "\t2.25s\t = Training runtime\n",
      "\t0.43s\t = Validation runtime\n",
      "Fitting model: NeuralNetFastAI_BAG_L1 ...\n",
      "/Users/Victor/Projects/udacity-aws-mle/venv/lib/python3.7/site-packages/torch/overrides.py:1351: DeprecationWarning: Defining your `__torch_function__ as a plain method is deprecated and will be an error in PyTorch 1.11, please define it as a classmethod.\n",
      "  DeprecationWarning)\n",
      "/Users/Victor/Projects/udacity-aws-mle/venv/lib/python3.7/site-packages/torch/overrides.py:1351: DeprecationWarning: Defining your `__torch_function__ as a plain method is deprecated and will be an error in PyTorch 1.11, please define it as a classmethod.\n",
      "  DeprecationWarning)\n",
      "/Users/Victor/Projects/udacity-aws-mle/venv/lib/python3.7/site-packages/torch/overrides.py:1351: DeprecationWarning: Defining your `__torch_function__ as a plain method is deprecated and will be an error in PyTorch 1.11, please define it as a classmethod.\n",
      "  DeprecationWarning)\n",
      "/Users/Victor/Projects/udacity-aws-mle/venv/lib/python3.7/site-packages/torch/overrides.py:1351: DeprecationWarning: Defining your `__torch_function__ as a plain method is deprecated and will be an error in PyTorch 1.11, please define it as a classmethod.\n",
      "  DeprecationWarning)\n",
      "/Users/Victor/Projects/udacity-aws-mle/venv/lib/python3.7/site-packages/torch/overrides.py:1351: DeprecationWarning: Defining your `__torch_function__ as a plain method is deprecated and will be an error in PyTorch 1.11, please define it as a classmethod.\n",
      "  DeprecationWarning)\n",
      "/Users/Victor/Projects/udacity-aws-mle/venv/lib/python3.7/site-packages/torch/overrides.py:1351: DeprecationWarning: Defining your `__torch_function__ as a plain method is deprecated and will be an error in PyTorch 1.11, please define it as a classmethod.\n",
      "  DeprecationWarning)\n",
      "/Users/Victor/Projects/udacity-aws-mle/venv/lib/python3.7/site-packages/torch/overrides.py:1351: DeprecationWarning: Defining your `__torch_function__ as a plain method is deprecated and will be an error in PyTorch 1.11, please define it as a classmethod.\n",
      "  DeprecationWarning)\n",
      "/Users/Victor/Projects/udacity-aws-mle/venv/lib/python3.7/site-packages/torch/overrides.py:1351: DeprecationWarning: Defining your `__torch_function__ as a plain method is deprecated and will be an error in PyTorch 1.11, please define it as a classmethod.\n",
      "  DeprecationWarning)\n",
      "/Users/Victor/Projects/udacity-aws-mle/venv/lib/python3.7/site-packages/torch/overrides.py:1351: DeprecationWarning: Defining your `__torch_function__ as a plain method is deprecated and will be an error in PyTorch 1.11, please define it as a classmethod.\n",
      "  DeprecationWarning)\n",
      "/Users/Victor/Projects/udacity-aws-mle/venv/lib/python3.7/site-packages/torch/overrides.py:1351: DeprecationWarning: Defining your `__torch_function__ as a plain method is deprecated and will be an error in PyTorch 1.11, please define it as a classmethod.\n",
      "  DeprecationWarning)\n",
      "\t-47.1387\t = Validation root_mean_squared_error score\n",
      "\t115.42s\t = Training runtime\n",
      "\t0.36s\t = Validation runtime\n",
      "Fitting model: XGBoost_BAG_L1 ...\n",
      "\t-38.997\t = Validation root_mean_squared_error score\n",
      "\t55.93s\t = Training runtime\n",
      "\t0.21s\t = Validation runtime\n",
      "Fitting model: NeuralNetMXNet_BAG_L1 ...\n",
      "\t-38.9491\t = Validation root_mean_squared_error score\n",
      "\t970.97s\t = Training runtime\n",
      "\t1.48s\t = Validation runtime\n",
      "Fitting model: LightGBMLarge_BAG_L1 ...\n",
      "/Users/Victor/Projects/udacity-aws-mle/venv/lib/python3.7/site-packages/lightgbm/engine.py:239: UserWarning: 'verbose_eval' argument is deprecated and will be removed in a future release of LightGBM. Pass 'log_evaluation()' callback via 'callbacks' argument instead.\n",
      "  _log_warning(\"'verbose_eval' argument is deprecated and will be removed in a future release of LightGBM. \"\n"
     ]
    },
    {
     "name": "stdout",
     "output_type": "stream",
     "text": [
      "[1000]\ttrain_set's rmse: 9.48415\tvalid_set's rmse: 35.5604\n"
     ]
    },
    {
     "name": "stderr",
     "output_type": "stream",
     "text": [
      "/Users/Victor/Projects/udacity-aws-mle/venv/lib/python3.7/site-packages/lightgbm/engine.py:239: UserWarning: 'verbose_eval' argument is deprecated and will be removed in a future release of LightGBM. Pass 'log_evaluation()' callback via 'callbacks' argument instead.\n",
      "  _log_warning(\"'verbose_eval' argument is deprecated and will be removed in a future release of LightGBM. \"\n"
     ]
    },
    {
     "name": "stdout",
     "output_type": "stream",
     "text": [
      "[1000]\ttrain_set's rmse: 9.41141\tvalid_set's rmse: 37.8318\n"
     ]
    },
    {
     "name": "stderr",
     "output_type": "stream",
     "text": [
      "/Users/Victor/Projects/udacity-aws-mle/venv/lib/python3.7/site-packages/lightgbm/engine.py:239: UserWarning: 'verbose_eval' argument is deprecated and will be removed in a future release of LightGBM. Pass 'log_evaluation()' callback via 'callbacks' argument instead.\n",
      "  _log_warning(\"'verbose_eval' argument is deprecated and will be removed in a future release of LightGBM. \"\n"
     ]
    },
    {
     "name": "stdout",
     "output_type": "stream",
     "text": [
      "[1000]\ttrain_set's rmse: 9.50615\tvalid_set's rmse: 33.6869\n"
     ]
    },
    {
     "name": "stderr",
     "output_type": "stream",
     "text": [
      "/Users/Victor/Projects/udacity-aws-mle/venv/lib/python3.7/site-packages/lightgbm/engine.py:239: UserWarning: 'verbose_eval' argument is deprecated and will be removed in a future release of LightGBM. Pass 'log_evaluation()' callback via 'callbacks' argument instead.\n",
      "  _log_warning(\"'verbose_eval' argument is deprecated and will be removed in a future release of LightGBM. \"\n"
     ]
    },
    {
     "name": "stdout",
     "output_type": "stream",
     "text": [
      "[1000]\ttrain_set's rmse: 9.60798\tvalid_set's rmse: 38.8329\n"
     ]
    },
    {
     "name": "stderr",
     "output_type": "stream",
     "text": [
      "/Users/Victor/Projects/udacity-aws-mle/venv/lib/python3.7/site-packages/lightgbm/engine.py:239: UserWarning: 'verbose_eval' argument is deprecated and will be removed in a future release of LightGBM. Pass 'log_evaluation()' callback via 'callbacks' argument instead.\n",
      "  _log_warning(\"'verbose_eval' argument is deprecated and will be removed in a future release of LightGBM. \"\n"
     ]
    },
    {
     "name": "stdout",
     "output_type": "stream",
     "text": [
      "[1000]\ttrain_set's rmse: 9.3128\tvalid_set's rmse: 37.0314\n"
     ]
    },
    {
     "name": "stderr",
     "output_type": "stream",
     "text": [
      "/Users/Victor/Projects/udacity-aws-mle/venv/lib/python3.7/site-packages/lightgbm/engine.py:239: UserWarning: 'verbose_eval' argument is deprecated and will be removed in a future release of LightGBM. Pass 'log_evaluation()' callback via 'callbacks' argument instead.\n",
      "  _log_warning(\"'verbose_eval' argument is deprecated and will be removed in a future release of LightGBM. \"\n",
      "/Users/Victor/Projects/udacity-aws-mle/venv/lib/python3.7/site-packages/lightgbm/engine.py:239: UserWarning: 'verbose_eval' argument is deprecated and will be removed in a future release of LightGBM. Pass 'log_evaluation()' callback via 'callbacks' argument instead.\n",
      "  _log_warning(\"'verbose_eval' argument is deprecated and will be removed in a future release of LightGBM. \"\n"
     ]
    },
    {
     "name": "stdout",
     "output_type": "stream",
     "text": [
      "[1000]\ttrain_set's rmse: 9.24531\tvalid_set's rmse: 34.5777\n"
     ]
    },
    {
     "name": "stderr",
     "output_type": "stream",
     "text": [
      "/Users/Victor/Projects/udacity-aws-mle/venv/lib/python3.7/site-packages/lightgbm/engine.py:239: UserWarning: 'verbose_eval' argument is deprecated and will be removed in a future release of LightGBM. Pass 'log_evaluation()' callback via 'callbacks' argument instead.\n",
      "  _log_warning(\"'verbose_eval' argument is deprecated and will be removed in a future release of LightGBM. \"\n"
     ]
    },
    {
     "name": "stdout",
     "output_type": "stream",
     "text": [
      "[1000]\ttrain_set's rmse: 9.22097\tvalid_set's rmse: 36.3426\n"
     ]
    },
    {
     "name": "stderr",
     "output_type": "stream",
     "text": [
      "/Users/Victor/Projects/udacity-aws-mle/venv/lib/python3.7/site-packages/lightgbm/engine.py:239: UserWarning: 'verbose_eval' argument is deprecated and will be removed in a future release of LightGBM. Pass 'log_evaluation()' callback via 'callbacks' argument instead.\n",
      "  _log_warning(\"'verbose_eval' argument is deprecated and will be removed in a future release of LightGBM. \"\n",
      "/Users/Victor/Projects/udacity-aws-mle/venv/lib/python3.7/site-packages/lightgbm/engine.py:239: UserWarning: 'verbose_eval' argument is deprecated and will be removed in a future release of LightGBM. Pass 'log_evaluation()' callback via 'callbacks' argument instead.\n",
      "  _log_warning(\"'verbose_eval' argument is deprecated and will be removed in a future release of LightGBM. \"\n",
      "\t-37.1855\t = Validation root_mean_squared_error score\n",
      "\t29.84s\t = Training runtime\n",
      "\t0.86s\t = Validation runtime\n",
      "Fitting model: WeightedEnsemble_L2 ...\n",
      "\t-35.2739\t = Validation root_mean_squared_error score\n",
      "\t1.04s\t = Training runtime\n",
      "\t0.0s\t = Validation runtime\n",
      "Fitting model: KNeighborsUnif_BAG_L2 ...\n",
      "\t-37.7117\t = Validation root_mean_squared_error score\n",
      "\t0.01s\t = Training runtime\n",
      "\t3.81s\t = Validation runtime\n",
      "Fitting model: KNeighborsDist_BAG_L2 ...\n",
      "\t-37.7037\t = Validation root_mean_squared_error score\n",
      "\t0.01s\t = Training runtime\n",
      "\t4.08s\t = Validation runtime\n",
      "Fitting model: LightGBMXT_BAG_L2 ...\n",
      "/Users/Victor/Projects/udacity-aws-mle/venv/lib/python3.7/site-packages/lightgbm/engine.py:239: UserWarning: 'verbose_eval' argument is deprecated and will be removed in a future release of LightGBM. Pass 'log_evaluation()' callback via 'callbacks' argument instead.\n",
      "  _log_warning(\"'verbose_eval' argument is deprecated and will be removed in a future release of LightGBM. \"\n",
      "/Users/Victor/Projects/udacity-aws-mle/venv/lib/python3.7/site-packages/lightgbm/engine.py:239: UserWarning: 'verbose_eval' argument is deprecated and will be removed in a future release of LightGBM. Pass 'log_evaluation()' callback via 'callbacks' argument instead.\n",
      "  _log_warning(\"'verbose_eval' argument is deprecated and will be removed in a future release of LightGBM. \"\n",
      "/Users/Victor/Projects/udacity-aws-mle/venv/lib/python3.7/site-packages/lightgbm/engine.py:239: UserWarning: 'verbose_eval' argument is deprecated and will be removed in a future release of LightGBM. Pass 'log_evaluation()' callback via 'callbacks' argument instead.\n",
      "  _log_warning(\"'verbose_eval' argument is deprecated and will be removed in a future release of LightGBM. \"\n",
      "/Users/Victor/Projects/udacity-aws-mle/venv/lib/python3.7/site-packages/lightgbm/engine.py:239: UserWarning: 'verbose_eval' argument is deprecated and will be removed in a future release of LightGBM. Pass 'log_evaluation()' callback via 'callbacks' argument instead.\n",
      "  _log_warning(\"'verbose_eval' argument is deprecated and will be removed in a future release of LightGBM. \"\n",
      "/Users/Victor/Projects/udacity-aws-mle/venv/lib/python3.7/site-packages/lightgbm/engine.py:239: UserWarning: 'verbose_eval' argument is deprecated and will be removed in a future release of LightGBM. Pass 'log_evaluation()' callback via 'callbacks' argument instead.\n",
      "  _log_warning(\"'verbose_eval' argument is deprecated and will be removed in a future release of LightGBM. \"\n",
      "/Users/Victor/Projects/udacity-aws-mle/venv/lib/python3.7/site-packages/lightgbm/engine.py:239: UserWarning: 'verbose_eval' argument is deprecated and will be removed in a future release of LightGBM. Pass 'log_evaluation()' callback via 'callbacks' argument instead.\n",
      "  _log_warning(\"'verbose_eval' argument is deprecated and will be removed in a future release of LightGBM. \"\n",
      "/Users/Victor/Projects/udacity-aws-mle/venv/lib/python3.7/site-packages/lightgbm/engine.py:239: UserWarning: 'verbose_eval' argument is deprecated and will be removed in a future release of LightGBM. Pass 'log_evaluation()' callback via 'callbacks' argument instead.\n",
      "  _log_warning(\"'verbose_eval' argument is deprecated and will be removed in a future release of LightGBM. \"\n",
      "/Users/Victor/Projects/udacity-aws-mle/venv/lib/python3.7/site-packages/lightgbm/engine.py:239: UserWarning: 'verbose_eval' argument is deprecated and will be removed in a future release of LightGBM. Pass 'log_evaluation()' callback via 'callbacks' argument instead.\n",
      "  _log_warning(\"'verbose_eval' argument is deprecated and will be removed in a future release of LightGBM. \"\n",
      "/Users/Victor/Projects/udacity-aws-mle/venv/lib/python3.7/site-packages/lightgbm/engine.py:239: UserWarning: 'verbose_eval' argument is deprecated and will be removed in a future release of LightGBM. Pass 'log_evaluation()' callback via 'callbacks' argument instead.\n",
      "  _log_warning(\"'verbose_eval' argument is deprecated and will be removed in a future release of LightGBM. \"\n",
      "/Users/Victor/Projects/udacity-aws-mle/venv/lib/python3.7/site-packages/lightgbm/engine.py:239: UserWarning: 'verbose_eval' argument is deprecated and will be removed in a future release of LightGBM. Pass 'log_evaluation()' callback via 'callbacks' argument instead.\n",
      "  _log_warning(\"'verbose_eval' argument is deprecated and will be removed in a future release of LightGBM. \"\n",
      "\t-36.4531\t = Validation root_mean_squared_error score\n",
      "\t5.98s\t = Training runtime\n",
      "\t0.15s\t = Validation runtime\n",
      "Fitting model: LightGBM_BAG_L2 ...\n",
      "/Users/Victor/Projects/udacity-aws-mle/venv/lib/python3.7/site-packages/lightgbm/engine.py:239: UserWarning: 'verbose_eval' argument is deprecated and will be removed in a future release of LightGBM. Pass 'log_evaluation()' callback via 'callbacks' argument instead.\n",
      "  _log_warning(\"'verbose_eval' argument is deprecated and will be removed in a future release of LightGBM. \"\n",
      "/Users/Victor/Projects/udacity-aws-mle/venv/lib/python3.7/site-packages/lightgbm/engine.py:239: UserWarning: 'verbose_eval' argument is deprecated and will be removed in a future release of LightGBM. Pass 'log_evaluation()' callback via 'callbacks' argument instead.\n",
      "  _log_warning(\"'verbose_eval' argument is deprecated and will be removed in a future release of LightGBM. \"\n",
      "/Users/Victor/Projects/udacity-aws-mle/venv/lib/python3.7/site-packages/lightgbm/engine.py:239: UserWarning: 'verbose_eval' argument is deprecated and will be removed in a future release of LightGBM. Pass 'log_evaluation()' callback via 'callbacks' argument instead.\n",
      "  _log_warning(\"'verbose_eval' argument is deprecated and will be removed in a future release of LightGBM. \"\n",
      "/Users/Victor/Projects/udacity-aws-mle/venv/lib/python3.7/site-packages/lightgbm/engine.py:239: UserWarning: 'verbose_eval' argument is deprecated and will be removed in a future release of LightGBM. Pass 'log_evaluation()' callback via 'callbacks' argument instead.\n",
      "  _log_warning(\"'verbose_eval' argument is deprecated and will be removed in a future release of LightGBM. \"\n",
      "/Users/Victor/Projects/udacity-aws-mle/venv/lib/python3.7/site-packages/lightgbm/engine.py:239: UserWarning: 'verbose_eval' argument is deprecated and will be removed in a future release of LightGBM. Pass 'log_evaluation()' callback via 'callbacks' argument instead.\n",
      "  _log_warning(\"'verbose_eval' argument is deprecated and will be removed in a future release of LightGBM. \"\n",
      "/Users/Victor/Projects/udacity-aws-mle/venv/lib/python3.7/site-packages/lightgbm/engine.py:239: UserWarning: 'verbose_eval' argument is deprecated and will be removed in a future release of LightGBM. Pass 'log_evaluation()' callback via 'callbacks' argument instead.\n",
      "  _log_warning(\"'verbose_eval' argument is deprecated and will be removed in a future release of LightGBM. \"\n",
      "/Users/Victor/Projects/udacity-aws-mle/venv/lib/python3.7/site-packages/lightgbm/engine.py:239: UserWarning: 'verbose_eval' argument is deprecated and will be removed in a future release of LightGBM. Pass 'log_evaluation()' callback via 'callbacks' argument instead.\n",
      "  _log_warning(\"'verbose_eval' argument is deprecated and will be removed in a future release of LightGBM. \"\n",
      "/Users/Victor/Projects/udacity-aws-mle/venv/lib/python3.7/site-packages/lightgbm/engine.py:239: UserWarning: 'verbose_eval' argument is deprecated and will be removed in a future release of LightGBM. Pass 'log_evaluation()' callback via 'callbacks' argument instead.\n",
      "  _log_warning(\"'verbose_eval' argument is deprecated and will be removed in a future release of LightGBM. \"\n"
     ]
    },
    {
     "name": "stderr",
     "output_type": "stream",
     "text": [
      "/Users/Victor/Projects/udacity-aws-mle/venv/lib/python3.7/site-packages/lightgbm/engine.py:239: UserWarning: 'verbose_eval' argument is deprecated and will be removed in a future release of LightGBM. Pass 'log_evaluation()' callback via 'callbacks' argument instead.\n",
      "  _log_warning(\"'verbose_eval' argument is deprecated and will be removed in a future release of LightGBM. \"\n",
      "/Users/Victor/Projects/udacity-aws-mle/venv/lib/python3.7/site-packages/lightgbm/engine.py:239: UserWarning: 'verbose_eval' argument is deprecated and will be removed in a future release of LightGBM. Pass 'log_evaluation()' callback via 'callbacks' argument instead.\n",
      "  _log_warning(\"'verbose_eval' argument is deprecated and will be removed in a future release of LightGBM. \"\n",
      "\t-36.0105\t = Validation root_mean_squared_error score\n",
      "\t5.53s\t = Training runtime\n",
      "\t0.1s\t = Validation runtime\n",
      "Fitting model: RandomForestMSE_BAG_L2 ...\n",
      "\t-36.3926\t = Validation root_mean_squared_error score\n",
      "\t14.34s\t = Training runtime\n",
      "\t0.53s\t = Validation runtime\n",
      "Fitting model: CatBoost_BAG_L2 ...\n",
      "\t-35.8768\t = Validation root_mean_squared_error score\n",
      "\t22.66s\t = Training runtime\n",
      "\t0.06s\t = Validation runtime\n",
      "Fitting model: ExtraTreesMSE_BAG_L2 ...\n",
      "\t-35.9602\t = Validation root_mean_squared_error score\n",
      "\t4.28s\t = Training runtime\n",
      "\t0.49s\t = Validation runtime\n",
      "Fitting model: NeuralNetFastAI_BAG_L2 ...\n",
      "/Users/Victor/Projects/udacity-aws-mle/venv/lib/python3.7/site-packages/torch/overrides.py:1351: DeprecationWarning: Defining your `__torch_function__ as a plain method is deprecated and will be an error in PyTorch 1.11, please define it as a classmethod.\n",
      "  DeprecationWarning)\n",
      "/Users/Victor/Projects/udacity-aws-mle/venv/lib/python3.7/site-packages/torch/overrides.py:1351: DeprecationWarning: Defining your `__torch_function__ as a plain method is deprecated and will be an error in PyTorch 1.11, please define it as a classmethod.\n",
      "  DeprecationWarning)\n",
      "/Users/Victor/Projects/udacity-aws-mle/venv/lib/python3.7/site-packages/torch/overrides.py:1351: DeprecationWarning: Defining your `__torch_function__ as a plain method is deprecated and will be an error in PyTorch 1.11, please define it as a classmethod.\n",
      "  DeprecationWarning)\n",
      "/Users/Victor/Projects/udacity-aws-mle/venv/lib/python3.7/site-packages/torch/overrides.py:1351: DeprecationWarning: Defining your `__torch_function__ as a plain method is deprecated and will be an error in PyTorch 1.11, please define it as a classmethod.\n",
      "  DeprecationWarning)\n",
      "/Users/Victor/Projects/udacity-aws-mle/venv/lib/python3.7/site-packages/torch/overrides.py:1351: DeprecationWarning: Defining your `__torch_function__ as a plain method is deprecated and will be an error in PyTorch 1.11, please define it as a classmethod.\n",
      "  DeprecationWarning)\n",
      "/Users/Victor/Projects/udacity-aws-mle/venv/lib/python3.7/site-packages/torch/overrides.py:1351: DeprecationWarning: Defining your `__torch_function__ as a plain method is deprecated and will be an error in PyTorch 1.11, please define it as a classmethod.\n",
      "  DeprecationWarning)\n",
      "/Users/Victor/Projects/udacity-aws-mle/venv/lib/python3.7/site-packages/torch/overrides.py:1351: DeprecationWarning: Defining your `__torch_function__ as a plain method is deprecated and will be an error in PyTorch 1.11, please define it as a classmethod.\n",
      "  DeprecationWarning)\n",
      "/Users/Victor/Projects/udacity-aws-mle/venv/lib/python3.7/site-packages/torch/overrides.py:1351: DeprecationWarning: Defining your `__torch_function__ as a plain method is deprecated and will be an error in PyTorch 1.11, please define it as a classmethod.\n",
      "  DeprecationWarning)\n",
      "/Users/Victor/Projects/udacity-aws-mle/venv/lib/python3.7/site-packages/torch/overrides.py:1351: DeprecationWarning: Defining your `__torch_function__ as a plain method is deprecated and will be an error in PyTorch 1.11, please define it as a classmethod.\n",
      "  DeprecationWarning)\n",
      "/Users/Victor/Projects/udacity-aws-mle/venv/lib/python3.7/site-packages/torch/overrides.py:1351: DeprecationWarning: Defining your `__torch_function__ as a plain method is deprecated and will be an error in PyTorch 1.11, please define it as a classmethod.\n",
      "  DeprecationWarning)\n",
      "\t-35.3589\t = Validation root_mean_squared_error score\n",
      "\t116.93s\t = Training runtime\n",
      "\t0.4s\t = Validation runtime\n",
      "Fitting model: XGBoost_BAG_L2 ...\n",
      "\t-36.4174\t = Validation root_mean_squared_error score\n",
      "\t42.07s\t = Training runtime\n",
      "\t0.15s\t = Validation runtime\n",
      "Fitting model: NeuralNetMXNet_BAG_L2 ...\n",
      "\t-36.3626\t = Validation root_mean_squared_error score\n",
      "\t340.6s\t = Training runtime\n",
      "\t1.51s\t = Validation runtime\n",
      "Fitting model: LightGBMLarge_BAG_L2 ...\n",
      "/Users/Victor/Projects/udacity-aws-mle/venv/lib/python3.7/site-packages/lightgbm/engine.py:239: UserWarning: 'verbose_eval' argument is deprecated and will be removed in a future release of LightGBM. Pass 'log_evaluation()' callback via 'callbacks' argument instead.\n",
      "  _log_warning(\"'verbose_eval' argument is deprecated and will be removed in a future release of LightGBM. \"\n",
      "/Users/Victor/Projects/udacity-aws-mle/venv/lib/python3.7/site-packages/lightgbm/engine.py:239: UserWarning: 'verbose_eval' argument is deprecated and will be removed in a future release of LightGBM. Pass 'log_evaluation()' callback via 'callbacks' argument instead.\n",
      "  _log_warning(\"'verbose_eval' argument is deprecated and will be removed in a future release of LightGBM. \"\n",
      "/Users/Victor/Projects/udacity-aws-mle/venv/lib/python3.7/site-packages/lightgbm/engine.py:239: UserWarning: 'verbose_eval' argument is deprecated and will be removed in a future release of LightGBM. Pass 'log_evaluation()' callback via 'callbacks' argument instead.\n",
      "  _log_warning(\"'verbose_eval' argument is deprecated and will be removed in a future release of LightGBM. \"\n",
      "/Users/Victor/Projects/udacity-aws-mle/venv/lib/python3.7/site-packages/lightgbm/engine.py:239: UserWarning: 'verbose_eval' argument is deprecated and will be removed in a future release of LightGBM. Pass 'log_evaluation()' callback via 'callbacks' argument instead.\n",
      "  _log_warning(\"'verbose_eval' argument is deprecated and will be removed in a future release of LightGBM. \"\n",
      "/Users/Victor/Projects/udacity-aws-mle/venv/lib/python3.7/site-packages/lightgbm/engine.py:239: UserWarning: 'verbose_eval' argument is deprecated and will be removed in a future release of LightGBM. Pass 'log_evaluation()' callback via 'callbacks' argument instead.\n",
      "  _log_warning(\"'verbose_eval' argument is deprecated and will be removed in a future release of LightGBM. \"\n",
      "/Users/Victor/Projects/udacity-aws-mle/venv/lib/python3.7/site-packages/lightgbm/engine.py:239: UserWarning: 'verbose_eval' argument is deprecated and will be removed in a future release of LightGBM. Pass 'log_evaluation()' callback via 'callbacks' argument instead.\n",
      "  _log_warning(\"'verbose_eval' argument is deprecated and will be removed in a future release of LightGBM. \"\n",
      "/Users/Victor/Projects/udacity-aws-mle/venv/lib/python3.7/site-packages/lightgbm/engine.py:239: UserWarning: 'verbose_eval' argument is deprecated and will be removed in a future release of LightGBM. Pass 'log_evaluation()' callback via 'callbacks' argument instead.\n",
      "  _log_warning(\"'verbose_eval' argument is deprecated and will be removed in a future release of LightGBM. \"\n",
      "/Users/Victor/Projects/udacity-aws-mle/venv/lib/python3.7/site-packages/lightgbm/engine.py:239: UserWarning: 'verbose_eval' argument is deprecated and will be removed in a future release of LightGBM. Pass 'log_evaluation()' callback via 'callbacks' argument instead.\n",
      "  _log_warning(\"'verbose_eval' argument is deprecated and will be removed in a future release of LightGBM. \"\n",
      "/Users/Victor/Projects/udacity-aws-mle/venv/lib/python3.7/site-packages/lightgbm/engine.py:239: UserWarning: 'verbose_eval' argument is deprecated and will be removed in a future release of LightGBM. Pass 'log_evaluation()' callback via 'callbacks' argument instead.\n",
      "  _log_warning(\"'verbose_eval' argument is deprecated and will be removed in a future release of LightGBM. \"\n",
      "/Users/Victor/Projects/udacity-aws-mle/venv/lib/python3.7/site-packages/lightgbm/engine.py:239: UserWarning: 'verbose_eval' argument is deprecated and will be removed in a future release of LightGBM. Pass 'log_evaluation()' callback via 'callbacks' argument instead.\n",
      "  _log_warning(\"'verbose_eval' argument is deprecated and will be removed in a future release of LightGBM. \"\n"
     ]
    },
    {
     "name": "stderr",
     "output_type": "stream",
     "text": [
      "\t-36.913\t = Validation root_mean_squared_error score\n",
      "\t13.85s\t = Training runtime\n",
      "\t0.16s\t = Validation runtime\n",
      "Fitting model: WeightedEnsemble_L3 ...\n",
      "\t-35.2467\t = Validation root_mean_squared_error score\n",
      "\t1.34s\t = Training runtime\n",
      "\t0.0s\t = Validation runtime\n",
      "AutoGluon training complete, total runtime = 2047.29s ...\n",
      "Fitting model: KNeighborsUnif_BAG_L1_FULL ...\n",
      "\t-122.9277\t = Validation root_mean_squared_error score\n",
      "\t0.01s\t = Training runtime\n",
      "\t0.11s\t = Validation runtime\n",
      "Fitting model: KNeighborsDist_BAG_L1_FULL ...\n",
      "\t-118.2871\t = Validation root_mean_squared_error score\n",
      "\t0.01s\t = Training runtime\n",
      "\t0.11s\t = Validation runtime\n",
      "Fitting model: LightGBMXT_BAG_L1_FULL ...\n",
      "/Users/Victor/Projects/udacity-aws-mle/venv/lib/python3.7/site-packages/lightgbm/engine.py:239: UserWarning: 'verbose_eval' argument is deprecated and will be removed in a future release of LightGBM. Pass 'log_evaluation()' callback via 'callbacks' argument instead.\n",
      "  _log_warning(\"'verbose_eval' argument is deprecated and will be removed in a future release of LightGBM. \"\n"
     ]
    },
    {
     "name": "stdout",
     "output_type": "stream",
     "text": [
      "[1000]\ttrain_set's rmse: 48.6048\n",
      "[2000]\ttrain_set's rmse: 41.2375\n",
      "[3000]\ttrain_set's rmse: 36.8715\n",
      "[4000]\ttrain_set's rmse: 33.7162\n",
      "[5000]\ttrain_set's rmse: 31.3251\n",
      "[6000]\ttrain_set's rmse: 29.3514\n",
      "[7000]\ttrain_set's rmse: 27.6521\n",
      "[8000]\ttrain_set's rmse: 26.2178\n",
      "[9000]\ttrain_set's rmse: 24.9634\n"
     ]
    },
    {
     "name": "stderr",
     "output_type": "stream",
     "text": [
      "\t8.09s\t = Training runtime\n",
      "Fitting model: LightGBM_BAG_L1_FULL ...\n",
      "/Users/Victor/Projects/udacity-aws-mle/venv/lib/python3.7/site-packages/lightgbm/engine.py:239: UserWarning: 'verbose_eval' argument is deprecated and will be removed in a future release of LightGBM. Pass 'log_evaluation()' callback via 'callbacks' argument instead.\n",
      "  _log_warning(\"'verbose_eval' argument is deprecated and will be removed in a future release of LightGBM. \"\n"
     ]
    },
    {
     "name": "stdout",
     "output_type": "stream",
     "text": [
      "[1000]\ttrain_set's rmse: 22.6538\n",
      "[2000]\ttrain_set's rmse: 16.7315\n"
     ]
    },
    {
     "name": "stderr",
     "output_type": "stream",
     "text": [
      "\t1.7s\t = Training runtime\n",
      "Fitting model: RandomForestMSE_BAG_L1_FULL ...\n",
      "\t-42.1447\t = Validation root_mean_squared_error score\n",
      "\t4.27s\t = Training runtime\n",
      "\t0.44s\t = Validation runtime\n",
      "Fitting model: CatBoost_BAG_L1_FULL ...\n",
      "\t16.31s\t = Training runtime\n",
      "Fitting model: ExtraTreesMSE_BAG_L1_FULL ...\n",
      "\t-41.5413\t = Validation root_mean_squared_error score\n",
      "\t2.31s\t = Training runtime\n",
      "\t0.43s\t = Validation runtime\n",
      "Fitting model: NeuralNetFastAI_BAG_L1_FULL ...\n",
      "/Users/Victor/Projects/udacity-aws-mle/venv/lib/python3.7/site-packages/torch/overrides.py:1351: DeprecationWarning: Defining your `__torch_function__ as a plain method is deprecated and will be an error in PyTorch 1.11, please define it as a classmethod.\n",
      "  DeprecationWarning)\n",
      "\tStopping at the best epoch learned earlier - 28.\n",
      "\t11.46s\t = Training runtime\n",
      "Fitting model: XGBoost_BAG_L1_FULL ...\n",
      "\t4.85s\t = Training runtime\n",
      "Fitting model: NeuralNetMXNet_BAG_L1_FULL ...\n",
      "\t10.02s\t = Training runtime\n",
      "Fitting model: LightGBMLarge_BAG_L1_FULL ...\n",
      "/Users/Victor/Projects/udacity-aws-mle/venv/lib/python3.7/site-packages/lightgbm/engine.py:239: UserWarning: 'verbose_eval' argument is deprecated and will be removed in a future release of LightGBM. Pass 'log_evaluation()' callback via 'callbacks' argument instead.\n",
      "  _log_warning(\"'verbose_eval' argument is deprecated and will be removed in a future release of LightGBM. \"\n"
     ]
    },
    {
     "name": "stdout",
     "output_type": "stream",
     "text": [
      "[1000]\ttrain_set's rmse: 10.013\n"
     ]
    },
    {
     "name": "stderr",
     "output_type": "stream",
     "text": [
      "\t2.47s\t = Training runtime\n",
      "Fitting model: WeightedEnsemble_L2_FULL ...\n",
      "\t-35.2739\t = Validation root_mean_squared_error score\n",
      "\t0.41s\t = Training runtime\n",
      "\t0.0s\t = Validation runtime\n",
      "Fitting model: KNeighborsUnif_BAG_L2_FULL ...\n",
      "\t-37.7117\t = Validation root_mean_squared_error score\n",
      "\t0.01s\t = Training runtime\n",
      "\t3.63s\t = Validation runtime\n",
      "Fitting model: KNeighborsDist_BAG_L2_FULL ...\n",
      "\t-37.7037\t = Validation root_mean_squared_error score\n",
      "\t0.01s\t = Training runtime\n",
      "\t3.59s\t = Validation runtime\n",
      "Fitting model: LightGBMXT_BAG_L2_FULL ...\n",
      "/Users/Victor/Projects/udacity-aws-mle/venv/lib/python3.7/site-packages/lightgbm/engine.py:239: UserWarning: 'verbose_eval' argument is deprecated and will be removed in a future release of LightGBM. Pass 'log_evaluation()' callback via 'callbacks' argument instead.\n",
      "  _log_warning(\"'verbose_eval' argument is deprecated and will be removed in a future release of LightGBM. \"\n",
      "\t0.34s\t = Training runtime\n",
      "Fitting model: LightGBM_BAG_L2_FULL ...\n",
      "/Users/Victor/Projects/udacity-aws-mle/venv/lib/python3.7/site-packages/lightgbm/engine.py:239: UserWarning: 'verbose_eval' argument is deprecated and will be removed in a future release of LightGBM. Pass 'log_evaluation()' callback via 'callbacks' argument instead.\n",
      "  _log_warning(\"'verbose_eval' argument is deprecated and will be removed in a future release of LightGBM. \"\n",
      "\t0.29s\t = Training runtime\n",
      "Fitting model: RandomForestMSE_BAG_L2_FULL ...\n",
      "\t-36.3926\t = Validation root_mean_squared_error score\n",
      "\t14.22s\t = Training runtime\n",
      "\t0.48s\t = Validation runtime\n",
      "Fitting model: CatBoost_BAG_L2_FULL ...\n",
      "\t1.74s\t = Training runtime\n",
      "Fitting model: ExtraTreesMSE_BAG_L2_FULL ...\n",
      "\t-35.9602\t = Validation root_mean_squared_error score\n",
      "\t4.22s\t = Training runtime\n",
      "\t0.46s\t = Validation runtime\n",
      "Fitting model: NeuralNetFastAI_BAG_L2_FULL ...\n",
      "/Users/Victor/Projects/udacity-aws-mle/venv/lib/python3.7/site-packages/torch/overrides.py:1351: DeprecationWarning: Defining your `__torch_function__ as a plain method is deprecated and will be an error in PyTorch 1.11, please define it as a classmethod.\n",
      "  DeprecationWarning)\n",
      "\tStopping at the best epoch learned earlier - 21.\n",
      "\t8.89s\t = Training runtime\n",
      "Fitting model: XGBoost_BAG_L2_FULL ...\n",
      "\t1.69s\t = Training runtime\n",
      "Fitting model: NeuralNetMXNet_BAG_L2_FULL ...\n",
      "\t9.49s\t = Training runtime\n",
      "Fitting model: LightGBMLarge_BAG_L2_FULL ...\n",
      "/Users/Victor/Projects/udacity-aws-mle/venv/lib/python3.7/site-packages/lightgbm/engine.py:239: UserWarning: 'verbose_eval' argument is deprecated and will be removed in a future release of LightGBM. Pass 'log_evaluation()' callback via 'callbacks' argument instead.\n",
      "  _log_warning(\"'verbose_eval' argument is deprecated and will be removed in a future release of LightGBM. \"\n",
      "\t0.81s\t = Training runtime\n",
      "Fitting model: WeightedEnsemble_L3_FULL ...\n",
      "\t-35.2467\t = Validation root_mean_squared_error score\n",
      "\t0.61s\t = Training runtime\n",
      "\t0.0s\t = Validation runtime\n",
      "TabularPredictor saved. To load, use: predictor = TabularPredictor.load(\"../models/models4/\")\n",
      "/Users/Victor/Projects/udacity-aws-mle/venv/lib/python3.7/site-packages/pandas/core/arrays/categorical.py:2631: FutureWarning: The `inplace` parameter in pandas.Categorical.set_categories is deprecated and will be removed in a future version. Removing unused categories will always return a new Categorical object.\n",
      "  res = method(*args, **kwargs)\n",
      "/Users/Victor/Projects/udacity-aws-mle/venv/lib/python3.7/site-packages/pandas/core/arrays/categorical.py:2631: FutureWarning: The `inplace` parameter in pandas.Categorical.rename_categories is deprecated and will be removed in a future version. Removing unused categories will always return a new Categorical object.\n",
      "  res = method(*args, **kwargs)\n"
     ]
    },
    {
     "name": "stdout",
     "output_type": "stream",
     "text": [
      "*** Summary of fit() ***\n",
      "Estimated performance of each model:\n",
      "                          model   score_val  pred_time_val     fit_time  pred_time_val_marginal  fit_time_marginal  stack_level  can_infer  fit_order\n",
      "0           WeightedEnsemble_L3  -35.246741      22.696684  1977.115206                0.001275           1.341323            3      False         24\n",
      "1           WeightedEnsemble_L2  -35.273886      14.125942  1272.411789                0.001149           1.044281            2      False         12\n",
      "2        NeuralNetFastAI_BAG_L2  -35.358874      16.390510  1566.155380                0.403930         116.931265            2      False         20\n",
      "3               CatBoost_BAG_L2  -35.876807      16.051420  1471.886620                0.064841          22.662505            2      False         18\n",
      "4          ExtraTreesMSE_BAG_L2  -35.960173      16.479458  1453.508408                0.492879           4.284294            2      False         19\n",
      "5     ExtraTreesMSE_BAG_L2_FULL  -35.960173            NaN    65.733063                0.463247           4.216195            2       True         43\n",
      "6               LightGBM_BAG_L2  -36.010496      16.086217  1454.751355                0.099638           5.527241            2      False         16\n",
      "7         NeuralNetMXNet_BAG_L2  -36.362597      17.494540  1789.820365                1.507961         340.596251            2      False         22\n",
      "8        RandomForestMSE_BAG_L2  -36.392601      16.516831  1463.567509                0.530252          14.343395            2      False         17\n",
      "9   RandomForestMSE_BAG_L2_FULL  -36.392601            NaN    75.737173                0.479409          14.220304            2       True         41\n",
      "10               XGBoost_BAG_L2  -36.417425      16.141392  1491.290889                0.154813          42.066774            2      False         21\n",
      "11            LightGBMXT_BAG_L2  -36.453134      16.137034  1455.204561                0.150455           5.980447            2      False         15\n",
      "12         LightGBMLarge_BAG_L2  -36.913007      16.148128  1463.077115                0.161549          13.853001            2      False         23\n",
      "13         LightGBMLarge_BAG_L1  -37.185519       0.856858    29.837017                0.856858          29.837017            1      False         11\n",
      "14              LightGBM_BAG_L1  -37.408451       1.502091    22.925685                1.502091          22.925685            1      False          4\n",
      "15        KNeighborsDist_BAG_L2  -37.703708      20.070985  1449.232793                4.084406           0.008679            2      False         14\n",
      "16   KNeighborsDist_BAG_L2_FULL  -37.703708            NaN    61.521965                3.594258           0.005096            2       True         38\n",
      "17        KNeighborsUnif_BAG_L2  -37.711676      19.799804  1449.234346                3.813225           0.010232            2      False         13\n",
      "18   KNeighborsUnif_BAG_L2_FULL  -37.711676            NaN    61.522650                3.628802           0.005782            2       True         37\n",
      "19              CatBoost_BAG_L1  -37.719158       0.102173   140.606797                0.102173         140.606797            1      False          6\n",
      "20        NeuralNetMXNet_BAG_L1  -38.949068       1.478579   970.967031                1.478579         970.967031            1      False         10\n",
      "21               XGBoost_BAG_L1  -38.997004       0.210165    55.932427                0.210165          55.932427            1      False          9\n",
      "22         ExtraTreesMSE_BAG_L1  -41.541269       0.425625     2.252608                0.425625           2.252608            1      False          7\n",
      "23    ExtraTreesMSE_BAG_L1_FULL  -41.541269       0.428302     2.313616                0.428302           2.313616            1       True         31\n",
      "24       RandomForestMSE_BAG_L1  -42.144674       0.435381     4.220658                0.435381           4.220658            1      False          5\n",
      "25  RandomForestMSE_BAG_L1_FULL  -42.144674       0.439851     4.272931                0.439851           4.272931            1       True         29\n",
      "26       NeuralNetFastAI_BAG_L1  -47.138720       0.361122   115.415528                0.361122         115.415528            1      False          8\n",
      "27            LightGBMXT_BAG_L1  -52.192965      10.185093   107.030977               10.185093         107.030977            1      False          3\n",
      "28   KNeighborsDist_BAG_L1_FULL -118.287112       0.107988     0.009798                0.107988           0.009798            1       True         26\n",
      "29        KNeighborsDist_BAG_L1 -118.287112       0.219360     0.011145                0.219360           0.011145            1      False          2\n",
      "30   KNeighborsUnif_BAG_L1_FULL -122.927707       0.111673     0.010926                0.111673           0.010926            1       True         25\n",
      "31        KNeighborsUnif_BAG_L1 -122.927707       0.210133     0.024241                0.210133           0.024241            1      False          1\n",
      "32          XGBoost_BAG_L2_FULL         NaN            NaN    63.204291                     NaN           1.687423            2       True         45\n",
      "33          XGBoost_BAG_L1_FULL         NaN            NaN     4.854479                     NaN           4.854479            1       True         33\n",
      "34     WeightedEnsemble_L3_FULL         NaN            NaN    88.158163                0.001292           0.610951            3       True         48\n",
      "35     WeightedEnsemble_L2_FULL         NaN            NaN    39.007446                0.001125           0.410107            2       True         36\n",
      "36   NeuralNetMXNet_BAG_L2_FULL         NaN            NaN    71.005513                     NaN           9.488645            2       True         46\n",
      "37   NeuralNetMXNet_BAG_L1_FULL         NaN            NaN    10.023879                     NaN          10.023879            1       True         34\n",
      "38  NeuralNetFastAI_BAG_L2_FULL         NaN            NaN    70.406821                     NaN           8.889952            2       True         44\n",
      "39  NeuralNetFastAI_BAG_L1_FULL         NaN            NaN    11.457780                     NaN          11.457780            1       True         32\n",
      "40         LightGBM_BAG_L2_FULL         NaN            NaN    61.804494                     NaN           0.287626            2       True         40\n",
      "41         LightGBM_BAG_L1_FULL         NaN            NaN     1.702312                     NaN           1.702312            1       True         28\n",
      "42       LightGBMXT_BAG_L2_FULL         NaN            NaN    61.854290                     NaN           0.337422            2       True         39\n",
      "43       LightGBMXT_BAG_L1_FULL         NaN            NaN     8.093577                     NaN           8.093577            1       True         27\n",
      "44    LightGBMLarge_BAG_L2_FULL         NaN            NaN    62.331296                     NaN           0.814428            2       True         47\n",
      "45    LightGBMLarge_BAG_L1_FULL         NaN            NaN     2.467739                     NaN           2.467739            1       True         35\n",
      "46         CatBoost_BAG_L2_FULL         NaN            NaN    63.259902                     NaN           1.743033            2       True         42\n",
      "47         CatBoost_BAG_L1_FULL         NaN            NaN    16.309832                     NaN          16.309832            1       True         30\n",
      "Number of models trained: 48\n",
      "Types of models trained:\n",
      "{'StackerEnsembleModel_LGB', 'StackerEnsembleModel_XT', 'StackerEnsembleModel_RF', 'StackerEnsembleModel_CatBoost', 'StackerEnsembleModel_NNFastAiTabular', 'StackerEnsembleModel_TabularNeuralNet', 'WeightedEnsembleModel', 'StackerEnsembleModel_XGBoost', 'StackerEnsembleModel_KNN'}\n",
      "Bagging used: True  (with 10 folds)\n",
      "Multi-layer stack-ensembling used: True  (with 3 levels)\n",
      "Feature Metadata (Processed):\n",
      "(raw dtype, special dtypes):\n",
      "('category', []) : 3 | ['holiday', 'workingday', 'weather']\n",
      "('float', [])    : 3 | ['temp', 'atemp', 'windspeed']\n",
      "('int', [])      : 9 | ['humidity', 'season_1', 'season_2', 'season_3', 'season_4', ...]\n",
      "Plot summary of models saved to file: ../models/models4/SummaryOfModels.html\n",
      "*** End of fit() summary ***\n"
     ]
    },
    {
     "name": "stdout",
     "output_type": "stream",
     "text": [
      "{'model_types': {'KNeighborsUnif_BAG_L1': 'StackerEnsembleModel_KNN', 'KNeighborsDist_BAG_L1': 'StackerEnsembleModel_KNN', 'LightGBMXT_BAG_L1': 'StackerEnsembleModel_LGB', 'LightGBM_BAG_L1': 'StackerEnsembleModel_LGB', 'RandomForestMSE_BAG_L1': 'StackerEnsembleModel_RF', 'CatBoost_BAG_L1': 'StackerEnsembleModel_CatBoost', 'ExtraTreesMSE_BAG_L1': 'StackerEnsembleModel_XT', 'NeuralNetFastAI_BAG_L1': 'StackerEnsembleModel_NNFastAiTabular', 'XGBoost_BAG_L1': 'StackerEnsembleModel_XGBoost', 'NeuralNetMXNet_BAG_L1': 'StackerEnsembleModel_TabularNeuralNet', 'LightGBMLarge_BAG_L1': 'StackerEnsembleModel_LGB', 'WeightedEnsemble_L2': 'WeightedEnsembleModel', 'KNeighborsUnif_BAG_L2': 'StackerEnsembleModel_KNN', 'KNeighborsDist_BAG_L2': 'StackerEnsembleModel_KNN', 'LightGBMXT_BAG_L2': 'StackerEnsembleModel_LGB', 'LightGBM_BAG_L2': 'StackerEnsembleModel_LGB', 'RandomForestMSE_BAG_L2': 'StackerEnsembleModel_RF', 'CatBoost_BAG_L2': 'StackerEnsembleModel_CatBoost', 'ExtraTreesMSE_BAG_L2': 'StackerEnsembleModel_XT', 'NeuralNetFastAI_BAG_L2': 'StackerEnsembleModel_NNFastAiTabular', 'XGBoost_BAG_L2': 'StackerEnsembleModel_XGBoost', 'NeuralNetMXNet_BAG_L2': 'StackerEnsembleModel_TabularNeuralNet', 'LightGBMLarge_BAG_L2': 'StackerEnsembleModel_LGB', 'WeightedEnsemble_L3': 'WeightedEnsembleModel', 'KNeighborsUnif_BAG_L1_FULL': 'StackerEnsembleModel_KNN', 'KNeighborsDist_BAG_L1_FULL': 'StackerEnsembleModel_KNN', 'LightGBMXT_BAG_L1_FULL': 'StackerEnsembleModel_LGB', 'LightGBM_BAG_L1_FULL': 'StackerEnsembleModel_LGB', 'RandomForestMSE_BAG_L1_FULL': 'StackerEnsembleModel_RF', 'CatBoost_BAG_L1_FULL': 'StackerEnsembleModel_CatBoost', 'ExtraTreesMSE_BAG_L1_FULL': 'StackerEnsembleModel_XT', 'NeuralNetFastAI_BAG_L1_FULL': 'StackerEnsembleModel_NNFastAiTabular', 'XGBoost_BAG_L1_FULL': 'StackerEnsembleModel_XGBoost', 'NeuralNetMXNet_BAG_L1_FULL': 'StackerEnsembleModel_TabularNeuralNet', 'LightGBMLarge_BAG_L1_FULL': 'StackerEnsembleModel_LGB', 'WeightedEnsemble_L2_FULL': 'WeightedEnsembleModel', 'KNeighborsUnif_BAG_L2_FULL': 'StackerEnsembleModel_KNN', 'KNeighborsDist_BAG_L2_FULL': 'StackerEnsembleModel_KNN', 'LightGBMXT_BAG_L2_FULL': 'StackerEnsembleModel_LGB', 'LightGBM_BAG_L2_FULL': 'StackerEnsembleModel_LGB', 'RandomForestMSE_BAG_L2_FULL': 'StackerEnsembleModel_RF', 'CatBoost_BAG_L2_FULL': 'StackerEnsembleModel_CatBoost', 'ExtraTreesMSE_BAG_L2_FULL': 'StackerEnsembleModel_XT', 'NeuralNetFastAI_BAG_L2_FULL': 'StackerEnsembleModel_NNFastAiTabular', 'XGBoost_BAG_L2_FULL': 'StackerEnsembleModel_XGBoost', 'NeuralNetMXNet_BAG_L2_FULL': 'StackerEnsembleModel_TabularNeuralNet', 'LightGBMLarge_BAG_L2_FULL': 'StackerEnsembleModel_LGB', 'WeightedEnsemble_L3_FULL': 'WeightedEnsembleModel'}, 'model_performance': {'KNeighborsUnif_BAG_L1': -122.92770672740845, 'KNeighborsDist_BAG_L1': -118.2871121489958, 'LightGBMXT_BAG_L1': -52.19296521631089, 'LightGBM_BAG_L1': -37.40845090285911, 'RandomForestMSE_BAG_L1': -42.144674379862124, 'CatBoost_BAG_L1': -37.71915750592416, 'ExtraTreesMSE_BAG_L1': -41.54126873985164, 'NeuralNetFastAI_BAG_L1': -47.13871980007702, 'XGBoost_BAG_L1': -38.997004196750616, 'NeuralNetMXNet_BAG_L1': -38.94906804667284, 'LightGBMLarge_BAG_L1': -37.18551949956822, 'WeightedEnsemble_L2': -35.27388571970136, 'KNeighborsUnif_BAG_L2': -37.71167589919339, 'KNeighborsDist_BAG_L2': -37.70370796086423, 'LightGBMXT_BAG_L2': -36.45313385513971, 'LightGBM_BAG_L2': -36.01049611963311, 'RandomForestMSE_BAG_L2': -36.39260100917912, 'CatBoost_BAG_L2': -35.876806729957316, 'ExtraTreesMSE_BAG_L2': -35.9601730017646, 'NeuralNetFastAI_BAG_L2': -35.358874406383066, 'XGBoost_BAG_L2': -36.41742482357037, 'NeuralNetMXNet_BAG_L2': -36.36259717353408, 'LightGBMLarge_BAG_L2': -36.913006718531115, 'WeightedEnsemble_L3': -35.246741016918804, 'KNeighborsUnif_BAG_L1_FULL': -122.92770672740845, 'KNeighborsDist_BAG_L1_FULL': -118.2871121489958, 'LightGBMXT_BAG_L1_FULL': None, 'LightGBM_BAG_L1_FULL': None, 'RandomForestMSE_BAG_L1_FULL': -42.144674379862124, 'CatBoost_BAG_L1_FULL': None, 'ExtraTreesMSE_BAG_L1_FULL': -41.54126873985164, 'NeuralNetFastAI_BAG_L1_FULL': None, 'XGBoost_BAG_L1_FULL': None, 'NeuralNetMXNet_BAG_L1_FULL': None, 'LightGBMLarge_BAG_L1_FULL': None, 'WeightedEnsemble_L2_FULL': None, 'KNeighborsUnif_BAG_L2_FULL': -37.71167589919339, 'KNeighborsDist_BAG_L2_FULL': -37.70370796086423, 'LightGBMXT_BAG_L2_FULL': None, 'LightGBM_BAG_L2_FULL': None, 'RandomForestMSE_BAG_L2_FULL': -36.39260100917912, 'CatBoost_BAG_L2_FULL': None, 'ExtraTreesMSE_BAG_L2_FULL': -35.9601730017646, 'NeuralNetFastAI_BAG_L2_FULL': None, 'XGBoost_BAG_L2_FULL': None, 'NeuralNetMXNet_BAG_L2_FULL': None, 'LightGBMLarge_BAG_L2_FULL': None, 'WeightedEnsemble_L3_FULL': None}, 'model_best': 'WeightedEnsemble_L3_FULL', 'model_paths': {'KNeighborsUnif_BAG_L1': '../models/models4/models/KNeighborsUnif_BAG_L1/', 'KNeighborsDist_BAG_L1': '../models/models4/models/KNeighborsDist_BAG_L1/', 'LightGBMXT_BAG_L1': '../models/models4/models/LightGBMXT_BAG_L1/', 'LightGBM_BAG_L1': '../models/models4/models/LightGBM_BAG_L1/', 'RandomForestMSE_BAG_L1': '../models/models4/models/RandomForestMSE_BAG_L1/', 'CatBoost_BAG_L1': '../models/models4/models/CatBoost_BAG_L1/', 'ExtraTreesMSE_BAG_L1': '../models/models4/models/ExtraTreesMSE_BAG_L1/', 'NeuralNetFastAI_BAG_L1': '../models/models4/models/NeuralNetFastAI_BAG_L1/', 'XGBoost_BAG_L1': '../models/models4/models/XGBoost_BAG_L1/', 'NeuralNetMXNet_BAG_L1': '../models/models4/models/NeuralNetMXNet_BAG_L1/', 'LightGBMLarge_BAG_L1': '../models/models4/models/LightGBMLarge_BAG_L1/', 'WeightedEnsemble_L2': '../models/models4/models/WeightedEnsemble_L2/', 'KNeighborsUnif_BAG_L2': '../models/models4/models/KNeighborsUnif_BAG_L2/', 'KNeighborsDist_BAG_L2': '../models/models4/models/KNeighborsDist_BAG_L2/', 'LightGBMXT_BAG_L2': '../models/models4/models/LightGBMXT_BAG_L2/', 'LightGBM_BAG_L2': '../models/models4/models/LightGBM_BAG_L2/', 'RandomForestMSE_BAG_L2': '../models/models4/models/RandomForestMSE_BAG_L2/', 'CatBoost_BAG_L2': '../models/models4/models/CatBoost_BAG_L2/', 'ExtraTreesMSE_BAG_L2': '../models/models4/models/ExtraTreesMSE_BAG_L2/', 'NeuralNetFastAI_BAG_L2': '../models/models4/models/NeuralNetFastAI_BAG_L2/', 'XGBoost_BAG_L2': '../models/models4/models/XGBoost_BAG_L2/', 'NeuralNetMXNet_BAG_L2': '../models/models4/models/NeuralNetMXNet_BAG_L2/', 'LightGBMLarge_BAG_L2': '../models/models4/models/LightGBMLarge_BAG_L2/', 'WeightedEnsemble_L3': '../models/models4/models/WeightedEnsemble_L3/', 'KNeighborsUnif_BAG_L1_FULL': '../models/models4/models/KNeighborsUnif_BAG_L1_FULL/', 'KNeighborsDist_BAG_L1_FULL': '../models/models4/models/KNeighborsDist_BAG_L1_FULL/', 'LightGBMXT_BAG_L1_FULL': '../models/models4/models/LightGBMXT_BAG_L1_FULL/', 'LightGBM_BAG_L1_FULL': '../models/models4/models/LightGBM_BAG_L1_FULL/', 'RandomForestMSE_BAG_L1_FULL': '../models/models4/models/RandomForestMSE_BAG_L1_FULL/', 'CatBoost_BAG_L1_FULL': '../models/models4/models/CatBoost_BAG_L1_FULL/', 'ExtraTreesMSE_BAG_L1_FULL': '../models/models4/models/ExtraTreesMSE_BAG_L1_FULL/', 'NeuralNetFastAI_BAG_L1_FULL': '../models/models4/models/NeuralNetFastAI_BAG_L1_FULL/', 'XGBoost_BAG_L1_FULL': '../models/models4/models/XGBoost_BAG_L1_FULL/', 'NeuralNetMXNet_BAG_L1_FULL': '../models/models4/models/NeuralNetMXNet_BAG_L1_FULL/', 'LightGBMLarge_BAG_L1_FULL': '../models/models4/models/LightGBMLarge_BAG_L1_FULL/', 'WeightedEnsemble_L2_FULL': '../models/models4/models/WeightedEnsemble_L2_FULL/', 'KNeighborsUnif_BAG_L2_FULL': '../models/models4/models/KNeighborsUnif_BAG_L2_FULL/', 'KNeighborsDist_BAG_L2_FULL': '../models/models4/models/KNeighborsDist_BAG_L2_FULL/', 'LightGBMXT_BAG_L2_FULL': '../models/models4/models/LightGBMXT_BAG_L2_FULL/', 'LightGBM_BAG_L2_FULL': '../models/models4/models/LightGBM_BAG_L2_FULL/', 'RandomForestMSE_BAG_L2_FULL': '../models/models4/models/RandomForestMSE_BAG_L2_FULL/', 'CatBoost_BAG_L2_FULL': '../models/models4/models/CatBoost_BAG_L2_FULL/', 'ExtraTreesMSE_BAG_L2_FULL': '../models/models4/models/ExtraTreesMSE_BAG_L2_FULL/', 'NeuralNetFastAI_BAG_L2_FULL': '../models/models4/models/NeuralNetFastAI_BAG_L2_FULL/', 'XGBoost_BAG_L2_FULL': '../models/models4/models/XGBoost_BAG_L2_FULL/', 'NeuralNetMXNet_BAG_L2_FULL': '../models/models4/models/NeuralNetMXNet_BAG_L2_FULL/', 'LightGBMLarge_BAG_L2_FULL': '../models/models4/models/LightGBMLarge_BAG_L2_FULL/', 'WeightedEnsemble_L3_FULL': '../models/models4/models/WeightedEnsemble_L3_FULL/'}, 'model_fit_times': {'KNeighborsUnif_BAG_L1': 0.024240970611572266, 'KNeighborsDist_BAG_L1': 0.01114511489868164, 'LightGBMXT_BAG_L1': 107.03097724914551, 'LightGBM_BAG_L1': 22.9256854057312, 'RandomForestMSE_BAG_L1': 4.22065806388855, 'CatBoost_BAG_L1': 140.60679745674133, 'ExtraTreesMSE_BAG_L1': 2.252607822418213, 'NeuralNetFastAI_BAG_L1': 115.41552782058716, 'XGBoost_BAG_L1': 55.93242692947388, 'NeuralNetMXNet_BAG_L1': 970.9670305252075, 'LightGBMLarge_BAG_L1': 29.837016820907593, 'WeightedEnsemble_L2': 1.044281244277954, 'KNeighborsUnif_BAG_L2': 0.010232210159301758, 'KNeighborsDist_BAG_L2': 0.00867915153503418, 'LightGBMXT_BAG_L2': 5.980447292327881, 'LightGBM_BAG_L2': 5.527240753173828, 'RandomForestMSE_BAG_L2': 14.343394994735718, 'CatBoost_BAG_L2': 22.662505388259888, 'ExtraTreesMSE_BAG_L2': 4.28429388999939, 'NeuralNetFastAI_BAG_L2': 116.9312653541565, 'XGBoost_BAG_L2': 42.06677436828613, 'NeuralNetMXNet_BAG_L2': 340.5962505340576, 'LightGBMLarge_BAG_L2': 13.85300087928772, 'WeightedEnsemble_L3': 1.3413231372833252, 'KNeighborsUnif_BAG_L1_FULL': 0.010925769805908203, 'KNeighborsDist_BAG_L1_FULL': 0.009798049926757812, 'LightGBMXT_BAG_L1_FULL': 8.093576908111572, 'LightGBM_BAG_L1_FULL': 1.7023119926452637, 'RandomForestMSE_BAG_L1_FULL': 4.272931098937988, 'CatBoost_BAG_L1_FULL': 16.309831857681274, 'ExtraTreesMSE_BAG_L1_FULL': 2.3136160373687744, 'NeuralNetFastAI_BAG_L1_FULL': 11.457779884338379, 'XGBoost_BAG_L1_FULL': 4.854479074478149, 'NeuralNetMXNet_BAG_L1_FULL': 10.023879051208496, 'LightGBMLarge_BAG_L1_FULL': 2.4677388668060303, 'WeightedEnsemble_L2_FULL': 0.410106897354126, 'KNeighborsUnif_BAG_L2_FULL': 0.005781888961791992, 'KNeighborsDist_BAG_L2_FULL': 0.005095958709716797, 'LightGBMXT_BAG_L2_FULL': 0.33742189407348633, 'LightGBM_BAG_L2_FULL': 0.287625789642334, 'RandomForestMSE_BAG_L2_FULL': 14.220304012298584, 'CatBoost_BAG_L2_FULL': 1.7430331707000732, 'ExtraTreesMSE_BAG_L2_FULL': 4.2161948680877686, 'NeuralNetFastAI_BAG_L2_FULL': 8.889951944351196, 'XGBoost_BAG_L2_FULL': 1.687422752380371, 'NeuralNetMXNet_BAG_L2_FULL': 9.48864483833313, 'LightGBMLarge_BAG_L2_FULL': 0.8144278526306152, 'WeightedEnsemble_L3_FULL': 0.6109509468078613}, 'model_pred_times': {'KNeighborsUnif_BAG_L1': 0.21013307571411133, 'KNeighborsDist_BAG_L1': 0.2193598747253418, 'LightGBMXT_BAG_L1': 10.185092687606812, 'LightGBM_BAG_L1': 1.5020906925201416, 'RandomForestMSE_BAG_L1': 0.4353809356689453, 'CatBoost_BAG_L1': 0.1021728515625, 'ExtraTreesMSE_BAG_L1': 0.4256250858306885, 'NeuralNetFastAI_BAG_L1': 0.36112189292907715, 'XGBoost_BAG_L1': 0.21016478538513184, 'NeuralNetMXNet_BAG_L1': 1.4785792827606201, 'LightGBMLarge_BAG_L1': 0.8568580150604248, 'WeightedEnsemble_L2': 0.0011489391326904297, 'KNeighborsUnif_BAG_L2': 3.813225030899048, 'KNeighborsDist_BAG_L2': 4.084406137466431, 'LightGBMXT_BAG_L2': 0.15045475959777832, 'LightGBM_BAG_L2': 0.09963774681091309, 'RandomForestMSE_BAG_L2': 0.5302519798278809, 'CatBoost_BAG_L2': 0.06484055519104004, 'ExtraTreesMSE_BAG_L2': 0.49287915229797363, 'NeuralNetFastAI_BAG_L2': 0.4039304256439209, 'XGBoost_BAG_L2': 0.15481281280517578, 'NeuralNetMXNet_BAG_L2': 1.5079612731933594, 'LightGBMLarge_BAG_L2': 0.16154885292053223, 'WeightedEnsemble_L3': 0.0012748241424560547, 'KNeighborsUnif_BAG_L1_FULL': 0.11167287826538086, 'KNeighborsDist_BAG_L1_FULL': 0.10798788070678711, 'LightGBMXT_BAG_L1_FULL': None, 'LightGBM_BAG_L1_FULL': None, 'RandomForestMSE_BAG_L1_FULL': 0.4398510456085205, 'CatBoost_BAG_L1_FULL': None, 'ExtraTreesMSE_BAG_L1_FULL': 0.4283020496368408, 'NeuralNetFastAI_BAG_L1_FULL': None, 'XGBoost_BAG_L1_FULL': None, 'NeuralNetMXNet_BAG_L1_FULL': None, 'LightGBMLarge_BAG_L1_FULL': None, 'WeightedEnsemble_L2_FULL': 0.0011248588562011719, 'KNeighborsUnif_BAG_L2_FULL': 3.6288020610809326, 'KNeighborsDist_BAG_L2_FULL': 3.5942583084106445, 'LightGBMXT_BAG_L2_FULL': None, 'LightGBM_BAG_L2_FULL': None, 'RandomForestMSE_BAG_L2_FULL': 0.47940897941589355, 'CatBoost_BAG_L2_FULL': None, 'ExtraTreesMSE_BAG_L2_FULL': 0.46324706077575684, 'NeuralNetFastAI_BAG_L2_FULL': None, 'XGBoost_BAG_L2_FULL': None, 'NeuralNetMXNet_BAG_L2_FULL': None, 'LightGBMLarge_BAG_L2_FULL': None, 'WeightedEnsemble_L3_FULL': 0.0012919902801513672}, 'num_bag_folds': 10, 'max_stack_level': 3, 'model_hyperparams': {'KNeighborsUnif_BAG_L1': {'use_orig_features': True, 'max_base_models': 25, 'max_base_models_per_type': 5, 'save_bag_folds': False, 'use_child_oof': True}, 'KNeighborsDist_BAG_L1': {'use_orig_features': True, 'max_base_models': 25, 'max_base_models_per_type': 5, 'save_bag_folds': False, 'use_child_oof': True}, 'LightGBMXT_BAG_L1': {'use_orig_features': True, 'max_base_models': 25, 'max_base_models_per_type': 5, 'save_bag_folds': False}, 'LightGBM_BAG_L1': {'use_orig_features': True, 'max_base_models': 25, 'max_base_models_per_type': 5, 'save_bag_folds': False}, 'RandomForestMSE_BAG_L1': {'use_orig_features': True, 'max_base_models': 25, 'max_base_models_per_type': 5, 'save_bag_folds': False, 'use_child_oof': True}, 'CatBoost_BAG_L1': {'use_orig_features': True, 'max_base_models': 25, 'max_base_models_per_type': 5, 'save_bag_folds': False}, 'ExtraTreesMSE_BAG_L1': {'use_orig_features': True, 'max_base_models': 25, 'max_base_models_per_type': 5, 'save_bag_folds': False, 'use_child_oof': True}, 'NeuralNetFastAI_BAG_L1': {'use_orig_features': True, 'max_base_models': 25, 'max_base_models_per_type': 5, 'save_bag_folds': False}, 'XGBoost_BAG_L1': {'use_orig_features': True, 'max_base_models': 25, 'max_base_models_per_type': 5, 'save_bag_folds': False}, 'NeuralNetMXNet_BAG_L1': {'use_orig_features': True, 'max_base_models': 25, 'max_base_models_per_type': 5, 'save_bag_folds': False}, 'LightGBMLarge_BAG_L1': {'use_orig_features': True, 'max_base_models': 25, 'max_base_models_per_type': 5, 'save_bag_folds': False}, 'WeightedEnsemble_L2': {'use_orig_features': False, 'max_base_models': 25, 'max_base_models_per_type': 5, 'save_bag_folds': False}, 'KNeighborsUnif_BAG_L2': {'use_orig_features': True, 'max_base_models': 25, 'max_base_models_per_type': 5, 'save_bag_folds': False, 'use_child_oof': True}, 'KNeighborsDist_BAG_L2': {'use_orig_features': True, 'max_base_models': 25, 'max_base_models_per_type': 5, 'save_bag_folds': False, 'use_child_oof': True}, 'LightGBMXT_BAG_L2': {'use_orig_features': True, 'max_base_models': 25, 'max_base_models_per_type': 5, 'save_bag_folds': False}, 'LightGBM_BAG_L2': {'use_orig_features': True, 'max_base_models': 25, 'max_base_models_per_type': 5, 'save_bag_folds': False}, 'RandomForestMSE_BAG_L2': {'use_orig_features': True, 'max_base_models': 25, 'max_base_models_per_type': 5, 'save_bag_folds': False, 'use_child_oof': True}, 'CatBoost_BAG_L2': {'use_orig_features': True, 'max_base_models': 25, 'max_base_models_per_type': 5, 'save_bag_folds': False}, 'ExtraTreesMSE_BAG_L2': {'use_orig_features': True, 'max_base_models': 25, 'max_base_models_per_type': 5, 'save_bag_folds': False, 'use_child_oof': True}, 'NeuralNetFastAI_BAG_L2': {'use_orig_features': True, 'max_base_models': 25, 'max_base_models_per_type': 5, 'save_bag_folds': False}, 'XGBoost_BAG_L2': {'use_orig_features': True, 'max_base_models': 25, 'max_base_models_per_type': 5, 'save_bag_folds': False}, 'NeuralNetMXNet_BAG_L2': {'use_orig_features': True, 'max_base_models': 25, 'max_base_models_per_type': 5, 'save_bag_folds': False}, 'LightGBMLarge_BAG_L2': {'use_orig_features': True, 'max_base_models': 25, 'max_base_models_per_type': 5, 'save_bag_folds': False}, 'WeightedEnsemble_L3': {'use_orig_features': False, 'max_base_models': 25, 'max_base_models_per_type': 5, 'save_bag_folds': False}, 'KNeighborsUnif_BAG_L1_FULL': {'use_orig_features': True, 'max_base_models': 25, 'max_base_models_per_type': 5, 'save_bag_folds': True, 'use_child_oof': True}, 'KNeighborsDist_BAG_L1_FULL': {'use_orig_features': True, 'max_base_models': 25, 'max_base_models_per_type': 5, 'save_bag_folds': True, 'use_child_oof': True}, 'LightGBMXT_BAG_L1_FULL': {'use_orig_features': True, 'max_base_models': 25, 'max_base_models_per_type': 5, 'save_bag_folds': True}, 'LightGBM_BAG_L1_FULL': {'use_orig_features': True, 'max_base_models': 25, 'max_base_models_per_type': 5, 'save_bag_folds': True}, 'RandomForestMSE_BAG_L1_FULL': {'use_orig_features': True, 'max_base_models': 25, 'max_base_models_per_type': 5, 'save_bag_folds': True, 'use_child_oof': True}, 'CatBoost_BAG_L1_FULL': {'use_orig_features': True, 'max_base_models': 25, 'max_base_models_per_type': 5, 'save_bag_folds': True}, 'ExtraTreesMSE_BAG_L1_FULL': {'use_orig_features': True, 'max_base_models': 25, 'max_base_models_per_type': 5, 'save_bag_folds': True, 'use_child_oof': True}, 'NeuralNetFastAI_BAG_L1_FULL': {'use_orig_features': True, 'max_base_models': 25, 'max_base_models_per_type': 5, 'save_bag_folds': True}, 'XGBoost_BAG_L1_FULL': {'use_orig_features': True, 'max_base_models': 25, 'max_base_models_per_type': 5, 'save_bag_folds': True}, 'NeuralNetMXNet_BAG_L1_FULL': {'use_orig_features': True, 'max_base_models': 25, 'max_base_models_per_type': 5, 'save_bag_folds': True}, 'LightGBMLarge_BAG_L1_FULL': {'use_orig_features': True, 'max_base_models': 25, 'max_base_models_per_type': 5, 'save_bag_folds': True}, 'WeightedEnsemble_L2_FULL': {'use_orig_features': False, 'max_base_models': 25, 'max_base_models_per_type': 5, 'save_bag_folds': True}, 'KNeighborsUnif_BAG_L2_FULL': {'use_orig_features': True, 'max_base_models': 25, 'max_base_models_per_type': 5, 'save_bag_folds': True, 'use_child_oof': True}, 'KNeighborsDist_BAG_L2_FULL': {'use_orig_features': True, 'max_base_models': 25, 'max_base_models_per_type': 5, 'save_bag_folds': True, 'use_child_oof': True}, 'LightGBMXT_BAG_L2_FULL': {'use_orig_features': True, 'max_base_models': 25, 'max_base_models_per_type': 5, 'save_bag_folds': True}, 'LightGBM_BAG_L2_FULL': {'use_orig_features': True, 'max_base_models': 25, 'max_base_models_per_type': 5, 'save_bag_folds': True}, 'RandomForestMSE_BAG_L2_FULL': {'use_orig_features': True, 'max_base_models': 25, 'max_base_models_per_type': 5, 'save_bag_folds': True, 'use_child_oof': True}, 'CatBoost_BAG_L2_FULL': {'use_orig_features': True, 'max_base_models': 25, 'max_base_models_per_type': 5, 'save_bag_folds': True}, 'ExtraTreesMSE_BAG_L2_FULL': {'use_orig_features': True, 'max_base_models': 25, 'max_base_models_per_type': 5, 'save_bag_folds': True, 'use_child_oof': True}, 'NeuralNetFastAI_BAG_L2_FULL': {'use_orig_features': True, 'max_base_models': 25, 'max_base_models_per_type': 5, 'save_bag_folds': True}, 'XGBoost_BAG_L2_FULL': {'use_orig_features': True, 'max_base_models': 25, 'max_base_models_per_type': 5, 'save_bag_folds': True}, 'NeuralNetMXNet_BAG_L2_FULL': {'use_orig_features': True, 'max_base_models': 25, 'max_base_models_per_type': 5, 'save_bag_folds': True}, 'LightGBMLarge_BAG_L2_FULL': {'use_orig_features': True, 'max_base_models': 25, 'max_base_models_per_type': 5, 'save_bag_folds': True}, 'WeightedEnsemble_L3_FULL': {'use_orig_features': False, 'max_base_models': 25, 'max_base_models_per_type': 5, 'save_bag_folds': True}}, 'leaderboard':                           model   score_val  pred_time_val     fit_time  \\\n",
      "0           WeightedEnsemble_L3  -35.246741      22.696684  1977.115206   \n",
      "1           WeightedEnsemble_L2  -35.273886      14.125942  1272.411789   \n",
      "2        NeuralNetFastAI_BAG_L2  -35.358874      16.390510  1566.155380   \n",
      "3               CatBoost_BAG_L2  -35.876807      16.051420  1471.886620   \n",
      "4          ExtraTreesMSE_BAG_L2  -35.960173      16.479458  1453.508408   \n",
      "5     ExtraTreesMSE_BAG_L2_FULL  -35.960173            NaN    65.733063   \n",
      "6               LightGBM_BAG_L2  -36.010496      16.086217  1454.751355   \n",
      "7         NeuralNetMXNet_BAG_L2  -36.362597      17.494540  1789.820365   \n",
      "8        RandomForestMSE_BAG_L2  -36.392601      16.516831  1463.567509   \n",
      "9   RandomForestMSE_BAG_L2_FULL  -36.392601            NaN    75.737173   \n",
      "10               XGBoost_BAG_L2  -36.417425      16.141392  1491.290889   \n",
      "11            LightGBMXT_BAG_L2  -36.453134      16.137034  1455.204561   \n",
      "12         LightGBMLarge_BAG_L2  -36.913007      16.148128  1463.077115   \n",
      "13         LightGBMLarge_BAG_L1  -37.185519       0.856858    29.837017   \n",
      "14              LightGBM_BAG_L1  -37.408451       1.502091    22.925685   \n",
      "15        KNeighborsDist_BAG_L2  -37.703708      20.070985  1449.232793   \n",
      "16   KNeighborsDist_BAG_L2_FULL  -37.703708            NaN    61.521965   \n",
      "17        KNeighborsUnif_BAG_L2  -37.711676      19.799804  1449.234346   \n",
      "18   KNeighborsUnif_BAG_L2_FULL  -37.711676            NaN    61.522650   \n",
      "19              CatBoost_BAG_L1  -37.719158       0.102173   140.606797   \n",
      "20        NeuralNetMXNet_BAG_L1  -38.949068       1.478579   970.967031   \n",
      "21               XGBoost_BAG_L1  -38.997004       0.210165    55.932427   \n",
      "22         ExtraTreesMSE_BAG_L1  -41.541269       0.425625     2.252608   \n",
      "23    ExtraTreesMSE_BAG_L1_FULL  -41.541269       0.428302     2.313616   \n",
      "24       RandomForestMSE_BAG_L1  -42.144674       0.435381     4.220658   \n",
      "25  RandomForestMSE_BAG_L1_FULL  -42.144674       0.439851     4.272931   \n",
      "26       NeuralNetFastAI_BAG_L1  -47.138720       0.361122   115.415528   \n",
      "27            LightGBMXT_BAG_L1  -52.192965      10.185093   107.030977   \n",
      "28   KNeighborsDist_BAG_L1_FULL -118.287112       0.107988     0.009798   \n",
      "29        KNeighborsDist_BAG_L1 -118.287112       0.219360     0.011145   \n",
      "30   KNeighborsUnif_BAG_L1_FULL -122.927707       0.111673     0.010926   \n",
      "31        KNeighborsUnif_BAG_L1 -122.927707       0.210133     0.024241   \n",
      "32          XGBoost_BAG_L2_FULL         NaN            NaN    63.204291   \n",
      "33          XGBoost_BAG_L1_FULL         NaN            NaN     4.854479   \n",
      "34     WeightedEnsemble_L3_FULL         NaN            NaN    88.158163   \n",
      "35     WeightedEnsemble_L2_FULL         NaN            NaN    39.007446   \n",
      "36   NeuralNetMXNet_BAG_L2_FULL         NaN            NaN    71.005513   \n",
      "37   NeuralNetMXNet_BAG_L1_FULL         NaN            NaN    10.023879   \n",
      "38  NeuralNetFastAI_BAG_L2_FULL         NaN            NaN    70.406821   \n",
      "39  NeuralNetFastAI_BAG_L1_FULL         NaN            NaN    11.457780   \n",
      "40         LightGBM_BAG_L2_FULL         NaN            NaN    61.804494   \n",
      "41         LightGBM_BAG_L1_FULL         NaN            NaN     1.702312   \n",
      "42       LightGBMXT_BAG_L2_FULL         NaN            NaN    61.854290   \n",
      "43       LightGBMXT_BAG_L1_FULL         NaN            NaN     8.093577   \n",
      "44    LightGBMLarge_BAG_L2_FULL         NaN            NaN    62.331296   \n",
      "45    LightGBMLarge_BAG_L1_FULL         NaN            NaN     2.467739   \n",
      "46         CatBoost_BAG_L2_FULL         NaN            NaN    63.259902   \n",
      "47         CatBoost_BAG_L1_FULL         NaN            NaN    16.309832   \n",
      "\n",
      "    pred_time_val_marginal  fit_time_marginal  stack_level  can_infer  \\\n",
      "0                 0.001275           1.341323            3      False   \n",
      "1                 0.001149           1.044281            2      False   \n",
      "2                 0.403930         116.931265            2      False   \n",
      "3                 0.064841          22.662505            2      False   \n",
      "4                 0.492879           4.284294            2      False   \n",
      "5                 0.463247           4.216195            2       True   \n",
      "6                 0.099638           5.527241            2      False   \n",
      "7                 1.507961         340.596251            2      False   \n",
      "8                 0.530252          14.343395            2      False   \n",
      "9                 0.479409          14.220304            2       True   \n",
      "10                0.154813          42.066774            2      False   \n",
      "11                0.150455           5.980447            2      False   \n",
      "12                0.161549          13.853001            2      False   \n",
      "13                0.856858          29.837017            1      False   \n",
      "14                1.502091          22.925685            1      False   \n",
      "15                4.084406           0.008679            2      False   \n",
      "16                3.594258           0.005096            2       True   \n",
      "17                3.813225           0.010232            2      False   \n",
      "18                3.628802           0.005782            2       True   \n",
      "19                0.102173         140.606797            1      False   \n",
      "20                1.478579         970.967031            1      False   \n",
      "21                0.210165          55.932427            1      False   \n",
      "22                0.425625           2.252608            1      False   \n",
      "23                0.428302           2.313616            1       True   \n",
      "24                0.435381           4.220658            1      False   \n",
      "25                0.439851           4.272931            1       True   \n",
      "26                0.361122         115.415528            1      False   \n",
      "27               10.185093         107.030977            1      False   \n",
      "28                0.107988           0.009798            1       True   \n",
      "29                0.219360           0.011145            1      False   \n",
      "30                0.111673           0.010926            1       True   \n",
      "31                0.210133           0.024241            1      False   \n",
      "32                     NaN           1.687423            2       True   \n",
      "33                     NaN           4.854479            1       True   \n",
      "34                0.001292           0.610951            3       True   \n",
      "35                0.001125           0.410107            2       True   \n",
      "36                     NaN           9.488645            2       True   \n",
      "37                     NaN          10.023879            1       True   \n",
      "38                     NaN           8.889952            2       True   \n",
      "39                     NaN          11.457780            1       True   \n",
      "40                     NaN           0.287626            2       True   \n",
      "41                     NaN           1.702312            1       True   \n",
      "42                     NaN           0.337422            2       True   \n",
      "43                     NaN           8.093577            1       True   \n",
      "44                     NaN           0.814428            2       True   \n",
      "45                     NaN           2.467739            1       True   \n",
      "46                     NaN           1.743033            2       True   \n",
      "47                     NaN          16.309832            1       True   \n",
      "\n",
      "    fit_order  \n",
      "0          24  \n",
      "1          12  \n",
      "2          20  \n",
      "3          18  \n",
      "4          19  \n",
      "5          43  \n",
      "6          16  \n",
      "7          22  \n",
      "8          17  \n",
      "9          41  \n",
      "10         21  \n",
      "11         15  \n",
      "12         23  \n",
      "13         11  \n",
      "14          4  \n",
      "15         14  \n",
      "16         38  \n",
      "17         13  \n",
      "18         37  \n",
      "19          6  \n",
      "20         10  \n",
      "21          9  \n",
      "22          7  \n",
      "23         31  \n",
      "24          5  \n",
      "25         29  \n",
      "26          8  \n",
      "27          3  \n",
      "28         26  \n",
      "29          2  \n",
      "30         25  \n",
      "31          1  \n",
      "32         45  \n",
      "33         33  \n",
      "34         48  \n",
      "35         36  \n",
      "36         46  \n",
      "37         34  \n",
      "38         44  \n",
      "39         32  \n",
      "40         40  \n",
      "41         28  \n",
      "42         39  \n",
      "43         27  \n",
      "44         47  \n",
      "45         35  \n",
      "46         42  \n",
      "47         30  }\n"
     ]
    }
   ],
   "source": [
    "train_and_predict(4, train_data, test_data, presets='high_quality_fast_inference_only_refit')\n"
   ]
  },
  {
   "cell_type": "code",
   "execution_count": 85,
   "metadata": {},
   "outputs": [
    {
     "name": "stdout",
     "output_type": "stream",
     "text": [
      "100%|████████████████████████████████████████| 149k/149k [00:03<00:00, 38.3kB/s]\n",
      "Successfully submitted to Bike Sharing Demand"
     ]
    }
   ],
   "source": [
    "!kaggle competitions submit -c bike-sharing-demand -f ../datasets/my_submission4.csv -m \"Fourth submission with optimized parameters for TabularPredictor(presets=best_quality) and data after feature engineering\"\n",
    "\n"
   ]
  },
  {
   "cell_type": "code",
   "execution_count": null,
   "metadata": {},
   "outputs": [],
   "source": []
  },
  {
   "cell_type": "markdown",
   "metadata": {},
   "source": [
    "## Competition Report\n"
   ]
  },
  {
   "cell_type": "code",
   "execution_count": 30,
   "metadata": {},
   "outputs": [
    {
     "name": "stdout",
     "output_type": "stream",
     "text": [
      "fileName            date                 description                                                                                                                                            status    publicScore  privateScore  \r\n",
      "------------------  -------------------  -----------------------------------------------------------------------------------------------------------------------------------------------------  --------  -----------  ------------  \r\n",
      "my_submission4.csv  2021-11-14 00:15:19  Fourth submission with optimized parameters for TabularPredictor(presets='high_quality_fast_inference_only_refit') and data after feature engineering  complete  0.59103      0.59103       \r\n",
      "my_submission3.csv  2021-11-13 23:35:26  Third submission with optimized parameters for TabularPredictor(presets=best_quality) and data after feature engineering                               complete  0.45566      0.45566       \r\n",
      "my_submission2.csv  2021-11-13 22:26:37  Second submission with default parameters for TabularPredictor and data after feature engineering                                                      complete  0.49043      0.49043       \r\n",
      "my_submission1.csv  2021-11-13 21:27:58  First submission with default parameters for TabularPredictor and no feature engineering                                                               complete  1.52422      1.52422       \r\n"
     ]
    }
   ],
   "source": [
    "# Fetch the submission scores from Kaggle\n",
    "!kaggle competitions submissions -c bike-sharing-demand | head -n 6"
   ]
  },
  {
   "cell_type": "markdown",
   "metadata": {},
   "source": [
    "### Tuned Paramter (Presets) and Kaggle Scores"
   ]
  },
  {
   "cell_type": "markdown",
   "metadata": {},
   "source": [
    "| Presets                                | Data Condition     | Kaggle Score | Scenario     |\n",
    "|----------------------------------------|--------------------|--------------|--------------|\n",
    "| medium_quality_faster_train            | Raw                | 1.52422      | Base         |\n",
    "| medium_quality_faster_train            | Feature Engineered | 0.49043      | Add Features |\n",
    "| high_quality_fast_inference_only_refit | Feature Engineered | 0.59103      | HPO1         |\n",
    "| best_quality                           | Feature Engineered | 0.45566      | HPO2         |"
   ]
  },
  {
   "cell_type": "code",
   "execution_count": 31,
   "metadata": {},
   "outputs": [
    {
     "data": {
      "text/html": [
       "<div>\n",
       "<style scoped>\n",
       "    .dataframe tbody tr th:only-of-type {\n",
       "        vertical-align: middle;\n",
       "    }\n",
       "\n",
       "    .dataframe tbody tr th {\n",
       "        vertical-align: top;\n",
       "    }\n",
       "\n",
       "    .dataframe thead th {\n",
       "        text-align: right;\n",
       "    }\n",
       "</style>\n",
       "<table border=\"1\" class=\"dataframe\">\n",
       "  <thead>\n",
       "    <tr style=\"text-align: right;\">\n",
       "      <th></th>\n",
       "      <th>Presets</th>\n",
       "      <th>Data Condition</th>\n",
       "      <th>Kaggle Score</th>\n",
       "      <th>Scenario</th>\n",
       "    </tr>\n",
       "  </thead>\n",
       "  <tbody>\n",
       "    <tr>\n",
       "      <th>0</th>\n",
       "      <td>medium_quality_faster_train</td>\n",
       "      <td>Raw</td>\n",
       "      <td>1.52422</td>\n",
       "      <td>Base</td>\n",
       "    </tr>\n",
       "    <tr>\n",
       "      <th>1</th>\n",
       "      <td>medium_quality_faster_train</td>\n",
       "      <td>Feature Engineered</td>\n",
       "      <td>0.49043</td>\n",
       "      <td>Add Features</td>\n",
       "    </tr>\n",
       "    <tr>\n",
       "      <th>2</th>\n",
       "      <td>high_quality_fast_inference_only_refit</td>\n",
       "      <td>Feature Engineered</td>\n",
       "      <td>0.59103</td>\n",
       "      <td>HPO1</td>\n",
       "    </tr>\n",
       "    <tr>\n",
       "      <th>3</th>\n",
       "      <td>best_quality</td>\n",
       "      <td>Feature Engineered</td>\n",
       "      <td>0.45566</td>\n",
       "      <td>HPO2</td>\n",
       "    </tr>\n",
       "  </tbody>\n",
       "</table>\n",
       "</div>"
      ],
      "text/plain": [
       "                                  Presets       Data Condition  Kaggle Score  \\\n",
       "0             medium_quality_faster_train                  Raw       1.52422   \n",
       "1             medium_quality_faster_train   Feature Engineered       0.49043   \n",
       "2  high_quality_fast_inference_only_refit  Feature Engineered        0.59103   \n",
       "3                            best_quality  Feature Engineered        0.45566   \n",
       "\n",
       "       Scenario  \n",
       "0          Base  \n",
       "1  Add Features  \n",
       "2          HPO1  \n",
       "3          HPO2  "
      ]
     },
     "execution_count": 31,
     "metadata": {},
     "output_type": "execute_result"
    }
   ],
   "source": [
    "#### Graphing\n",
    "analysis_data = pd.read_csv('../datasets/Bike_sharing_scores.csv')\n",
    "analysis_data.head()"
   ]
  },
  {
   "cell_type": "code",
   "execution_count": 32,
   "metadata": {},
   "outputs": [
    {
     "data": {
      "image/png": "[encoded data removed]",
      "text/plain": [
       "<Figure size 432x288 with 1 Axes>"
      ]
     },
     "metadata": {
      "needs_background": "light"
     },
     "output_type": "display_data"
    }
   ],
   "source": [
    "plt.plot(analysis_data['Scenario'], analysis_data['Kaggle Score'])\n",
    "plt.show()"
   ]
  },
  {
   "cell_type": "markdown",
   "metadata": {},
   "source": [
    "### The Best Performing Model\n",
    "The Autogluon TabularPredictor makes use of many models and uses the Ensemble technique to come up with the best result. In the first training round, no model was specified. Autogluon TabularPredictor used the default models:\n",
    "\n",
    "'CatBoostModel', 'WeightedEnsembleModel', 'LGBModel', 'KNNModel', 'XTModel', 'XGBoostModel', 'RFModel', 'NNFastAiTabularModel'\n",
    "\n",
    "Of all these WeightedEnsembleModel had the best performance, followed by XGBoostModel.\n",
    "\n"
   ]
  },
  {
   "cell_type": "markdown",
   "metadata": {},
   "source": [
    "### Feature Engineering\n",
    "\n",
    "A bit of Feature Engineering was done to improve the perfoemance of the predictors.\n",
    "\n",
    "The first one is the One-hot encoding of `season` into categorical data. \n",
    "The second one is the convertion of `weather` from numeric to categorical data., using Pandas `astype` function. The direct effect of these changes is the high score recorded. In addition, the datetime field is decomposed into its constituent values."
   ]
  },
  {
   "cell_type": "markdown",
   "metadata": {},
   "source": [
    "### Hyperparameter Tuning\n",
    "\n",
    "The basic parameter that is tuned here is the `presets`. Values used include `medium_quality_faster_train` (default), `high_quality_fast_inference_only_refit` and `best_quality`. The graph shows improvements in the Kaggle score as we varied the value of the parameter"
   ]
  },
  {
   "cell_type": "code",
   "execution_count": 33,
   "metadata": {},
   "outputs": [
    {
     "name": "stdout",
     "output_type": "stream",
     "text": [
      "[NbConvertApp] Converting notebook bike-sharing.ipynb to html\n",
      "[NbConvertApp] Writing 921873 bytes to bike-sharing.html\n"
     ]
    }
   ],
   "source": [
    "!jupyter nbconvert --to html bike-sharing.ipynb"
   ]
  },
  {
   "cell_type": "code",
   "execution_count": null,
   "metadata": {},
   "outputs": [],
   "source": []
  }
 ],
 "metadata": {
  "kernelspec": {
   "display_name": "Python 3 (ipykernel)",
   "language": "python",
   "name": "python3"
  },
  "language_info": {
   "codemirror_mode": {
    "name": "ipython",
    "version": 3
   },
   "file_extension": ".py",
   "mimetype": "text/x-python",
   "name": "python",
   "nbconvert_exporter": "python",
   "pygments_lexer": "ipython3",
   "version": "3.7.6"
  }
 },
 "nbformat": 4,
 "nbformat_minor": 4
}
